{
 "cells": [
  {
   "cell_type": "markdown",
   "metadata": {},
   "source": [
    "<br>\n",
    "\n",
    "## Post Correspondence Problem \n",
    "https://en.wikipedia.org/wiki/Post_correspondence_problem#:~:text=The%20Post%20correspondence%20problem%20is%20an%20undecidable%20decision,it%20is%20often%20used%20in%20proofs%20of%20undecidability.<br>\n",
    "https://docs.python.org/3/library/itertools.html <br>\n",
    "https://github.com/ianmcloughlin/post_correspondence\n",
    "***"
   ]
  },
  {
   "cell_type": "code",
   "execution_count": 6,
   "metadata": {},
   "outputs": [],
   "source": [
    "import itertools as it"
   ]
  },
  {
   "cell_type": "code",
   "execution_count": 2,
   "metadata": {},
   "outputs": [],
   "source": [
    "def bpcp_solver(L1, L2, k):\n",
    "\n",
    "    # The generators.\n",
    "    gens = []\n",
    "    \n",
    "    # holdders for each possible combination of elements for L1 & L2\n",
    "    str1 = []\n",
    "    str2 = []\n",
    "    \n",
    "    # holders for the concatanated strings of each element\n",
    "    str1ConCat = []\n",
    "    str2ConCat = []\n",
    "    \n",
    "    # empty sets\n",
    "    L3={}\n",
    "    L4={} \n",
    "\n",
    "    # loop through all possible solutions.\n",
    "    # if you multiply a list by an integer you get, a list cotaining the elements of the orignal list repated\n",
    "    # that numbers of times\n",
    "    for i in range(1, k + 1):\n",
    "        # creates a generator for solutions of length i, append it to gens.\n",
    "        gens.append(it.product(*([range(len(L1))] * i)))\n",
    "\n",
    "    # chain just chains generators together\n",
    "    for solution in it.chain(*gens):\n",
    "        str1.append([''.join(L1[i]) for i in solution])\n",
    "        str2.append([''.join(L2[i]) for i in solution])\n",
    "    \n",
    "    # concatenate the strings with in each element for str1 and str2\n",
    "    for str in str1:\n",
    "        str1ConCat.append((\"\".join(str)))\n",
    "    for str in str2:\n",
    "        str2ConCat.append((\"\".join(str)))\n",
    "    \n",
    "    # converts list to set\n",
    "    L3 = set(str1ConCat)\n",
    "    L4 = set(str2ConCat)\n",
    "    \n",
    "    # for each element in the \n",
    "    #for i in range(0,len(str1ConCat)):\n",
    "    if(set.intersection(L3,L4)):\n",
    "        return True\n",
    "    else:\n",
    "        return False"
   ]
  },
  {
   "cell_type": "code",
   "execution_count": 3,
   "metadata": {},
   "outputs": [],
   "source": [
    "a = 'a'\n",
    "b = 'b'\n",
    "L1 = ((b),(b, b),(b, b, b))\n",
    "L2 = ((b, a, a),(a, a),(b, b))"
   ]
  },
  {
   "cell_type": "code",
   "execution_count": null,
   "metadata": {},
   "outputs": [],
   "source": [
    "bpcp_solver(L1, L2, 2)"
   ]
  },
  {
   "cell_type": "code",
   "execution_count": null,
   "metadata": {},
   "outputs": [],
   "source": []
  },
  {
   "cell_type": "code",
   "execution_count": null,
   "metadata": {},
   "outputs": [],
   "source": []
  }
 ],
 "metadata": {
  "kernelspec": {
   "display_name": "Python 3",
   "language": "python",
   "name": "python3"
  },
  "language_info": {
   "codemirror_mode": {
    "name": "ipython",
    "version": 3
   },
   "file_extension": ".py",
   "mimetype": "text/x-python",
   "name": "python",
   "nbconvert_exporter": "python",
   "pygments_lexer": "ipython3",
   "version": "3.8.5"
  }
 },
 "nbformat": 4,
 "nbformat_minor": 4
}
