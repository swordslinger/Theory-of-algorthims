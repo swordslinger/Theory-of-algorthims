{
 "cells": [
  {
   "cell_type": "markdown",
   "metadata": {},
   "source": [
    "<br>\n",
    "\n",
    "# Post Correspondence Problem \n",
    "https://docs.python.org/3/library/itertools.html <br>\n",
    "https://github.com/ianmcloughlin/post_correspondence\n",
    "***"
   ]
  },
  {
   "cell_type": "markdown",
   "metadata": {},
   "source": [
    "<br>\n",
    "\n",
    "## What is the Post Correspondence problem ?\n",
    "\n",
    "***"
   ]
  },
  {
   "cell_type": "markdown",
   "metadata": {},
   "source": [
    "[1] The post correspondence problem was called a \"Recursively unsolvable problem\" written by Emil L. in the 1940's. In its essence it was determined that when you take incidies of two lists of strings over the same alphabet of the same length and concanate the values of indicies for each respective set that you rae not gurnateed too always find a solution."
   ]
  },
  {
   "cell_type": "markdown",
   "metadata": {},
   "source": [
    "<br>\n",
    "\n",
    "## Solvable Post Correspondence example\n",
    "\n",
    "\n",
    "***"
   ]
  },
  {
   "cell_type": "code",
   "execution_count": 1,
   "metadata": {},
   "outputs": [],
   "source": [
    "# Alphabet of two sets \n",
    "A = {'a','b'}"
   ]
  },
  {
   "cell_type": "code",
   "execution_count": 2,
   "metadata": {},
   "outputs": [],
   "source": [
    "# L1 \n",
    "l1 = ['a','ab','bba']"
   ]
  },
  {
   "cell_type": "code",
   "execution_count": 3,
   "metadata": {},
   "outputs": [],
   "source": [
    "# L2\n",
    "l2 = ['baa','aa','bb']"
   ]
  },
  {
   "cell_type": "code",
   "execution_count": 4,
   "metadata": {},
   "outputs": [],
   "source": [
    "# indicies of elemets for solution\n",
    "s = [2,1,2,0]"
   ]
  },
  {
   "cell_type": "code",
   "execution_count": 5,
   "metadata": {},
   "outputs": [],
   "source": [
    "# based on list of incidies, concanates the elemnts at each postion and returns the concanated string\n",
    "def apply(S,L):\n",
    "    S1 = [L[i] for i in s]\n",
    "    return ''.join(S1)"
   ]
  },
  {
   "cell_type": "code",
   "execution_count": 6,
   "metadata": {},
   "outputs": [
    {
     "data": {
      "text/plain": [
       "'bbaabbbaa'"
      ]
     },
     "execution_count": 6,
     "metadata": {},
     "output_type": "execute_result"
    }
   ],
   "source": [
    "# applies list of incidies to l1\n",
    "apply(s,l1)"
   ]
  },
  {
   "cell_type": "code",
   "execution_count": 7,
   "metadata": {},
   "outputs": [
    {
     "data": {
      "text/plain": [
       "'bbaabbbaa'"
      ]
     },
     "execution_count": 7,
     "metadata": {},
     "output_type": "execute_result"
    }
   ],
   "source": [
    "# applies list of incidies to l2\n",
    "apply(s,l1)"
   ]
  },
  {
   "cell_type": "code",
   "execution_count": 8,
   "metadata": {},
   "outputs": [
    {
     "data": {
      "text/plain": [
       "True"
      ]
     },
     "execution_count": 8,
     "metadata": {},
     "output_type": "execute_result"
    }
   ],
   "source": [
    "# check too ensure the concancated strings match\n",
    "apply(s,l1) == apply(s,l2)"
   ]
  },
  {
   "cell_type": "markdown",
   "metadata": {},
   "source": [
    "This returned true we know that in this example that it is solable. But in some cases you can have an infinte number of pssabilies and those it it's is undeciable if it can be solved or not."
   ]
  },
  {
   "cell_type": "code",
   "execution_count": 9,
   "metadata": {},
   "outputs": [],
   "source": [
    "s = [2,1,2,0,2,1,2,0]"
   ]
  },
  {
   "cell_type": "code",
   "execution_count": 10,
   "metadata": {},
   "outputs": [
    {
     "data": {
      "text/plain": [
       "'bbaabbbaabbaabbbaa'"
      ]
     },
     "execution_count": 10,
     "metadata": {},
     "output_type": "execute_result"
    }
   ],
   "source": [
    "# applies list of incidies to l1\n",
    "apply(s,l1)"
   ]
  },
  {
   "cell_type": "code",
   "execution_count": 11,
   "metadata": {},
   "outputs": [
    {
     "data": {
      "text/plain": [
       "'bbaabbbaabbaabbbaa'"
      ]
     },
     "execution_count": 11,
     "metadata": {},
     "output_type": "execute_result"
    }
   ],
   "source": [
    "# applies list of incidies to l2\n",
    "apply(s,l1)"
   ]
  },
  {
   "cell_type": "code",
   "execution_count": 12,
   "metadata": {},
   "outputs": [
    {
     "data": {
      "text/plain": [
       "True"
      ]
     },
     "execution_count": 12,
     "metadata": {},
     "output_type": "execute_result"
    }
   ],
   "source": [
    "# check too ensure the concancated strings match\n",
    "apply(s,l1) == apply(s,l2)"
   ]
  },
  {
   "cell_type": "markdown",
   "metadata": {},
   "source": [
    "Another thing of note is that if a particular instance of the PCP is solvalbe, it means that solutioon space is infinte as the indicides can keep repeating."
   ]
  },
  {
   "cell_type": "markdown",
   "metadata": {},
   "source": [
    "<br>\n",
    "\n",
    "### Un-Solvable Post Correspondence example"
   ]
  },
  {
   "cell_type": "code",
   "execution_count": 13,
   "metadata": {},
   "outputs": [],
   "source": [
    "# L3\n",
    "l3 = ['ab','bba']"
   ]
  },
  {
   "cell_type": "code",
   "execution_count": 14,
   "metadata": {},
   "outputs": [],
   "source": [
    "# L4\n",
    "l4 = ['aa', 'bb']"
   ]
  },
  {
   "cell_type": "markdown",
   "metadata": {},
   "source": [
    "indicies list  <br>\n",
    "s = ?"
   ]
  },
  {
   "cell_type": "markdown",
   "metadata": {},
   "source": [
    "Unforunately you cant as S (the combination of indicies) in this example if infinite, without the indciies it is undeciable if this has a solution or not."
   ]
  },
  {
   "cell_type": "markdown",
   "metadata": {},
   "source": [
    "$$(l_1,l_2) \\rightarrow \\{True,False\\} \\quad |L_1|=|L_2| $$"
   ]
  },
  {
   "cell_type": "markdown",
   "metadata": {},
   "source": [
    "<br>\n",
    "\n",
    "## Bounded Post Correspondence Problem\n",
    "\n",
    "***"
   ]
  },
  {
   "cell_type": "markdown",
   "metadata": {},
   "source": [
    "What is the bounded post correspondence problem?: <br>\n",
    "    [2] The BPCP at is very similar to the PCP with the differencen being that the number of incidies in         s is set a fixed length K. a consquence of this is that their is no longer an infinite number of  possabilties, by setting fixed size it create's a finite solution space."
   ]
  },
  {
   "cell_type": "code",
   "execution_count": null,
   "metadata": {},
   "outputs": [],
   "source": []
  },
  {
   "cell_type": "markdown",
   "metadata": {},
   "source": [
    "<br>\n",
    "\n",
    "### Bounded Post Correspondence Problem Solution\n",
    "\n",
    "***"
   ]
  },
  {
   "cell_type": "code",
   "execution_count": 15,
   "metadata": {},
   "outputs": [],
   "source": [
    "import itertools as it"
   ]
  },
  {
   "cell_type": "code",
   "execution_count": 16,
   "metadata": {},
   "outputs": [],
   "source": [
    "# Holder for the generators.\n",
    "gens = []\n",
    "    \n",
    "# holders for each possible combination of elements for L1 & L2\n",
    "str1 = []\n",
    "str2 = []\n",
    "    \n",
    "# holders for the concatanated strings of each element\n",
    "str1ConCat = []\n",
    "str2ConCat = []\n",
    "    \n",
    "# empty sets\n",
    "L3={}\n",
    "L4={} \n"
   ]
  },
  {
   "cell_type": "code",
   "execution_count": 29,
   "metadata": {},
   "outputs": [],
   "source": [
    "def bpcp_solver(L1, L2, k):\n",
    "\n",
    "    # loop through all possible solutions.\n",
    "    # if you multiply a list by an integer you get, a list cotaining the elements of the orignal list repated\n",
    "    # that numbers of times\n",
    "    for i in range(1, k + 1):\n",
    "        # creates a generator for solutions of length i, append it to gens.\n",
    "        gens.append(it.product(*([range(len(L1))] * i)))\n",
    "        \n",
    "        \n",
    "\n",
    "    # chain just chains generators together\n",
    "    for solution in it.chain(*gens):\n",
    "        str1.append([''.join(L1[i]) for i in solution])\n",
    "        str2.append([''.join(L2[i]) for i in solution])\n",
    "        \n",
    "        \n",
    "   # print(str1)\n",
    "    \n",
    "    # concatenate the strings with in each element for str1 and str2\n",
    "    for str in str1:\n",
    "        str1ConCat.append((\"\".join(str)))\n",
    "    for str in str2:\n",
    "        str2ConCat.append((\"\".join(str)))\n",
    "    \n",
    "    # converts list to set\n",
    "    L3 = set(str1ConCat)\n",
    "    L4 = set(str2ConCat)\n",
    "    \n",
    "    # for each element in the \n",
    "    #for i in range(0,len(str1ConCat)):\n",
    "    if(set.intersection(L3,L4)):\n",
    "        return True\n",
    "    else:\n",
    "        return False"
   ]
  },
  {
   "cell_type": "code",
   "execution_count": 22,
   "metadata": {},
   "outputs": [
    {
     "data": {
      "text/plain": [
       "'    \\nfor i in range(1, k + 1):\\n        # creates a generator for solutions of length i, append it to gens.\\n        gens.append(it.product(*([range(len(L1))] * i)))\"\\n'"
      ]
     },
     "execution_count": 22,
     "metadata": {},
     "output_type": "execute_result"
    }
   ],
   "source": [
    "'''    \n",
    "for i in range(1, k + 1):\n",
    "        # creates a generator for solutions of length i, append it to gens.\n",
    "        gens.append(it.product(*([range(len(L1))] * i)))\"\n",
    "'''"
   ]
  },
  {
   "cell_type": "markdown",
   "metadata": {},
   "source": [
    "This block of code generates the solution spaces for based on the k value, gen[0] will be when the size of the k of s is = 1 until it reachs the passed in value."
   ]
  },
  {
   "cell_type": "code",
   "execution_count": null,
   "metadata": {},
   "outputs": [],
   "source": [
    "'''  \n",
    "# chain just chains generators together\n",
    "for solution in it.chain(*gens):\n",
    "    str1.append([''.join(L1[i]) for i in solution])\n",
    "    str2.append([''.join(L2[i]) for i in solution])\n",
    "'''  "
   ]
  },
  {
   "cell_type": "markdown",
   "metadata": {},
   "source": [
    "This block of code populates each possible cominbation of elements into its respective list."
   ]
  },
  {
   "cell_type": "code",
   "execution_count": 26,
   "metadata": {},
   "outputs": [
    {
     "data": {
      "text/plain": [
       "'  \\n# concatenate the strings with in each element for str1 and str2\\n    for str in str1:\\n        str1ConCat.append((\"\".join(str)))\\n    for str in str2:\\n        str2ConCat.append((\"\".join(str)))\\n'"
      ]
     },
     "execution_count": 26,
     "metadata": {},
     "output_type": "execute_result"
    }
   ],
   "source": [
    "'''  \n",
    "# concatenate the strings with in each element for str1 and str2\n",
    "    for str in str1:\n",
    "        str1ConCat.append((\"\".join(str)))\n",
    "    for str in str2:\n",
    "        str2ConCat.append((\"\".join(str)))\n",
    "''' "
   ]
  },
  {
   "cell_type": "markdown",
   "metadata": {},
   "source": [
    "Here each string within each element in the list is concanated together to produce the same effect as when the indicies are applied to lists too get each combination"
   ]
  },
  {
   "cell_type": "code",
   "execution_count": null,
   "metadata": {},
   "outputs": [],
   "source": [
    "''' \n",
    "    # converts list to set\n",
    "    L3 = set(str1ConCat)\n",
    "    L4 = set(str2ConCat)\n",
    "    \n",
    "    # for each element in the \n",
    "    #for i in range(0,len(str1ConCat)):\n",
    "    if(set.intersection(L3,L4)):\n",
    "        return True\n",
    "    else:\n",
    "        return False\n",
    "''' "
   ]
  },
  {
   "cell_type": "markdown",
   "metadata": {},
   "source": [
    "Lastly this list of concanctated strings is converted too sets to remove dupliciates and allows too avail of the intersection method too check if either set has a shared concantenation, if does its solvalbe, if it doesnt, its not solavable."
   ]
  },
  {
   "cell_type": "code",
   "execution_count": null,
   "metadata": {},
   "outputs": [],
   "source": [
    "\n",
    "L1 = ['a','ab','bba']\n",
    "L2 = ['baa','aa','bb']"
   ]
  },
  {
   "cell_type": "code",
   "execution_count": null,
   "metadata": {},
   "outputs": [],
   "source": [
    "l3 = ['ab','bba']\n",
    "l4 = ['aa', 'bb']"
   ]
  },
  {
   "cell_type": "code",
   "execution_count": 32,
   "metadata": {},
   "outputs": [
    {
     "data": {
      "text/plain": [
       "True"
      ]
     },
     "execution_count": 32,
     "metadata": {},
     "output_type": "execute_result"
    }
   ],
   "source": [
    "bpcp_solver(L1, L2, 4)"
   ]
  },
  {
   "cell_type": "code",
   "execution_count": 31,
   "metadata": {},
   "outputs": [
    {
     "data": {
      "text/plain": [
       "False"
      ]
     },
     "execution_count": 31,
     "metadata": {},
     "output_type": "execute_result"
    }
   ],
   "source": [
    "bpcp_solver(l3, l4, 4)"
   ]
  },
  {
   "cell_type": "markdown",
   "metadata": {},
   "source": [
    "Demonstrated with the examples above you can see this method came too the same conclusions."
   ]
  },
  {
   "cell_type": "markdown",
   "metadata": {},
   "source": [
    "<br>\n",
    "\n",
    "## What is an un-decidable problem?\n",
    "\n",
    "***"
   ]
  },
  {
   "cell_type": "markdown",
   "metadata": {},
   "source": [
    "[3] An undecideable problem in computing is that there is no algorithm  in which for every input you are guranteed a yes/no answer.\n",
    "[4] One the first un-decidable problems in computing was discovered by turing. This was that its impossible for all computing programs too know ahead of time if it will terminate or not.\n",
    "<br>\n",
    "<br>\n",
    "To releate this to the PCP, we have lists for the concanation above, we have some instances where yes two lists do correspond, but well also have instances where it is unknown if they correspond, and because of the ulimited length of S, it would be impossible too to generate a solution for the pcp where in which you can always get a yes/no answer."
   ]
  },
  {
   "cell_type": "markdown",
   "metadata": {},
   "source": [
    "<br>\n",
    "\n",
    "## References\n",
    "\n",
    "***"
   ]
  },
  {
   "cell_type": "markdown",
   "metadata": {},
   "source": [
    "[1] https://www.ams.org/journals/bull/1946-52-04/S0002-9904-1946-08555-9/S0002-9904-1946-08555-9.pdf\n",
    "<br>\n",
    "[2] https://en.wikipedia.org/wiki/Post_correspondence_problem#cite_note-GJ79-7 (furher references needed)\n",
    "<br>\n",
    "[4]https://en.wikipedia.org/wiki/Undecidable_problem\n",
    "<br>\n",
    "[3] https://www.wolframscience.com/prizes/tm23/images/Turing.pdf"
   ]
  },
  {
   "cell_type": "code",
   "execution_count": null,
   "metadata": {},
   "outputs": [],
   "source": []
  },
  {
   "cell_type": "code",
   "execution_count": null,
   "metadata": {},
   "outputs": [],
   "source": []
  }
 ],
 "metadata": {
  "kernelspec": {
   "display_name": "Python 3",
   "language": "python",
   "name": "python3"
  },
  "language_info": {
   "codemirror_mode": {
    "name": "ipython",
    "version": 3
   },
   "file_extension": ".py",
   "mimetype": "text/x-python",
   "name": "python",
   "nbconvert_exporter": "python",
   "pygments_lexer": "ipython3",
   "version": "3.8.5"
  }
 },
 "nbformat": 4,
 "nbformat_minor": 4
}
