{
 "cells": [
  {
   "cell_type": "markdown",
   "metadata": {},
   "source": [
    "<br>\n",
    "\n",
    "# Post Correspondence Problem \n",
    "https://en.wikipedia.org/wiki/Post_correspondence_problem#:~:text=The%20Post%20correspondence%20problem%20is%20an%20undecidable%20decision,it%20is%20often%20used%20in%20proofs%20of%20undecidability.<br>\n",
    "https://docs.python.org/3/library/itertools.html <br>\n",
    "https://github.com/ianmcloughlin/post_correspondence\n",
    "***"
   ]
  },
  {
   "cell_type": "markdown",
   "metadata": {},
   "source": [
    "<br>\n",
    "\n",
    "## What is the Post Correspondence problem ?\n",
    "\n",
    "***"
   ]
  },
  {
   "cell_type": "markdown",
   "metadata": {},
   "source": [
    "[1] The post correspondence problem was called a \"Recursively unsolvable problem\" written by Emil L. in the 1940's. In its essence it was determined that when you take incidies of two lists of strings over the same alphabet of the same length and concanate the values of indicies for each respective set that you rae not gurnateed too always find a solution."
   ]
  },
  {
   "cell_type": "markdown",
   "metadata": {},
   "source": [
    "<br>\n",
    "\n",
    "### Solvable Post Correspondence example\n",
    "\n"
   ]
  },
  {
   "cell_type": "code",
   "execution_count": null,
   "metadata": {},
   "outputs": [],
   "source": [
    "# Alphabet of two sets \n",
    "A = {'a','b'}"
   ]
  },
  {
   "cell_type": "code",
   "execution_count": 11,
   "metadata": {},
   "outputs": [],
   "source": [
    "# L1 \n",
    "l1 = ['a','ab','bba']"
   ]
  },
  {
   "cell_type": "code",
   "execution_count": 12,
   "metadata": {},
   "outputs": [],
   "source": [
    "# L2\n",
    "l2 = ['baa','aa','bb']"
   ]
  },
  {
   "cell_type": "code",
   "execution_count": 15,
   "metadata": {},
   "outputs": [],
   "source": [
    "# indicies of elemets for solution\n",
    "s = [2,1,2,0]"
   ]
  },
  {
   "cell_type": "code",
   "execution_count": 13,
   "metadata": {},
   "outputs": [],
   "source": [
    "# based on list of incidies, concanates the elemnts at each postion and returns the concanated string\n",
    "def apply(S,L):\n",
    "    S1 = [L[i] for i in s]\n",
    "    return ''.join(S1)"
   ]
  },
  {
   "cell_type": "code",
   "execution_count": 17,
   "metadata": {},
   "outputs": [
    {
     "data": {
      "text/plain": [
       "'bbaabbbaa'"
      ]
     },
     "execution_count": 17,
     "metadata": {},
     "output_type": "execute_result"
    }
   ],
   "source": [
    "# applies list of incidies to l1\n",
    "apply(s,l1)"
   ]
  },
  {
   "cell_type": "code",
   "execution_count": 16,
   "metadata": {},
   "outputs": [
    {
     "data": {
      "text/plain": [
       "'bbaabbbaa'"
      ]
     },
     "execution_count": 16,
     "metadata": {},
     "output_type": "execute_result"
    }
   ],
   "source": [
    "# applies list of incidies to l2\n",
    "apply(s,l1)"
   ]
  },
  {
   "cell_type": "code",
   "execution_count": 18,
   "metadata": {},
   "outputs": [
    {
     "data": {
      "text/plain": [
       "True"
      ]
     },
     "execution_count": 18,
     "metadata": {},
     "output_type": "execute_result"
    }
   ],
   "source": [
    "# check too ensure the concancated strings match\n",
    "apply(s,l1) == apply(s,l2)"
   ]
  },
  {
   "cell_type": "markdown",
   "metadata": {},
   "source": [
    "This returned true we know that in this example that it is solable. But in some cases you can have an infinte number of pssabilies and those it it's is undeciable if it can be solved or not."
   ]
  },
  {
   "cell_type": "code",
   "execution_count": 19,
   "metadata": {},
   "outputs": [],
   "source": [
    "s = [2,1,2,0,2,1,2,0]"
   ]
  },
  {
   "cell_type": "code",
   "execution_count": 20,
   "metadata": {},
   "outputs": [
    {
     "data": {
      "text/plain": [
       "'bbaabbbaabbaabbbaa'"
      ]
     },
     "execution_count": 20,
     "metadata": {},
     "output_type": "execute_result"
    }
   ],
   "source": [
    "# applies list of incidies to l1\n",
    "apply(s,l1)"
   ]
  },
  {
   "cell_type": "code",
   "execution_count": 21,
   "metadata": {},
   "outputs": [
    {
     "data": {
      "text/plain": [
       "'bbaabbbaabbaabbbaa'"
      ]
     },
     "execution_count": 21,
     "metadata": {},
     "output_type": "execute_result"
    }
   ],
   "source": [
    "# applies list of incidies to l2\n",
    "apply(s,l1)"
   ]
  },
  {
   "cell_type": "code",
   "execution_count": 22,
   "metadata": {},
   "outputs": [
    {
     "data": {
      "text/plain": [
       "True"
      ]
     },
     "execution_count": 22,
     "metadata": {},
     "output_type": "execute_result"
    }
   ],
   "source": [
    "# check too ensure the concancated strings match\n",
    "apply(s,l1) == apply(s,l2)"
   ]
  },
  {
   "cell_type": "markdown",
   "metadata": {},
   "source": [
    "Another thing of note is that if a particular instance of the PCP is solvalbe, it means that solutioon space is infinte as the indicides can keep repeating."
   ]
  },
  {
   "cell_type": "markdown",
   "metadata": {},
   "source": [
    "<br>\n",
    "\n",
    "## Post Correspondence Problem solved\n",
    "\n",
    "***"
   ]
  },
  {
   "cell_type": "code",
   "execution_count": 6,
   "metadata": {},
   "outputs": [],
   "source": [
    "import itertools as it"
   ]
  },
  {
   "cell_type": "code",
   "execution_count": 2,
   "metadata": {},
   "outputs": [],
   "source": [
    "def bpcp_solver(L1, L2, k):\n",
    "\n",
    "    # The generators.\n",
    "    gens = []\n",
    "    \n",
    "    # holdders for each possible combination of elements for L1 & L2\n",
    "    str1 = []\n",
    "    str2 = []\n",
    "    \n",
    "    # holders for the concatanated strings of each element\n",
    "    str1ConCat = []\n",
    "    str2ConCat = []\n",
    "    \n",
    "    # empty sets\n",
    "    L3={}\n",
    "    L4={} \n",
    "\n",
    "    # loop through all possible solutions.\n",
    "    # if you multiply a list by an integer you get, a list cotaining the elements of the orignal list repated\n",
    "    # that numbers of times\n",
    "    for i in range(1, k + 1):\n",
    "        # creates a generator for solutions of length i, append it to gens.\n",
    "        gens.append(it.product(*([range(len(L1))] * i)))\n",
    "\n",
    "    # chain just chains generators together\n",
    "    for solution in it.chain(*gens):\n",
    "        str1.append([''.join(L1[i]) for i in solution])\n",
    "        str2.append([''.join(L2[i]) for i in solution])\n",
    "    \n",
    "    # concatenate the strings with in each element for str1 and str2\n",
    "    for str in str1:\n",
    "        str1ConCat.append((\"\".join(str)))\n",
    "    for str in str2:\n",
    "        str2ConCat.append((\"\".join(str)))\n",
    "    \n",
    "    # converts list to set\n",
    "    L3 = set(str1ConCat)\n",
    "    L4 = set(str2ConCat)\n",
    "    \n",
    "    # for each element in the \n",
    "    #for i in range(0,len(str1ConCat)):\n",
    "    if(set.intersection(L3,L4)):\n",
    "        return True\n",
    "    else:\n",
    "        return False"
   ]
  },
  {
   "cell_type": "code",
   "execution_count": 3,
   "metadata": {},
   "outputs": [],
   "source": [
    "a = 'a'\n",
    "b = 'b'\n",
    "L1 = ((b),(b, b),(b, b, b))\n",
    "L2 = ((b, a, a),(a, a),(b, b))"
   ]
  },
  {
   "cell_type": "code",
   "execution_count": null,
   "metadata": {},
   "outputs": [],
   "source": [
    "bpcp_solver(L1, L2, 2)"
   ]
  },
  {
   "cell_type": "code",
   "execution_count": null,
   "metadata": {},
   "outputs": [],
   "source": []
  },
  {
   "cell_type": "markdown",
   "metadata": {},
   "source": [
    "<br>\n",
    "\n",
    "## References\n",
    "\n",
    "***"
   ]
  },
  {
   "cell_type": "markdown",
   "metadata": {},
   "source": [
    "[1] https://www.ams.org/journals/bull/1946-52-04/S0002-9904-1946-08555-9/S0002-9904-1946-08555-9.pdf"
   ]
  }
 ],
 "metadata": {
  "kernelspec": {
   "display_name": "Python 3",
   "language": "python",
   "name": "python3"
  },
  "language_info": {
   "codemirror_mode": {
    "name": "ipython",
    "version": 3
   },
   "file_extension": ".py",
   "mimetype": "text/x-python",
   "name": "python",
   "nbconvert_exporter": "python",
   "pygments_lexer": "ipython3",
   "version": "3.8.5"
  }
 },
 "nbformat": 4,
 "nbformat_minor": 4
}
