{
 "cells": [
  {
   "cell_type": "markdown",
   "metadata": {},
   "source": [
    "<h1>Countdown Numbers game<h1>\n",
    "\n",
    "***"
   ]
  },
  {
   "cell_type": "markdown",
   "metadata": {},
   "source": [
    "<h2> Solving the countdown numbers game with functional programming <h2>"
   ]
  },
  {
   "cell_type": "code",
   "execution_count": 24,
   "metadata": {},
   "outputs": [],
   "source": [
    "import random\n",
    "import operator\n",
    "import itertools"
   ]
  },
  {
   "cell_type": "markdown",
   "metadata": {},
   "source": [
    "Game simuation"
   ]
  },
  {
   "cell_type": "code",
   "execution_count": 3,
   "metadata": {},
   "outputs": [
    {
     "data": {
      "text/plain": [
       "[50, 75, 100, 125]"
      ]
     },
     "execution_count": 3,
     "metadata": {},
     "output_type": "execute_result"
    }
   ],
   "source": [
    "# The large numbers\n",
    "large = [50, 75, 100, 125]\n",
    "large"
   ]
  },
  {
   "cell_type": "code",
   "execution_count": 6,
   "metadata": {},
   "outputs": [
    {
     "data": {
      "text/plain": [
       "[1, 2, 3, 4, 5, 6, 7, 8, 9, 10, 1, 2, 3, 4, 5, 6, 7, 8, 9, 10]"
      ]
     },
     "execution_count": 6,
     "metadata": {},
     "output_type": "execute_result"
    }
   ],
   "source": [
    "# The small numbers\n",
    "small = list(range(1, 11)) * 2\n",
    "small"
   ]
  },
  {
   "cell_type": "code",
   "execution_count": 10,
   "metadata": {},
   "outputs": [
    {
     "data": {
      "text/plain": [
       "3"
      ]
     },
     "execution_count": 10,
     "metadata": {},
     "output_type": "execute_result"
    }
   ],
   "source": [
    "# the number of large numbers between 0-4 (inclusive)\n",
    "no_large = random.randrange(0,5)\n",
    "no_large"
   ]
  },
  {
   "cell_type": "code",
   "execution_count": 11,
   "metadata": {},
   "outputs": [
    {
     "data": {
      "text/plain": [
       "[100, 75, 50]"
      ]
     },
     "execution_count": 11,
     "metadata": {},
     "output_type": "execute_result"
    }
   ],
   "source": [
    "# Take a sample of random large numbers\n",
    "large_rand = random.sample(large, no_large)\n",
    "large_rand"
   ]
  },
  {
   "cell_type": "code",
   "execution_count": 15,
   "metadata": {},
   "outputs": [
    {
     "data": {
      "text/plain": [
       "[2, 9, 5]"
      ]
     },
     "execution_count": 15,
     "metadata": {},
     "output_type": "execute_result"
    }
   ],
   "source": [
    "# Take a sample (6 - no_large) small numbers at random\n",
    "small_rand = random.sample(small,6 - no_large)\n",
    "small_rand"
   ]
  },
  {
   "cell_type": "code",
   "execution_count": 16,
   "metadata": {},
   "outputs": [
    {
     "data": {
      "text/plain": [
       "[100, 75, 50, 2, 9, 5]"
      ]
     },
     "execution_count": 16,
     "metadata": {},
     "output_type": "execute_result"
    }
   ],
   "source": [
    "# the xi random input numbers in a list\n",
    "play_nos = large_rand + small_rand\n",
    "play_nos"
   ]
  },
  {
   "cell_type": "code",
   "execution_count": 19,
   "metadata": {},
   "outputs": [
    {
     "data": {
      "text/plain": [
       "285"
      ]
     },
     "execution_count": 19,
     "metadata": {},
     "output_type": "execute_result"
    }
   ],
   "source": [
    "# Pick a random goal number bounded between two values\n",
    "target = random.randrange(101,1000)\n",
    "target"
   ]
  },
  {
   "cell_type": "code",
   "execution_count": null,
   "metadata": {},
   "outputs": [],
   "source": [
    "def new_countdown_game(no_large = None):\n",
    "    \"\"\"\n",
    "        Returns six random numbers and random target number for the countdown game\n",
    "    \"\"\"\n",
    "    # If no_large is None, randomly pick value between 0-4 (inclusive)\n",
    "    if no_large is None:\n",
    "            \n",
    "            # Randomly set the number of large numbers\n",
    "            no_large = random.randrange(0,5)\n",
    "            \n",
    "            # Create the large numbers array\n",
    "            large = [50,75,100,125]\n",
    "            \n",
    "            # select random large numbers\n",
    "            large_rand = random.sample(list(range(1,11)) * 2, 6 - no_large)\n",
    "            \n",
    "            # The playing numbers for operations to b applied too\n",
    "            play_nos = large_rand + small_rand\n",
    "            \n",
    "            # Select a target number bounded between two values\n",
    "            target = random.randrange(101,1000)\n",
    "            \n",
    "            # Return the game with the playing numbers and target value\n",
    "            return play_nos, target\n",
    "            \n",
    "            \n",
    "            "
   ]
  },
  {
   "cell_type": "code",
   "execution_count": null,
   "metadata": {},
   "outputs": [],
   "source": [
    "play_nos, target = new_countdown_game()\n",
    "play_nos,\n",
    "target"
   ]
  },
  {
   "cell_type": "code",
   "execution_count": null,
   "metadata": {},
   "outputs": [],
   "source": [
    "# Give all 2-partitions of a list\n",
    "# where each sbulist has one elemnt\n",
    "def patterns(numbers, operators):\n",
    "    # Perform check to ensure no further partitions are possible\n",
    "    if len(numbers) == 1:\n",
    "        yield numbers\n",
    "    # Loop through all the ways to partitions L into two non-empty sublists.\n",
    "    for i in range(1, len(numbers)):\n",
    "        # Slice the list using i.\n",
    "        for left, right in it.product(patterns(numbers[:i], operators[1:i]), patters(numbers[i:], operators[i:], operators[i:])):\n",
    "            # Yield the next operator applied to the sublists\n",
    "                yield [*left, *right, operators[0]]"
   ]
  },
  {
   "cell_type": "code",
   "execution_count": null,
   "metadata": {},
   "outputs": [],
   "source": []
  },
  {
   "cell_type": "code",
   "execution_count": null,
   "metadata": {},
   "outputs": [],
   "source": []
  }
 ],
 "metadata": {
  "kernelspec": {
   "display_name": "Python 3",
   "language": "python",
   "name": "python3"
  },
  "language_info": {
   "codemirror_mode": {
    "name": "ipython",
    "version": 3
   },
   "file_extension": ".py",
   "mimetype": "text/x-python",
   "name": "python",
   "nbconvert_exporter": "python",
   "pygments_lexer": "ipython3",
   "version": "3.8.5"
  }
 },
 "nbformat": 4,
 "nbformat_minor": 4
}
