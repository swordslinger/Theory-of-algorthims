{
 "cells": [
  {
   "cell_type": "markdown",
   "metadata": {},
   "source": [
    "<br>\n",
    "\n",
    "## Computing with Integers\n",
    "\n",
    "***"
   ]
  },
  {
   "cell_type": "code",
   "execution_count": 2,
   "metadata": {},
   "outputs": [],
   "source": [
    "def double (i):\n",
    "    return 2 * i"
   ]
  },
  {
   "cell_type": "code",
   "execution_count": 11,
   "metadata": {},
   "outputs": [],
   "source": [
    "eg_list_of_inputs = [-9,-8,-7,-6,-5,-4,-3,-2,-1,0,1,2,3,4,5,6,7,8,9]"
   ]
  },
  {
   "cell_type": "code",
   "execution_count": 12,
   "metadata": {},
   "outputs": [],
   "source": [
    "eg_list_of_outputs = list(map(double, eg_list_of_inputs))"
   ]
  },
  {
   "cell_type": "code",
   "execution_count": 13,
   "metadata": {},
   "outputs": [
    {
     "data": {
      "text/plain": [
       "[-18, -16, -14, -12, -10, -8, -6, -4, -2, 0, 2, 4, 6, 8, 10, 12, 14, 16, 18]"
      ]
     },
     "execution_count": 13,
     "metadata": {},
     "output_type": "execute_result"
    }
   ],
   "source": [
    "eg_list_of_outputs"
   ]
  },
  {
   "cell_type": "code",
   "execution_count": 17,
   "metadata": {},
   "outputs": [
    {
     "name": "stdout",
     "output_type": "stream",
     "text": [
      " -9 ->  -18\n",
      " -8 ->  -16\n",
      " -7 ->  -14\n",
      " -6 ->  -12\n",
      " -5 ->  -10\n",
      " -4 ->   -8\n",
      " -3 ->   -6\n",
      " -2 ->   -4\n",
      " -1 ->   -2\n",
      "  0 ->    0\n",
      "  1 ->    2\n",
      "  2 ->    4\n",
      "  3 ->    6\n",
      "  4 ->    8\n",
      "  5 ->   10\n",
      "  6 ->   12\n",
      "  7 ->   14\n",
      "  8 ->   16\n",
      "  9 ->   18\n"
     ]
    }
   ],
   "source": [
    "for i in range(-9, 10):\n",
    "    print(f'{i:3} ->  {double(i):3}')"
   ]
  },
  {
   "cell_type": "markdown",
   "metadata": {},
   "source": [
    "<br>\n",
    "\n",
    "$ f: \\mathbb{z} \\rightarrow 2 \\mathbb{z}$\n",
    "\n",
    "$ \\mathbb{z} = { \\ldots, -2, -1, 0, 1, 2, \\ldots }$\n",
    "\n",
    "$ 2 \\mathbb{z} = { \\ldots, -2, 0, 2, \\ldots }$\n",
    "\n",
    "$ 2 \\mathbb{z} \\subset \\mathbb{z}$\n",
    "\n",
    "$ | \\mathbb{z} | $ is $\\aleph_0$\n",
    "\n",
    "<br>"
   ]
  },
  {
   "cell_type": "markdown",
   "metadata": {},
   "source": []
  },
  {
   "cell_type": "markdown",
   "metadata": {},
   "source": []
  },
  {
   "cell_type": "markdown",
   "metadata": {},
   "source": [
    "<br>\n",
    "\n",
    "## The integers and the Reals\n",
    "\n",
    "***"
   ]
  },
  {
   "cell_type": "markdown",
   "metadata": {},
   "source": [
    "$\\mathbb{N}_0 = {0, 1, 2, 3, \\ldots}$\n",
    "\n",
    "$|\\mathbb{N}_0|$ is $\\aleph_0$\n"
   ]
  },
  {
   "cell_type": "markdown",
   "metadata": {},
   "source": [
    "\n",
    "$0 \\rightarrow 0$\n",
    "\n",
    "$1 \\rightarrow -1$\n",
    "\n",
    "$2 \\rightarrow 1$\n",
    "\n",
    "$3 \\rightarrow -2$\n",
    "\n",
    "$4 \\rightarrow 2$\n",
    "\n",
    "$\\ldots$"
   ]
  },
  {
   "cell_type": "code",
   "execution_count": 24,
   "metadata": {},
   "outputs": [
    {
     "name": "stdout",
     "output_type": "stream",
     "text": [
      " 0 -> 0.05449922513678306935...\n",
      " 1 -> 0.41851742804115277252...\n",
      " 2 -> 0.22991841163352078059...\n",
      " 3 -> 0.77473651700670675968...\n",
      " 4 -> 0.36982649399579281546...\n",
      " 5 -> 0.89599737217896080477...\n",
      " 6 -> 0.13431719880623316232...\n",
      " 7 -> 0.37769275691824744090...\n",
      " 8 -> 0.13735274319858081782...\n",
      " 9 -> 0.57033276347034356224...\n",
      " and so on \n"
     ]
    }
   ],
   "source": [
    "import random\n",
    "for n in range(10):\n",
    "    print(f'{n:2} -> {random.random():0.20f}...')\n",
    "print(' and so on ')"
   ]
  },
  {
   "cell_type": "code",
   "execution_count": 23,
   "metadata": {},
   "outputs": [
    {
     "ename": "SyntaxError",
     "evalue": "invalid syntax (<ipython-input-23-a3b5f52298b0>, line 1)",
     "output_type": "error",
     "traceback": [
      "\u001b[1;36m  File \u001b[1;32m\"<ipython-input-23-a3b5f52298b0>\"\u001b[1;36m, line \u001b[1;32m1\u001b[0m\n\u001b[1;33m    0.0663927917...\u001b[0m\n\u001b[1;37m                ^\u001b[0m\n\u001b[1;31mSyntaxError\u001b[0m\u001b[1;31m:\u001b[0m invalid syntax\n"
     ]
    }
   ],
   "source": [
    "0.0663927917..."
   ]
  },
  {
   "cell_type": "markdown",
   "metadata": {},
   "source": [
    "$\\mathbb{N}_0 = {0, 1, 2, 3, \\ldots}$\n",
    "\n",
    "$\\mathbf{P}(\\mathbb{N}_0 = { {}, {0}, {1}, {2}, {3}, \\ldots {0,1} \\ldots}$\n",
    "\n",
    "$|\\mathbf{P}(\\mathbb{N}_0)|$ is $\\aleph_1$"
   ]
  }
 ],
 "metadata": {
  "kernelspec": {
   "display_name": "Python 3",
   "language": "python",
   "name": "python3"
  },
  "language_info": {
   "codemirror_mode": {
    "name": "ipython",
    "version": 3
   },
   "file_extension": ".py",
   "mimetype": "text/x-python",
   "name": "python",
   "nbconvert_exporter": "python",
   "pygments_lexer": "ipython3",
   "version": "3.8.5"
  }
 },
 "nbformat": 4,
 "nbformat_minor": 4
}
