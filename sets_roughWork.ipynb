{
 "cells": [
  {
   "cell_type": "markdown",
   "metadata": {},
   "source": [
    "Post Correspondence problem"
   ]
  },
  {
   "cell_type": "code",
   "execution_count": 1,
   "metadata": {},
   "outputs": [],
   "source": [
    "# create an alphabet for two sets"
   ]
  },
  {
   "cell_type": "code",
   "execution_count": 2,
   "metadata": {},
   "outputs": [],
   "source": [
    "A = {'a','b'}"
   ]
  },
  {
   "cell_type": "code",
   "execution_count": 3,
   "metadata": {},
   "outputs": [
    {
     "data": {
      "text/plain": [
       "set"
      ]
     },
     "execution_count": 3,
     "metadata": {},
     "output_type": "execute_result"
    }
   ],
   "source": [
    "type(A)"
   ]
  },
  {
   "cell_type": "code",
   "execution_count": 39,
   "metadata": {},
   "outputs": [
    {
     "data": {
      "text/plain": [
       "True"
      ]
     },
     "execution_count": 39,
     "metadata": {},
     "output_type": "execute_result"
    }
   ],
   "source": [
    "# sets are unordered \n",
    "{'a','b'} == {'b','a'}"
   ]
  },
  {
   "cell_type": "code",
   "execution_count": 40,
   "metadata": {},
   "outputs": [
    {
     "data": {
      "text/plain": [
       "False"
      ]
     },
     "execution_count": 40,
     "metadata": {},
     "output_type": "execute_result"
    }
   ],
   "source": [
    "# order does matter for lists \n",
    "['a','b'] == ['b','a']"
   ]
  },
  {
   "cell_type": "code",
   "execution_count": 41,
   "metadata": {},
   "outputs": [
    {
     "data": {
      "text/plain": [
       "{1, 2, 3}"
      ]
     },
     "execution_count": 41,
     "metadata": {},
     "output_type": "execute_result"
    }
   ],
   "source": [
    "# using the set() to create a set from a list\n",
    "set([1,2,3])"
   ]
  },
  {
   "cell_type": "code",
   "execution_count": 42,
   "metadata": {},
   "outputs": [
    {
     "data": {
      "text/plain": [
       "{1, 2, 3}"
      ]
     },
     "execution_count": 42,
     "metadata": {},
     "output_type": "execute_result"
    }
   ],
   "source": [
    "# sets dont keep count/\n",
    "set([1,2,2,3])"
   ]
  },
  {
   "cell_type": "code",
   "execution_count": 43,
   "metadata": {},
   "outputs": [
    {
     "data": {
      "text/plain": [
       "True"
      ]
     },
     "execution_count": 43,
     "metadata": {},
     "output_type": "execute_result"
    }
   ],
   "source": [
    "1 in {1,2,3}\n"
   ]
  },
  {
   "cell_type": "code",
   "execution_count": 44,
   "metadata": {},
   "outputs": [
    {
     "data": {
      "text/plain": [
       "False"
      ]
     },
     "execution_count": 44,
     "metadata": {},
     "output_type": "execute_result"
    }
   ],
   "source": [
    "'a' in {1,2, 3}"
   ]
  },
  {
   "cell_type": "markdown",
   "metadata": {},
   "source": [
    "When a set is defined it gives a rise to a decision problme, is a given item in the set?"
   ]
  },
  {
   "cell_type": "code",
   "execution_count": 45,
   "metadata": {},
   "outputs": [
    {
     "data": {
      "text/plain": [
       "(1, 2, 3)"
      ]
     },
     "execution_count": 45,
     "metadata": {},
     "output_type": "execute_result"
    }
   ],
   "source": []
  },
  {
   "cell_type": "code",
   "execution_count": 46,
   "metadata": {},
   "outputs": [
    {
     "data": {
      "text/plain": [
       "tuple"
      ]
     },
     "execution_count": 46,
     "metadata": {},
     "output_type": "execute_result"
    }
   ],
   "source": []
  },
  {
   "cell_type": "code",
   "execution_count": 4,
   "metadata": {},
   "outputs": [],
   "source": [
    "# two lists containg strings over the same alphabet\n",
    "# that have the same length, are either these lists correspond to each other or dont\n",
    "# they correspond to each other if there is a list s cotaining indicies for theses lists\n",
    "# if there is any s when you take indicies that apply to l1 and l2, then they exist "
   ]
  },
  {
   "cell_type": "code",
   "execution_count": 5,
   "metadata": {},
   "outputs": [],
   "source": [
    "l1 = ['a','ab','bba']"
   ]
  },
  {
   "cell_type": "code",
   "execution_count": 6,
   "metadata": {},
   "outputs": [],
   "source": [
    "l2 = ['baa','aa','bb']"
   ]
  },
  {
   "cell_type": "code",
   "execution_count": 7,
   "metadata": {},
   "outputs": [],
   "source": [
    "s = [2,1,2,0]"
   ]
  },
  {
   "cell_type": "code",
   "execution_count": 120,
   "metadata": {},
   "outputs": [
    {
     "data": {
      "text/plain": [
       "[2, 1, 2, 0]"
      ]
     },
     "execution_count": 120,
     "metadata": {},
     "output_type": "execute_result"
    }
   ],
   "source": [
    "s"
   ]
  },
  {
   "cell_type": "code",
   "execution_count": 8,
   "metadata": {},
   "outputs": [
    {
     "data": {
      "text/plain": [
       "'bbaabbbaa'"
      ]
     },
     "execution_count": 8,
     "metadata": {},
     "output_type": "execute_result"
    }
   ],
   "source": [
    "# apply s to l1 \n",
    "'bba' + 'ab' + 'bba' + 'a'\n",
    "\n",
    "\n",
    "\n"
   ]
  },
  {
   "cell_type": "code",
   "execution_count": 121,
   "metadata": {},
   "outputs": [
    {
     "data": {
      "text/plain": [
       "'bbaabbbaa'"
      ]
     },
     "execution_count": 121,
     "metadata": {},
     "output_type": "execute_result"
    }
   ],
   "source": [
    "# apply s to l2\n",
    "'bb' + 'aa' + 'bb' + 'baa'"
   ]
  },
  {
   "cell_type": "markdown",
   "metadata": {},
   "source": [
    " l1 corresponds ot l2"
   ]
  },
  {
   "cell_type": "code",
   "execution_count": 10,
   "metadata": {},
   "outputs": [],
   "source": [
    "def apply(S,L):\n",
    "    S1 = [L[i] for i in s]\n",
    "    return ''.join(S1)\n",
    "    "
   ]
  },
  {
   "cell_type": "code",
   "execution_count": 11,
   "metadata": {},
   "outputs": [
    {
     "data": {
      "text/plain": [
       "'bbaabbbaa'"
      ]
     },
     "execution_count": 11,
     "metadata": {},
     "output_type": "execute_result"
    }
   ],
   "source": [
    "apply(s,l1)"
   ]
  },
  {
   "cell_type": "code",
   "execution_count": 12,
   "metadata": {},
   "outputs": [
    {
     "data": {
      "text/plain": [
       "[2, 1, 2, 0]"
      ]
     },
     "execution_count": 12,
     "metadata": {},
     "output_type": "execute_result"
    }
   ],
   "source": [
    "s"
   ]
  },
  {
   "cell_type": "code",
   "execution_count": 13,
   "metadata": {},
   "outputs": [
    {
     "data": {
      "text/plain": [
       "['a', 'ab', 'bba']"
      ]
     },
     "execution_count": 13,
     "metadata": {},
     "output_type": "execute_result"
    }
   ],
   "source": [
    "l1"
   ]
  },
  {
   "cell_type": "code",
   "execution_count": 14,
   "metadata": {},
   "outputs": [
    {
     "data": {
      "text/plain": [
       "['bba', 'ab', 'bba', 'a']"
      ]
     },
     "execution_count": 14,
     "metadata": {},
     "output_type": "execute_result"
    }
   ],
   "source": [
    "#loops through elements in s\n",
    "# applys the indicdies to l1 \n",
    "# creates a list \n",
    "[l1[i] for i in s]"
   ]
  },
  {
   "cell_type": "code",
   "execution_count": 15,
   "metadata": {},
   "outputs": [
    {
     "data": {
      "text/plain": [
       "'one      tow      three'"
      ]
     },
     "execution_count": 15,
     "metadata": {},
     "output_type": "execute_result"
    }
   ],
   "source": [
    "#take each string in a list join them together\n",
    "# using the string specified between them.\n",
    "'      '.join(['one','tow','three'])"
   ]
  },
  {
   "cell_type": "code",
   "execution_count": 16,
   "metadata": {},
   "outputs": [
    {
     "data": {
      "text/plain": [
       "'bbaabbbaa'"
      ]
     },
     "execution_count": 16,
     "metadata": {},
     "output_type": "execute_result"
    }
   ],
   "source": [
    "apply(s,l1)"
   ]
  },
  {
   "cell_type": "code",
   "execution_count": 17,
   "metadata": {},
   "outputs": [
    {
     "data": {
      "text/plain": [
       "'bbaabbbaa'"
      ]
     },
     "execution_count": 17,
     "metadata": {},
     "output_type": "execute_result"
    }
   ],
   "source": [
    "apply(s,l2)"
   ]
  },
  {
   "cell_type": "code",
   "execution_count": 18,
   "metadata": {},
   "outputs": [
    {
     "data": {
      "text/plain": [
       "True"
      ]
     },
     "execution_count": 18,
     "metadata": {},
     "output_type": "execute_result"
    }
   ],
   "source": [
    "apply(s,l1) == apply(s,l2)"
   ]
  },
  {
   "cell_type": "code",
   "execution_count": 19,
   "metadata": {},
   "outputs": [
    {
     "data": {
      "text/plain": [
       "'bbaabbbaa'"
      ]
     },
     "execution_count": 19,
     "metadata": {},
     "output_type": "execute_result"
    }
   ],
   "source": [
    "apply([2,1,2,0,2,1,2,0], l1)"
   ]
  },
  {
   "cell_type": "code",
   "execution_count": 20,
   "metadata": {},
   "outputs": [
    {
     "data": {
      "text/plain": [
       "'bbaabbbaa'"
      ]
     },
     "execution_count": 20,
     "metadata": {},
     "output_type": "execute_result"
    }
   ],
   "source": [
    "apply([2,1,2,0,2,1,2,0], l2)"
   ]
  },
  {
   "cell_type": "markdown",
   "metadata": {},
   "source": [
    "<br>\n",
    "\n",
    "## no Correspone"
   ]
  },
  {
   "cell_type": "code",
   "execution_count": 21,
   "metadata": {},
   "outputs": [],
   "source": [
    "l3 = ['ab','bba']"
   ]
  },
  {
   "cell_type": "code",
   "execution_count": 22,
   "metadata": {},
   "outputs": [],
   "source": [
    "l4 = ['aa', 'bb']"
   ]
  },
  {
   "cell_type": "markdown",
   "metadata": {},
   "source": [
    "s = ?\n"
   ]
  },
  {
   "cell_type": "code",
   "execution_count": 23,
   "metadata": {},
   "outputs": [],
   "source": [
    "# take all possible finite lists of strings over a and b\n",
    "# on that set of all possible strings create all of the pairs of strings\n",
    "# l1  and l2 correspend too each other,if theres an s,when you applied corresponds\n",
    "#input is two lists, output is true or false."
   ]
  },
  {
   "cell_type": "markdown",
   "metadata": {},
   "source": [
    "$$(l_1,l_2) \\rightarrow \\{True,False\\} \\quad |L_1|=|L_2| $$"
   ]
  },
  {
   "cell_type": "markdown",
   "metadata": {},
   "source": [
    "<br>\n",
    "\n",
    "## bounded Correspone"
   ]
  },
  {
   "cell_type": "code",
   "execution_count": 106,
   "metadata": {},
   "outputs": [],
   "source": [
    "\n",
    "from itertools import combinations\n",
    "from itertools import combinations_with_replacement\n",
    "from itertools import permutations\n",
    "from functools import reduce\n",
    "from itertools import product\n",
    "from itertools import chain\n",
    "import itertools\n"
   ]
  },
  {
   "cell_type": "code",
   "execution_count": 25,
   "metadata": {},
   "outputs": [],
   "source": [
    "# bound s to k number of elements"
   ]
  },
  {
   "cell_type": "markdown",
   "metadata": {},
   "source": [
    "$$ |S| \\leq k \\qquad k \\in \\mathbb{N}$$"
   ]
  },
  {
   "cell_type": "markdown",
   "metadata": {},
   "source": [
    "take two lists\n",
    "check all potentential correspondence between l1 and l2\n",
    "where the correspondence has length of at most k"
   ]
  },
  {
   "cell_type": "markdown",
   "metadata": {},
   "source": [
    "def bpcp_solver(L1, L2, k):\n",
    "    \n",
    "    if correspond(L1, L2):\n",
    "        return True\n",
    "    else:\n",
    "        return False"
   ]
  },
  {
   "cell_type": "code",
   "execution_count": 26,
   "metadata": {},
   "outputs": [],
   "source": [
    "l1 =['ab','bba',\"bb\"]\n",
    "l2= ['bb','bab','aa']"
   ]
  },
  {
   "cell_type": "code",
   "execution_count": 27,
   "metadata": {},
   "outputs": [
    {
     "data": {
      "text/plain": [
       "[0, 1, 2]"
      ]
     },
     "execution_count": 27,
     "metadata": {},
     "output_type": "execute_result"
    }
   ],
   "source": [
    "[l1.index(i) for i in l1]"
   ]
  },
  {
   "cell_type": "code",
   "execution_count": 28,
   "metadata": {},
   "outputs": [
    {
     "data": {
      "text/plain": [
       "3"
      ]
     },
     "execution_count": 28,
     "metadata": {},
     "output_type": "execute_result"
    }
   ],
   "source": [
    "len(l1)"
   ]
  },
  {
   "cell_type": "code",
   "execution_count": 29,
   "metadata": {},
   "outputs": [
    {
     "name": "stdout",
     "output_type": "stream",
     "text": [
      "[['ab'], ['bba'], ['bb'], ['ab', 'ab'], ['ab', 'bba'], ['ab', 'bb'], ['bba', 'bba'], ['bba', 'bb'], ['bb', 'bb'], ['ab', 'ab', 'ab'], ['ab', 'ab', 'bba'], ['ab', 'ab', 'bb'], ['ab', 'bba', 'bba'], ['ab', 'bba', 'bb'], ['ab', 'bb', 'bb'], ['bba', 'bba', 'bba'], ['bba', 'bba', 'bb'], ['bba', 'bb', 'bb'], ['bb', 'bb', 'bb']]\n"
     ]
    }
   ],
   "source": [
    "list1 = list()\n",
    "list2 = list()\n",
    "\n",
    "# for n in range(len(l1) + 1):\n",
    "#     list1 += list(combinations_with_replacement(l1, n))\n",
    "# print(list1)\n",
    "\n",
    "list1= [list(x) for l in range(1,4) for x in combinations_with_replacement(l1, l)]\n",
    "list2 = [list(x) for l in range(1,4) for x in combinations_with_replacement(l2, l)]\n",
    "\n",
    "print(list1)"
   ]
  },
  {
   "cell_type": "code",
   "execution_count": 30,
   "metadata": {},
   "outputs": [
    {
     "name": "stdout",
     "output_type": "stream",
     "text": [
      "[['bb'], ['bab'], ['aa'], ['bb', 'bb'], ['bb', 'bab'], ['bb', 'aa'], ['bab', 'bab'], ['bab', 'aa'], ['aa', 'aa'], ['bb', 'bb', 'bb'], ['bb', 'bb', 'bab'], ['bb', 'bb', 'aa'], ['bb', 'bab', 'bab'], ['bb', 'bab', 'aa'], ['bb', 'aa', 'aa'], ['bab', 'bab', 'bab'], ['bab', 'bab', 'aa'], ['bab', 'aa', 'aa'], ['aa', 'aa', 'aa']]\n"
     ]
    }
   ],
   "source": [
    "print(list2)\n"
   ]
  },
  {
   "cell_type": "code",
   "execution_count": 31,
   "metadata": {},
   "outputs": [
    {
     "name": "stdout",
     "output_type": "stream",
     "text": [
      "['ab']\n",
      "['bba']\n",
      "['bb']\n",
      "['ab', 'ab']\n",
      "['ab', 'bba']\n",
      "['ab', 'bb']\n",
      "['bba', 'bba']\n",
      "['bba', 'bb']\n",
      "['bb', 'bb']\n",
      "['ab', 'ab', 'ab']\n",
      "['ab', 'ab', 'bba']\n",
      "['ab', 'ab', 'bb']\n",
      "['ab', 'bba', 'bba']\n",
      "['ab', 'bba', 'bb']\n",
      "['ab', 'bb', 'bb']\n",
      "['bba', 'bba', 'bba']\n",
      "['bba', 'bba', 'bb']\n",
      "['bba', 'bb', 'bb']\n",
      "['bb', 'bb', 'bb']\n"
     ]
    }
   ],
   "source": [
    "index = -1\n",
    "index2 = -1\n",
    "# for i in list1:\n",
    "#     for j in list1:\n",
    "#         index+=1\n",
    "#         index2+=1\n",
    "#         print(index)\n",
    "      #  if(list1[index][index2] == list1[0][0]):\n",
    "       #     print(\"true\")\n",
    "        \n",
    "for i in list1:\n",
    "    print(i)\n",
    "        \n",
    "           \n"
   ]
  },
  {
   "cell_type": "code",
   "execution_count": 32,
   "metadata": {},
   "outputs": [
    {
     "name": "stdout",
     "output_type": "stream",
     "text": [
      "[['bba'], ['bb']]\n"
     ]
    }
   ],
   "source": [
    "print(list1[1:2] + list1[2:3])"
   ]
  },
  {
   "cell_type": "code",
   "execution_count": null,
   "metadata": {},
   "outputs": [],
   "source": []
  },
  {
   "cell_type": "code",
   "execution_count": 33,
   "metadata": {},
   "outputs": [
    {
     "name": "stdout",
     "output_type": "stream",
     "text": [
      "['ab']\n",
      "['bba']\n",
      "['bb']\n",
      "['ab', 'ab']\n",
      "['ab', 'bba']\n",
      "['ab', 'bb']\n",
      "['bba', 'bba']\n",
      "['bba', 'bb']\n",
      "['bb', 'bb']\n",
      "['ab', 'ab', 'ab']\n",
      "['ab', 'ab', 'bba']\n",
      "['ab', 'ab', 'bb']\n",
      "['ab', 'bba', 'bba']\n",
      "['ab', 'bba', 'bb']\n",
      "['ab', 'bb', 'bb']\n",
      "['bba', 'bba', 'bba']\n",
      "['bba', 'bba', 'bb']\n",
      "['bba', 'bb', 'bb']\n",
      "['bb', 'bb', 'bb']\n"
     ]
    }
   ],
   "source": [
    "\n",
    "L_1 = []\n",
    "L_2 = []\n",
    "L_3 = []\n",
    "for i in range(len(list1)):\n",
    "        \n",
    "        print((list1[i])) \n",
    "        if(len(list1[i]) == 1):\n",
    "            L_1.append(list1[i])\n",
    "        elif(len(list1[i]) == 2):\n",
    "            L_2.append(list1[i])\n",
    "        else:\n",
    "            L_3.append(list1[i])    "
   ]
  },
  {
   "cell_type": "code",
   "execution_count": 34,
   "metadata": {},
   "outputs": [
    {
     "name": "stdout",
     "output_type": "stream",
     "text": [
      "[['ab'], ['bba'], ['bb']]\n"
     ]
    }
   ],
   "source": [
    "print(L_1)"
   ]
  },
  {
   "cell_type": "code",
   "execution_count": 35,
   "metadata": {},
   "outputs": [
    {
     "name": "stdout",
     "output_type": "stream",
     "text": [
      "[['ab', 'ab'], ['ab', 'bba'], ['ab', 'bb'], ['bba', 'bba'], ['bba', 'bb'], ['bb', 'bb']]\n"
     ]
    }
   ],
   "source": [
    "print(L_2)"
   ]
  },
  {
   "cell_type": "code",
   "execution_count": 36,
   "metadata": {},
   "outputs": [
    {
     "name": "stdout",
     "output_type": "stream",
     "text": [
      "[['ab', 'ab', 'ab'], ['ab', 'ab', 'bba'], ['ab', 'ab', 'bb'], ['ab', 'bba', 'bba'], ['ab', 'bba', 'bb'], ['ab', 'bb', 'bb'], ['bba', 'bba', 'bba'], ['bba', 'bba', 'bb'], ['bba', 'bb', 'bb'], ['bb', 'bb', 'bb']]\n"
     ]
    }
   ],
   "source": [
    "print(L_3)"
   ]
  },
  {
   "cell_type": "code",
   "execution_count": 37,
   "metadata": {},
   "outputs": [
    {
     "name": "stdout",
     "output_type": "stream",
     "text": [
      "bb\n"
     ]
    }
   ],
   "source": [
    "print(L_2[4][1])"
   ]
  },
  {
   "cell_type": "code",
   "execution_count": 217,
   "metadata": {},
   "outputs": [
    {
     "name": "stdout",
     "output_type": "stream",
     "text": [
      "ab\n",
      "bba\n",
      "bb\n"
     ]
    }
   ],
   "source": [
    "# for i in range(len(L_1)):\n",
    "#     if(list1[i]):\n",
    "#         print(list1[i])\n",
    " \n",
    "\n",
    "for i in range(len(L_2)):\n",
    "    if(L_2[i][0] == L_2[0][1]):\n",
    "        print(\"\".join(list1[i]))"
   ]
  },
  {
   "cell_type": "code",
   "execution_count": 215,
   "metadata": {},
   "outputs": [
    {
     "data": {
      "text/plain": [
       "['ab', 'bba', 'bb']"
      ]
     },
     "execution_count": 215,
     "metadata": {},
     "output_type": "execute_result"
    }
   ],
   "source": [
    "test"
   ]
  },
  {
   "cell_type": "code",
   "execution_count": 218,
   "metadata": {},
   "outputs": [
    {
     "data": {
      "text/plain": [
       "[['ab'],\n",
       " ['bba'],\n",
       " ['bb'],\n",
       " ['ab', 'ab'],\n",
       " ['ab', 'bba'],\n",
       " ['ab', 'bb'],\n",
       " ['bba', 'bba'],\n",
       " ['bba', 'bb'],\n",
       " ['bb', 'bb'],\n",
       " ['ab', 'ab', 'ab'],\n",
       " ['ab', 'ab', 'bba'],\n",
       " ['ab', 'ab', 'bb'],\n",
       " ['ab', 'bba', 'bba'],\n",
       " ['ab', 'bba', 'bb'],\n",
       " ['ab', 'bb', 'bb'],\n",
       " ['bba', 'bba', 'bba'],\n",
       " ['bba', 'bba', 'bb'],\n",
       " ['bba', 'bb', 'bb'],\n",
       " ['bb', 'bb', 'bb']]"
      ]
     },
     "execution_count": 218,
     "metadata": {},
     "output_type": "execute_result"
    }
   ],
   "source": [
    "list1"
   ]
  },
  {
   "cell_type": "markdown",
   "metadata": {},
   "source": [
    "<br>\n",
    "\n",
    "## Correspondence problem with tuples\n",
    "\n"
   ]
  },
  {
   "cell_type": "markdown",
   "metadata": {},
   "source": [
    "create helper function to convert string to tuple "
   ]
  },
  {
   "cell_type": "code",
   "execution_count": 56,
   "metadata": {},
   "outputs": [],
   "source": [
    "a = 'a'\n",
    "b = 'b'"
   ]
  },
  {
   "cell_type": "code",
   "execution_count": 57,
   "metadata": {},
   "outputs": [],
   "source": [
    "# First list\n",
    "L1 = ((a),(a, b),(b, b, a))"
   ]
  },
  {
   "cell_type": "code",
   "execution_count": 58,
   "metadata": {},
   "outputs": [
    {
     "data": {
      "text/plain": [
       "('a', ('a', 'b'), ('b', 'b', 'a'))"
      ]
     },
     "execution_count": 58,
     "metadata": {},
     "output_type": "execute_result"
    }
   ],
   "source": [
    "L1\n"
   ]
  },
  {
   "cell_type": "code",
   "execution_count": 60,
   "metadata": {},
   "outputs": [],
   "source": [
    "# Second list\n",
    "L2 = ((b, a, a),(a, a),(b, b))"
   ]
  },
  {
   "cell_type": "code",
   "execution_count": 61,
   "metadata": {},
   "outputs": [],
   "source": [
    "# a proposed solution.\n",
    "S = (2, 1, 2, 0)"
   ]
  },
  {
   "cell_type": "code",
   "execution_count": null,
   "metadata": {},
   "outputs": [],
   "source": []
  },
  {
   "cell_type": "code",
   "execution_count": 246,
   "metadata": {},
   "outputs": [],
   "source": [
    "# apply the proposed solution to a tuple\n",
    "def apply(S, L):\n",
    "    s1 = [''.join(L[i]) for i in S]\n",
    "    return ''.join(s1) "
   ]
  },
  {
   "cell_type": "code",
   "execution_count": 73,
   "metadata": {},
   "outputs": [
    {
     "data": {
      "text/plain": [
       "'bbaabbbaa'"
      ]
     },
     "execution_count": 73,
     "metadata": {},
     "output_type": "execute_result"
    }
   ],
   "source": [
    "# apply s to L1\n",
    "apply(S, L1)"
   ]
  },
  {
   "cell_type": "code",
   "execution_count": 75,
   "metadata": {},
   "outputs": [
    {
     "data": {
      "text/plain": [
       "'bbaabbbaa'"
      ]
     },
     "execution_count": 75,
     "metadata": {},
     "output_type": "execute_result"
    }
   ],
   "source": [
    "# apply s to L2\n",
    "apply(S, L1)"
   ]
  },
  {
   "cell_type": "code",
   "execution_count": 76,
   "metadata": {},
   "outputs": [
    {
     "data": {
      "text/plain": [
       "True"
      ]
     },
     "execution_count": 76,
     "metadata": {},
     "output_type": "execute_result"
    }
   ],
   "source": [
    "# get python to check if the proposed solution is a solution\n",
    "apply(S, L1) == apply(S, L1)"
   ]
  },
  {
   "cell_type": "code",
   "execution_count": 77,
   "metadata": {},
   "outputs": [
    {
     "data": {
      "text/plain": [
       "'bbaabbbaabbaabbbaa'"
      ]
     },
     "execution_count": 77,
     "metadata": {},
     "output_type": "execute_result"
    }
   ],
   "source": [
    "# another solution - there are infinitely many\n",
    "apply((2,1,2,0,2,1,2,0), L1)"
   ]
  },
  {
   "cell_type": "code",
   "execution_count": 78,
   "metadata": {},
   "outputs": [
    {
     "data": {
      "text/plain": [
       "'bbaabbbaabbaabbbaa'"
      ]
     },
     "execution_count": 78,
     "metadata": {},
     "output_type": "execute_result"
    }
   ],
   "source": [
    "apply((2,1,2,0,2,1,2,0), L2)"
   ]
  },
  {
   "cell_type": "markdown",
   "metadata": {},
   "source": [
    "<br>\n",
    "\n",
    "##  No Correspondence with tuples\n",
    "\n",
    "***"
   ]
  },
  {
   "cell_type": "code",
   "execution_count": 79,
   "metadata": {},
   "outputs": [],
   "source": [
    "# list 1\n",
    "l3 = ((a, b), (b, b, a))"
   ]
  },
  {
   "cell_type": "code",
   "execution_count": null,
   "metadata": {},
   "outputs": [],
   "source": [
    "# list 2\n",
    "l4 = ((a, a),(b, b))"
   ]
  },
  {
   "cell_type": "code",
   "execution_count": null,
   "metadata": {},
   "outputs": [],
   "source": [
    "# s = ?"
   ]
  },
  {
   "cell_type": "markdown",
   "metadata": {},
   "source": [
    "$$(l_1,l_2) \\rightarrow \\{True,False\\} \\quad |L_1|=|L_2| $$"
   ]
  },
  {
   "cell_type": "code",
   "execution_count": null,
   "metadata": {},
   "outputs": [],
   "source": [
    "# possibles = ((0,), (1,), (0, 0), (0, 1), (1, 0), (1, 1), (0, 0, 0), (0, 0, 1), (0, 1 ,0), ...)"
   ]
  },
  {
   "cell_type": "markdown",
   "metadata": {},
   "source": [
    "<br>\n",
    "\n",
    "##  bounded Correspondence with tuples\n",
    "\n",
    "***"
   ]
  },
  {
   "cell_type": "code",
   "execution_count": 82,
   "metadata": {},
   "outputs": [
    {
     "data": {
      "text/plain": [
       "[('A', 'B'), ('A', 'C'), ('B', 'C')]"
      ]
     },
     "execution_count": 82,
     "metadata": {},
     "output_type": "execute_result"
    }
   ],
   "source": [
    "list(combinations('ABC', 2))"
   ]
  },
  {
   "cell_type": "code",
   "execution_count": 87,
   "metadata": {},
   "outputs": [
    {
     "data": {
      "text/plain": [
       "[('A', 'B'), ('A', 'C'), ('B', 'A'), ('B', 'C'), ('C', 'A'), ('C', 'B')]"
      ]
     },
     "execution_count": 87,
     "metadata": {},
     "output_type": "execute_result"
    }
   ],
   "source": [
    "list(permutations('ABC', 2))"
   ]
  },
  {
   "cell_type": "code",
   "execution_count": 90,
   "metadata": {},
   "outputs": [
    {
     "data": {
      "text/plain": [
       "[('A', 'A'),\n",
       " ('A', 'B'),\n",
       " ('A', 'C'),\n",
       " ('A', 'D'),\n",
       " ('B', 'A'),\n",
       " ('B', 'B'),\n",
       " ('B', 'C'),\n",
       " ('B', 'D'),\n",
       " ('C', 'A'),\n",
       " ('C', 'B'),\n",
       " ('C', 'C'),\n",
       " ('C', 'D'),\n",
       " ('D', 'A'),\n",
       " ('D', 'B'),\n",
       " ('D', 'C'),\n",
       " ('D', 'D')]"
      ]
     },
     "execution_count": 90,
     "metadata": {},
     "output_type": "execute_result"
    }
   ],
   "source": [
    "list(product('ABCD', 'ABCD'))"
   ]
  },
  {
   "cell_type": "code",
   "execution_count": 92,
   "metadata": {},
   "outputs": [
    {
     "data": {
      "text/plain": [
       "[(0, 0), (0, 1), (1, 0), (1, 1)]"
      ]
     },
     "execution_count": 92,
     "metadata": {},
     "output_type": "execute_result"
    }
   ],
   "source": [
    "# solutions of length 2\n",
    "list(product(range(len(l3)), range(len(l3))))"
   ]
  },
  {
   "cell_type": "code",
   "execution_count": 94,
   "metadata": {},
   "outputs": [
    {
     "data": {
      "text/plain": [
       "2"
      ]
     },
     "execution_count": 94,
     "metadata": {},
     "output_type": "execute_result"
    }
   ],
   "source": [
    "len(l3)"
   ]
  },
  {
   "cell_type": "code",
   "execution_count": 95,
   "metadata": {},
   "outputs": [
    {
     "data": {
      "text/plain": [
       "[0, 1]"
      ]
     },
     "execution_count": 95,
     "metadata": {},
     "output_type": "execute_result"
    }
   ],
   "source": [
    "list(range(len(l3)))"
   ]
  },
  {
   "cell_type": "code",
   "execution_count": 259,
   "metadata": {},
   "outputs": [
    {
     "name": "stdout",
     "output_type": "stream",
     "text": [
      "(0,)\n",
      "(1,)\n",
      "(2,)\n",
      "(0, 0)\n",
      "(0, 1)\n",
      "(0, 2)\n",
      "(1, 0)\n",
      "(1, 1)\n",
      "(1, 2)\n",
      "(2, 0)\n",
      "(2, 1)\n",
      "(2, 2)\n",
      "(0, 0, 0)\n",
      "(0, 0, 1)\n",
      "(0, 0, 2)\n",
      "(0, 1, 0)\n",
      "(0, 1, 1)\n",
      "(0, 1, 2)\n",
      "(0, 2, 0)\n",
      "(0, 2, 1)\n",
      "(0, 2, 2)\n",
      "(1, 0, 0)\n",
      "(1, 0, 1)\n",
      "(1, 0, 2)\n",
      "(1, 1, 0)\n",
      "(1, 1, 1)\n",
      "(1, 1, 2)\n",
      "(1, 2, 0)\n",
      "(1, 2, 1)\n",
      "(1, 2, 2)\n",
      "(2, 0, 0)\n",
      "(2, 0, 1)\n",
      "(2, 0, 2)\n",
      "(2, 1, 0)\n",
      "(2, 1, 1)\n",
      "(2, 1, 2)\n",
      "(2, 2, 0)\n",
      "(2, 2, 1)\n",
      "(2, 2, 2)\n",
      "(0, 0, 0, 0)\n",
      "(0, 0, 0, 1)\n",
      "(0, 0, 0, 2)\n",
      "(0, 0, 1, 0)\n",
      "(0, 0, 1, 1)\n",
      "(0, 0, 1, 2)\n",
      "(0, 0, 2, 0)\n",
      "(0, 0, 2, 1)\n",
      "(0, 0, 2, 2)\n",
      "(0, 1, 0, 0)\n",
      "(0, 1, 0, 1)\n",
      "(0, 1, 0, 2)\n",
      "(0, 1, 1, 0)\n",
      "(0, 1, 1, 1)\n",
      "(0, 1, 1, 2)\n",
      "(0, 1, 2, 0)\n",
      "(0, 1, 2, 1)\n",
      "(0, 1, 2, 2)\n",
      "(0, 2, 0, 0)\n",
      "(0, 2, 0, 1)\n",
      "(0, 2, 0, 2)\n",
      "(0, 2, 1, 0)\n",
      "(0, 2, 1, 1)\n",
      "(0, 2, 1, 2)\n",
      "(0, 2, 2, 0)\n",
      "(0, 2, 2, 1)\n",
      "(0, 2, 2, 2)\n",
      "(1, 0, 0, 0)\n",
      "(1, 0, 0, 1)\n",
      "(1, 0, 0, 2)\n",
      "(1, 0, 1, 0)\n",
      "(1, 0, 1, 1)\n",
      "(1, 0, 1, 2)\n",
      "(1, 0, 2, 0)\n",
      "(1, 0, 2, 1)\n",
      "(1, 0, 2, 2)\n",
      "(1, 1, 0, 0)\n",
      "(1, 1, 0, 1)\n",
      "(1, 1, 0, 2)\n",
      "(1, 1, 1, 0)\n",
      "(1, 1, 1, 1)\n",
      "(1, 1, 1, 2)\n",
      "(1, 1, 2, 0)\n",
      "(1, 1, 2, 1)\n",
      "(1, 1, 2, 2)\n",
      "(1, 2, 0, 0)\n",
      "(1, 2, 0, 1)\n",
      "(1, 2, 0, 2)\n",
      "(1, 2, 1, 0)\n",
      "(1, 2, 1, 1)\n",
      "(1, 2, 1, 2)\n",
      "(1, 2, 2, 0)\n",
      "(1, 2, 2, 1)\n",
      "(1, 2, 2, 2)\n",
      "(2, 0, 0, 0)\n",
      "(2, 0, 0, 1)\n",
      "(2, 0, 0, 2)\n",
      "(2, 0, 1, 0)\n",
      "(2, 0, 1, 1)\n",
      "(2, 0, 1, 2)\n",
      "(2, 0, 2, 0)\n",
      "(2, 0, 2, 1)\n",
      "(2, 0, 2, 2)\n",
      "(2, 1, 0, 0)\n",
      "(2, 1, 0, 1)\n",
      "(2, 1, 0, 2)\n",
      "(2, 1, 1, 0)\n",
      "(2, 1, 1, 1)\n",
      "(2, 1, 1, 2)\n",
      "(2, 1, 2, 0)\n",
      "(2, 1, 2, 1)\n",
      "(2, 1, 2, 2)\n",
      "(2, 2, 0, 0)\n",
      "(2, 2, 0, 1)\n",
      "(2, 2, 0, 2)\n",
      "(2, 2, 1, 0)\n",
      "(2, 2, 1, 1)\n",
      "(2, 2, 1, 2)\n",
      "(2, 2, 2, 0)\n",
      "(2, 2, 2, 1)\n",
      "(2, 2, 2, 2)\n"
     ]
    }
   ],
   "source": [
    "# the bound for the bounded problem\n",
    "k = 4\n",
    "\n",
    "# The generators.\n",
    "gens = []\n",
    "\n",
    "str1 = []\n",
    "str2 = []\n",
    "\n",
    "str1ConCat = []\n",
    "str2ConCat = []\n",
    "\n",
    "L1 = ((a),(a, b),(b, b, a))\n",
    "L2 = ((b, a, a),(a, a),(b, b))\n",
    "\n",
    "L3 = {}\n",
    "L4 = {}\n",
    "\n",
    "# loop through all possible solutions.\n",
    "# if you multiply a list by an integer you get, a list cotaining the elements of the orignal list repated\n",
    "# that numbers of times\n",
    "for i in range(1, k + 1):\n",
    "    # creates a generator for solutions of length i, append it to gens.\n",
    "    gens.append(product(*([range(len(L1))] * i)))\n",
    "\n",
    "# chain just chains generators together\n",
    "for solution in chain(*gens):\n",
    "    print(solution)\n",
    "    str1.append([''.join(L1[i]) for i in solution])\n",
    "    str2.append([''.join(L2[i]) for i in solution])\n",
    "    \n",
    "\n"
   ]
  },
  {
   "cell_type": "code",
   "execution_count": 260,
   "metadata": {},
   "outputs": [],
   "source": [
    "for str in str1:\n",
    "    str1ConCat.append((\"\".join(str)))\n",
    "for str in str2:\n",
    "    str2ConCat.append((\"\".join(str)))"
   ]
  },
  {
   "cell_type": "code",
   "execution_count": 306,
   "metadata": {},
   "outputs": [
    {
     "data": {
      "text/plain": [
       "{'a',\n",
       " 'aa',\n",
       " 'aaa',\n",
       " 'aaaa',\n",
       " 'aaaab',\n",
       " 'aaab',\n",
       " 'aaaba',\n",
       " 'aaabab',\n",
       " 'aaabba',\n",
       " 'aaabbba',\n",
       " 'aab',\n",
       " 'aaba',\n",
       " 'aabaa',\n",
       " 'aabaab',\n",
       " 'aabab',\n",
       " 'aababa',\n",
       " 'aababab',\n",
       " 'aababba',\n",
       " 'aababbba',\n",
       " 'aabba',\n",
       " 'aabbaa',\n",
       " 'aabbaab',\n",
       " 'aabbabba',\n",
       " 'aabbba',\n",
       " 'aabbbaa',\n",
       " 'aabbbaab',\n",
       " 'aabbbabba',\n",
       " 'ab',\n",
       " 'aba',\n",
       " 'abaa',\n",
       " 'abaaa',\n",
       " 'abaaab',\n",
       " 'abaab',\n",
       " 'abaaba',\n",
       " 'abaabab',\n",
       " 'abaabba',\n",
       " 'abaabbba',\n",
       " 'abab',\n",
       " 'ababa',\n",
       " 'ababaa',\n",
       " 'ababaab',\n",
       " 'ababab',\n",
       " 'abababa',\n",
       " 'abababab',\n",
       " 'abababba',\n",
       " 'abababbba',\n",
       " 'ababba',\n",
       " 'ababbaa',\n",
       " 'ababbaab',\n",
       " 'ababbabba',\n",
       " 'ababbba',\n",
       " 'ababbbaa',\n",
       " 'ababbbaab',\n",
       " 'ababbbabba',\n",
       " 'abba',\n",
       " 'abbaa',\n",
       " 'abbaaa',\n",
       " 'abbaaab',\n",
       " 'abbaab',\n",
       " 'abbaaba',\n",
       " 'abbaabab',\n",
       " 'abbaabba',\n",
       " 'abbaabbba',\n",
       " 'abbabba',\n",
       " 'abbabbaa',\n",
       " 'abbabbaab',\n",
       " 'abbabbabba',\n",
       " 'abbba',\n",
       " 'abbbaa',\n",
       " 'abbbaaa',\n",
       " 'abbbaaab',\n",
       " 'abbbaab',\n",
       " 'abbbaaba',\n",
       " 'abbbaabab',\n",
       " 'abbbaabba',\n",
       " 'abbbaabbba',\n",
       " 'abbbabba',\n",
       " 'abbbabbaa',\n",
       " 'abbbabbaab',\n",
       " 'abbbabbabba',\n",
       " 'bba',\n",
       " 'bbaa',\n",
       " 'bbaaa',\n",
       " 'bbaaaa',\n",
       " 'bbaaaab',\n",
       " 'bbaaab',\n",
       " 'bbaaaba',\n",
       " 'bbaaabab',\n",
       " 'bbaaabba',\n",
       " 'bbaaabbba',\n",
       " 'bbaab',\n",
       " 'bbaaba',\n",
       " 'bbaabaa',\n",
       " 'bbaabaab',\n",
       " 'bbaabab',\n",
       " 'bbaababa',\n",
       " 'bbaababab',\n",
       " 'bbaababba',\n",
       " 'bbaababbba',\n",
       " 'bbaabba',\n",
       " 'bbaabbaa',\n",
       " 'bbaabbaab',\n",
       " 'bbaabbabba',\n",
       " 'bbaabbba',\n",
       " 'bbaabbbaa',\n",
       " 'bbaabbbaab',\n",
       " 'bbaabbbabba',\n",
       " 'bbabba',\n",
       " 'bbabbaa',\n",
       " 'bbabbaaa',\n",
       " 'bbabbaaab',\n",
       " 'bbabbaab',\n",
       " 'bbabbaaba',\n",
       " 'bbabbaabab',\n",
       " 'bbabbaabba',\n",
       " 'bbabbaabbba',\n",
       " 'bbabbabba',\n",
       " 'bbabbabbaa',\n",
       " 'bbabbabbaab',\n",
       " 'bbabbabbabba'}"
      ]
     },
     "execution_count": 306,
     "metadata": {},
     "output_type": "execute_result"
    }
   ],
   "source": [
    "L4 = set(str1ConCat)\n",
    "L4"
   ]
  },
  {
   "cell_type": "code",
   "execution_count": 310,
   "metadata": {},
   "outputs": [
    {
     "data": {
      "text/plain": [
       "list"
      ]
     },
     "execution_count": 310,
     "metadata": {},
     "output_type": "execute_result"
    }
   ],
   "source": [
    "type(str1ConCat)"
   ]
  },
  {
   "cell_type": "code",
   "execution_count": 262,
   "metadata": {},
   "outputs": [
    {
     "data": {
      "text/plain": [
       "['baa',\n",
       " 'aa',\n",
       " 'bb',\n",
       " 'baabaa',\n",
       " 'baaaa',\n",
       " 'baabb',\n",
       " 'aabaa',\n",
       " 'aaaa',\n",
       " 'aabb',\n",
       " 'bbbaa',\n",
       " 'bbaa',\n",
       " 'bbbb',\n",
       " 'baabaabaa',\n",
       " 'baabaaaa',\n",
       " 'baabaabb',\n",
       " 'baaaabaa',\n",
       " 'baaaaaa',\n",
       " 'baaaabb',\n",
       " 'baabbbaa',\n",
       " 'baabbaa',\n",
       " 'baabbbb',\n",
       " 'aabaabaa',\n",
       " 'aabaaaa',\n",
       " 'aabaabb',\n",
       " 'aaaabaa',\n",
       " 'aaaaaa',\n",
       " 'aaaabb',\n",
       " 'aabbbaa',\n",
       " 'aabbaa',\n",
       " 'aabbbb',\n",
       " 'bbbaabaa',\n",
       " 'bbbaaaa',\n",
       " 'bbbaabb',\n",
       " 'bbaabaa',\n",
       " 'bbaaaa',\n",
       " 'bbaabb',\n",
       " 'bbbbbaa',\n",
       " 'bbbbaa',\n",
       " 'bbbbbb',\n",
       " 'baabaabaabaa',\n",
       " 'baabaabaaaa',\n",
       " 'baabaabaabb',\n",
       " 'baabaaaabaa',\n",
       " 'baabaaaaaa',\n",
       " 'baabaaaabb',\n",
       " 'baabaabbbaa',\n",
       " 'baabaabbaa',\n",
       " 'baabaabbbb',\n",
       " 'baaaabaabaa',\n",
       " 'baaaabaaaa',\n",
       " 'baaaabaabb',\n",
       " 'baaaaaabaa',\n",
       " 'baaaaaaaa',\n",
       " 'baaaaaabb',\n",
       " 'baaaabbbaa',\n",
       " 'baaaabbaa',\n",
       " 'baaaabbbb',\n",
       " 'baabbbaabaa',\n",
       " 'baabbbaaaa',\n",
       " 'baabbbaabb',\n",
       " 'baabbaabaa',\n",
       " 'baabbaaaa',\n",
       " 'baabbaabb',\n",
       " 'baabbbbbaa',\n",
       " 'baabbbbaa',\n",
       " 'baabbbbbb',\n",
       " 'aabaabaabaa',\n",
       " 'aabaabaaaa',\n",
       " 'aabaabaabb',\n",
       " 'aabaaaabaa',\n",
       " 'aabaaaaaa',\n",
       " 'aabaaaabb',\n",
       " 'aabaabbbaa',\n",
       " 'aabaabbaa',\n",
       " 'aabaabbbb',\n",
       " 'aaaabaabaa',\n",
       " 'aaaabaaaa',\n",
       " 'aaaabaabb',\n",
       " 'aaaaaabaa',\n",
       " 'aaaaaaaa',\n",
       " 'aaaaaabb',\n",
       " 'aaaabbbaa',\n",
       " 'aaaabbaa',\n",
       " 'aaaabbbb',\n",
       " 'aabbbaabaa',\n",
       " 'aabbbaaaa',\n",
       " 'aabbbaabb',\n",
       " 'aabbaabaa',\n",
       " 'aabbaaaa',\n",
       " 'aabbaabb',\n",
       " 'aabbbbbaa',\n",
       " 'aabbbbaa',\n",
       " 'aabbbbbb',\n",
       " 'bbbaabaabaa',\n",
       " 'bbbaabaaaa',\n",
       " 'bbbaabaabb',\n",
       " 'bbbaaaabaa',\n",
       " 'bbbaaaaaa',\n",
       " 'bbbaaaabb',\n",
       " 'bbbaabbbaa',\n",
       " 'bbbaabbaa',\n",
       " 'bbbaabbbb',\n",
       " 'bbaabaabaa',\n",
       " 'bbaabaaaa',\n",
       " 'bbaabaabb',\n",
       " 'bbaaaabaa',\n",
       " 'bbaaaaaa',\n",
       " 'bbaaaabb',\n",
       " 'bbaabbbaa',\n",
       " 'bbaabbaa',\n",
       " 'bbaabbbb',\n",
       " 'bbbbbaabaa',\n",
       " 'bbbbbaaaa',\n",
       " 'bbbbbaabb',\n",
       " 'bbbbaabaa',\n",
       " 'bbbbaaaa',\n",
       " 'bbbbaabb',\n",
       " 'bbbbbbbaa',\n",
       " 'bbbbbbaa',\n",
       " 'bbbbbbbb']"
      ]
     },
     "execution_count": 262,
     "metadata": {},
     "output_type": "execute_result"
    }
   ],
   "source": [
    "bbaabbbaa\n",
    "str2ConCat"
   ]
  },
  {
   "cell_type": "code",
   "execution_count": 293,
   "metadata": {},
   "outputs": [
    {
     "name": "stdout",
     "output_type": "stream",
     "text": [
      "false\n",
      "false\n",
      "false\n",
      "false\n",
      "false\n",
      "false\n",
      "false\n",
      "false\n",
      "false\n",
      "false\n",
      "false\n",
      "false\n",
      "false\n",
      "false\n",
      "false\n",
      "false\n",
      "false\n",
      "false\n",
      "false\n",
      "false\n",
      "false\n",
      "false\n",
      "false\n",
      "false\n",
      "false\n",
      "false\n",
      "false\n",
      "false\n",
      "false\n",
      "false\n",
      "false\n",
      "false\n",
      "false\n",
      "false\n",
      "false\n",
      "false\n",
      "false\n",
      "false\n",
      "false\n",
      "false\n",
      "false\n",
      "false\n",
      "false\n",
      "false\n",
      "false\n",
      "false\n",
      "false\n",
      "false\n",
      "false\n",
      "false\n",
      "false\n",
      "false\n",
      "false\n",
      "false\n",
      "false\n",
      "false\n",
      "false\n",
      "false\n",
      "false\n",
      "false\n",
      "false\n",
      "false\n",
      "false\n",
      "false\n",
      "false\n",
      "false\n",
      "false\n",
      "false\n",
      "false\n",
      "false\n",
      "false\n",
      "false\n",
      "false\n",
      "false\n",
      "false\n",
      "false\n",
      "false\n",
      "false\n",
      "false\n",
      "false\n",
      "false\n",
      "false\n",
      "false\n",
      "false\n",
      "false\n",
      "false\n",
      "false\n",
      "false\n",
      "false\n",
      "false\n",
      "false\n",
      "false\n",
      "false\n",
      "false\n",
      "false\n",
      "false\n",
      "false\n",
      "false\n",
      "false\n",
      "false\n",
      "false\n",
      "false\n",
      "false\n",
      "false\n",
      "false\n",
      "false\n",
      "false\n",
      "false\n",
      "true\n",
      "false\n",
      "false\n",
      "false\n",
      "false\n",
      "false\n",
      "false\n",
      "false\n",
      "false\n",
      "false\n",
      "false\n",
      "false\n"
     ]
    }
   ],
   "source": [
    "#bbaabbbaa\n",
    "for i in range(0,len(str1ConCat)):\n",
    "    if(str1ConCat[i] == str2ConCat[i]):\n",
    "        print(\"true\")\n",
    "    else:\n",
    "        print(\"false\")\n",
    "\n",
    "#if(str2ConCat[108] == str1ConCat[108]):\n",
    "#print(\"true\")\n",
    "\n",
    "#print(str2ConCat[108])\n",
    "#print(str1ConCat[108])\n",
    "    \n"
   ]
  },
  {
   "cell_type": "code",
   "execution_count": 119,
   "metadata": {},
   "outputs": [
    {
     "name": "stdout",
     "output_type": "stream",
     "text": [
      "[]\n"
     ]
    }
   ],
   "source": [
    "print(list(gens[2]))"
   ]
  },
  {
   "cell_type": "code",
   "execution_count": 109,
   "metadata": {},
   "outputs": [
    {
     "name": "stdout",
     "output_type": "stream",
     "text": [
      "[1, 2, 3]\n"
     ]
    }
   ],
   "source": [
    "# prints a list of there elemnts\n",
    "print([1,2,3])"
   ]
  },
  {
   "cell_type": "code",
   "execution_count": 110,
   "metadata": {},
   "outputs": [
    {
     "name": "stdout",
     "output_type": "stream",
     "text": [
      "1 2 3\n"
     ]
    }
   ],
   "source": [
    "# prints a elemnts of a list\n",
    "print(*[1,2,3])"
   ]
  },
  {
   "cell_type": "code",
   "execution_count": 307,
   "metadata": {},
   "outputs": [],
   "source": [
    "def bpcp_solver(L1, L2, k):\n",
    "\n",
    "    # The generators.\n",
    "    gens = []\n",
    "\n",
    "    str1 = []\n",
    "    str2 = []\n",
    "\n",
    "    str1ConCat = []\n",
    "    str2ConCat = []\n",
    "    \n",
    "    L3= {}\n",
    "    L4={} \n",
    "\n",
    "    # loop through all possible solutions.\n",
    "    # if you multiply a list by an integer you get, a list cotaining the elements of the orignal list repated\n",
    "    # that numbers of times\n",
    "    for i in range(1, k + 1):\n",
    "        # creates a generator for solutions of length i, append it to gens.\n",
    "        gens.append(product(*([range(len(L1))] * i)))\n",
    "\n",
    "    # chain just chains generators together\n",
    "    for solution in chain(*gens):\n",
    "        str1.append([''.join(L1[i]) for i in solution])\n",
    "        str2.append([''.join(L2[i]) for i in solution])\n",
    "    \n",
    "    for str in str1:\n",
    "        str1ConCat.append((\"\".join(str)))\n",
    "    for str in str2:\n",
    "        str2ConCat.append((\"\".join(str)))\n",
    "        \n",
    "    L3 = set(str1ConCat)\n",
    "    L4 = set(str2ConCat)\n",
    "        \n",
    "    for i in range(0,len(str1ConCat)):\n",
    "        if(set.intersection(L3,L4)):\n",
    "            return True\n",
    "        else:\n",
    "            print(str1ConCat[i])\n",
    "            return False"
   ]
  },
  {
   "cell_type": "code",
   "execution_count": 308,
   "metadata": {},
   "outputs": [],
   "source": [
    "L1 = ((a),(a, b),(b, b, a))\n",
    "L2 = ((b, a, a),(a, a),(b, b))"
   ]
  },
  {
   "cell_type": "code",
   "execution_count": 309,
   "metadata": {},
   "outputs": [
    {
     "data": {
      "text/plain": [
       "True"
      ]
     },
     "execution_count": 309,
     "metadata": {},
     "output_type": "execute_result"
    }
   ],
   "source": [
    "bpcp_solver(L1,L2,4)"
   ]
  }
 ],
 "metadata": {
  "kernelspec": {
   "display_name": "Python 3",
   "language": "python",
   "name": "python3"
  },
  "language_info": {
   "codemirror_mode": {
    "name": "ipython",
    "version": 3
   },
   "file_extension": ".py",
   "mimetype": "text/x-python",
   "name": "python",
   "nbconvert_exporter": "python",
   "pygments_lexer": "ipython3",
   "version": "3.8.5"
  }
 },
 "nbformat": 4,
 "nbformat_minor": 4
}
