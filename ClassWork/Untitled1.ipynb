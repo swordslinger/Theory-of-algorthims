{
 "cells": [
  {
   "cell_type": "markdown",
   "metadata": {},
   "source": [
    "Numbers countdown game\n",
    "***"
   ]
  },
  {
   "cell_type": "code",
   "execution_count": null,
   "metadata": {},
   "outputs": [],
   "source": [
    "# permuatations and comibations\n",
    "import itertools as it"
   ]
  },
  {
   "cell_type": "code",
   "execution_count": null,
   "metadata": {},
   "outputs": [],
   "source": [
    "# random number geneator\n",
    "import random "
   ]
  },
  {
   "cell_type": "code",
   "execution_count": null,
   "metadata": {},
   "outputs": [],
   "source": [
    "# Operators as functions.\n",
    "import operator"
   ]
  },
  {
   "cell_type": "markdown",
   "metadata": {},
   "source": [
    "## simulate a game \n",
    "***"
   ]
  },
  {
   "cell_type": "code",
   "execution_count": null,
   "metadata": {},
   "outputs": [],
   "source": [
    "# The large numbers\n",
    "large = [25, 50, 75, 100]\n",
    "large "
   ]
  },
  {
   "cell_type": "code",
   "execution_count": null,
   "metadata": {},
   "outputs": [],
   "source": [
    "# the small numbers\n",
    "small = list(range(1, 11)) * 2\n",
    "small"
   ]
  },
  {
   "cell_type": "code",
   "execution_count": null,
   "metadata": {},
   "outputs": [],
   "source": [
    "# the number of large numbers to pick between 0-4 inclusive.\n",
    "no_large = random.randrange(0,5)\n",
    "no_large"
   ]
  },
  {
   "cell_type": "code",
   "execution_count": null,
   "metadata": {},
   "outputs": [],
   "source": [
    "# select no_large large numbers at random\n",
    "large_rand = random.sample(large, no_large)\n",
    "large_rand"
   ]
  },
  {
   "cell_type": "code",
   "execution_count": null,
   "metadata": {},
   "outputs": [],
   "source": [
    "# select (6- no_large) small numbers at random\n",
    "small_rand = random.sample(small,6 - no_large)\n",
    "small_rand"
   ]
  },
  {
   "cell_type": "code",
   "execution_count": null,
   "metadata": {},
   "outputs": [],
   "source": [
    "# the six random number in a list\n",
    "play_nos = large_rand + small_rand\n",
    "play_nos"
   ]
  },
  {
   "cell_type": "code",
   "execution_count": null,
   "metadata": {},
   "outputs": [],
   "source": [
    "# pick a random target number\n",
    "target = random.randrange(101,1000)\n",
    "target"
   ]
  },
  {
   "cell_type": "code",
   "execution_count": null,
   "metadata": {},
   "outputs": [],
   "source": [
    "(100 * 10) - 50 - 25"
   ]
  },
  {
   "cell_type": "code",
   "execution_count": null,
   "metadata": {},
   "outputs": [],
   "source": [
    "# addition is allowed\n",
    "# multiplication is allowed\n",
    "# negative integer not allowed\n",
    "# divesion is allowed when you have a positive integer "
   ]
  },
  {
   "cell_type": "code",
   "execution_count": null,
   "metadata": {},
   "outputs": [],
   "source": [
    "#For random numbers and samples.\n",
    "import random\n",
    "\n",
    "def new_numbers_game(no_large=None):\n",
    "    \"\"\" \n",
    "        Returns six numbers and a target number  representing a countdown numbers game.\n",
    "    \"\"\"\n",
    "    # if no_large is None, randomly pick value between 0 and 4 inclusive.\n",
    "    if no_large is None:\n",
    "        # Randomly set the value.\n",
    "        no_large = random.randrange(0, 5)\n",
    "        \n",
    "        # create the large numbers array\n",
    "        large = [25, 50, 75, 100]\n",
    "        \n",
    "        # select random large numbers \n",
    "        large_rand = random.sample([25,50,75,100], no_large)\n",
    "        \n",
    "        # create small numbers array\n",
    "        small_rand = random.sample(list(range(1, 11)) * 2, 6 - no_large)\n",
    "        \n",
    "        # The playing numbers.\n",
    "        play_nos = large_rand + small_rand\n",
    "\n",
    "        # select a target number\n",
    "        target = random.randrange(101,1000)\n",
    "        \n",
    "        # Return the game.\n",
    "        return play_nos, target"
   ]
  },
  {
   "cell_type": "code",
   "execution_count": null,
   "metadata": {},
   "outputs": [],
   "source": [
    "# random numbers game\n",
    "new_numbers_game()"
   ]
  },
  {
   "cell_type": "markdown",
   "metadata": {},
   "source": [
    "## working towards a solution\n",
    "\n",
    "***"
   ]
  },
  {
   "cell_type": "code",
   "execution_count": null,
   "metadata": {},
   "outputs": [],
   "source": [
    "# a new example game.\n",
    "play_nos, target = new_numbers_game()"
   ]
  },
  {
   "cell_type": "code",
   "execution_count": null,
   "metadata": {},
   "outputs": [],
   "source": [
    "play_nos, target"
   ]
  },
  {
   "cell_type": "code",
   "execution_count": null,
   "metadata": {},
   "outputs": [],
   "source": [
    "# Looping through all permutations of two playing numbers.\n",
    "for p in it.permutations(play_nos, 2):\n",
    "  # Print the two numbers.\n",
    "  print(p)\n",
    "  # Print their sum.\n",
    "  print(f'{p[0]} + {p[1]} = {p[0]+p[1]}')\n",
    "  # Print their product.\n",
    "  print(f'{p[0]} * {p[1]} = {p[0]*p[1]}')\n",
    "  # Print their difference if it is positive.\n",
    "  if p[0] - p[1] > 0:\n",
    "    print(f'{p[0]} - {p[1]} = {p[0]-p[1]}')\n",
    "  # Print their quotient if it is an integer.\n",
    "  if p[0] % p[1] == 0:\n",
    "    print(f'{p[0]} / {p[1]} = {p[0]//p[1]}')\n",
    "  # Print a blank line.\n",
    "  print()"
   ]
  },
  {
   "cell_type": "markdown",
   "metadata": {},
   "source": [
    "Operators and Functions\n",
    "\n",
    "***"
   ]
  },
  {
   "cell_type": "code",
   "execution_count": null,
   "metadata": {},
   "outputs": [],
   "source": [
    "operator.add(4, 5)"
   ]
  },
  {
   "cell_type": "code",
   "execution_count": null,
   "metadata": {},
   "outputs": [],
   "source": [
    "operator.mul(4, 5)"
   ]
  },
  {
   "cell_type": "code",
   "execution_count": null,
   "metadata": {},
   "outputs": [],
   "source": [
    "operator.sub(4, 5)"
   ]
  },
  {
   "cell_type": "code",
   "execution_count": null,
   "metadata": {},
   "outputs": [],
   "source": [
    "operator.truediv(4, 5)"
   ]
  },
  {
   "cell_type": "code",
   "execution_count": null,
   "metadata": {},
   "outputs": [],
   "source": [
    "ops = [operator.add,operator.mul,operator.sub,operator.truediv]"
   ]
  },
  {
   "cell_type": "code",
   "execution_count": 23,
   "metadata": {},
   "outputs": [],
   "source": [
    "limit = 14\n",
    "for q in it.permutations(ops, 2):\n",
    "    if limit == 0:\n",
    "        break\n",
    "    print(q)\n",
    "    limit = limit -1\n"
   ]
  },
  {
   "cell_type": "code",
   "execution_count": 24,
   "metadata": {},
   "outputs": [
    {
     "name": "stdout",
     "output_type": "stream",
     "text": [
      "(<built-in function add>, <built-in function mul>)\n",
      "(<built-in function add>, <built-in function sub>)\n",
      "(<built-in function add>, <built-in function truediv>)\n",
      "(<built-in function mul>, <built-in function sub>)\n",
      "(<built-in function mul>, <built-in function truediv>)\n",
      "(<built-in function sub>, <built-in function truediv>)\n"
     ]
    }
   ],
   "source": [
    "limit = 1000\n",
    "for q in it.combinations(ops, 2):\n",
    "    if limit == 0:\n",
    "        break\n",
    "    print(q)\n",
    "    limit = limit -1\n"
   ]
  },
  {
   "cell_type": "code",
   "execution_count": 25,
   "metadata": {},
   "outputs": [
    {
     "name": "stdout",
     "output_type": "stream",
     "text": [
      "(1, 2)\n",
      "(1, 3)\n",
      "(1, 4)\n",
      "(2, 3)\n",
      "(2, 4)\n",
      "(3, 4)\n"
     ]
    }
   ],
   "source": [
    "# Example of combinations.\n",
    "# Order matters: no. Replacement: no.\n",
    "L = [1, 2, 3, 4]\n",
    "for c in it.combinations(L, 2):\n",
    "  print(c)"
   ]
  },
  {
   "cell_type": "code",
   "execution_count": 26,
   "metadata": {},
   "outputs": [
    {
     "name": "stdout",
     "output_type": "stream",
     "text": [
      "(1, 1)\n",
      "(1, 2)\n",
      "(1, 3)\n",
      "(1, 4)\n",
      "(2, 2)\n",
      "(2, 3)\n",
      "(2, 4)\n",
      "(3, 3)\n",
      "(3, 4)\n",
      "(4, 4)\n"
     ]
    }
   ],
   "source": [
    "# Example of combinations with replacement.\n",
    "# Order matters: no. Replacement: yes.\n",
    "L = [1, 2, 3, 4]\n",
    "for c in it.combinations_with_replacement(L, 2):\n",
    "  print(c)"
   ]
  },
  {
   "cell_type": "code",
   "execution_count": 27,
   "metadata": {},
   "outputs": [
    {
     "name": "stdout",
     "output_type": "stream",
     "text": [
      "(<built-in function add>, <built-in function add>, <built-in function add>, <built-in function add>, <built-in function add>)\n",
      "(<built-in function add>, <built-in function add>, <built-in function add>, <built-in function add>, <built-in function mul>)\n",
      "(<built-in function add>, <built-in function add>, <built-in function add>, <built-in function add>, <built-in function sub>)\n",
      "(<built-in function add>, <built-in function add>, <built-in function add>, <built-in function add>, <built-in function truediv>)\n",
      "(<built-in function add>, <built-in function add>, <built-in function add>, <built-in function mul>, <built-in function add>)\n",
      "(<built-in function add>, <built-in function add>, <built-in function add>, <built-in function mul>, <built-in function mul>)\n",
      "(<built-in function add>, <built-in function add>, <built-in function add>, <built-in function mul>, <built-in function sub>)\n",
      "(<built-in function add>, <built-in function add>, <built-in function add>, <built-in function mul>, <built-in function truediv>)\n",
      "(<built-in function add>, <built-in function add>, <built-in function add>, <built-in function sub>, <built-in function add>)\n",
      "(<built-in function add>, <built-in function add>, <built-in function add>, <built-in function sub>, <built-in function mul>)\n"
     ]
    }
   ],
   "source": [
    "# Using product to generate all lists of five operations.\n",
    "ops = [operator.add, operator.mul, operator.sub, operator.truediv]\n",
    "limit = 10\n",
    "for q in it.product(ops, repeat=5):\n",
    "  if limit == 0:\n",
    "    break\n",
    "  print(q)\n",
    "  limit = limit - 1"
   ]
  },
  {
   "cell_type": "markdown",
   "metadata": {},
   "source": [
    "Functional Style\n",
    "\n",
    "***"
   ]
  },
  {
   "cell_type": "code",
   "execution_count": 28,
   "metadata": {},
   "outputs": [
    {
     "data": {
      "text/plain": [
       "([75, 100, 25, 6, 5, 1], 312)"
      ]
     },
     "execution_count": 28,
     "metadata": {},
     "output_type": "execute_result"
    }
   ],
   "source": [
    "play_nos, target = new_numbers_game()\n",
    "play_nos, target"
   ]
  },
  {
   "cell_type": "code",
   "execution_count": 29,
   "metadata": {},
   "outputs": [
    {
     "name": "stdout",
     "output_type": "stream",
     "text": [
      "(75, 100)\n",
      "(75, 25)\n",
      "(75, 6)\n",
      "(75, 5)\n",
      "(75, 1)\n",
      "(100, 75)\n",
      "(100, 25)\n",
      "(100, 6)\n",
      "(100, 5)\n",
      "(100, 1)\n",
      "(25, 75)\n",
      "(25, 100)\n",
      "(25, 6)\n",
      "(25, 5)\n",
      "(25, 1)\n",
      "(6, 75)\n",
      "(6, 100)\n",
      "(6, 25)\n",
      "(6, 5)\n",
      "(6, 1)\n",
      "(5, 75)\n",
      "(5, 100)\n",
      "(5, 25)\n",
      "(5, 6)\n",
      "(5, 1)\n",
      "(1, 75)\n",
      "(1, 100)\n",
      "(1, 25)\n",
      "(1, 6)\n",
      "(1, 5)\n"
     ]
    }
   ],
   "source": [
    "# Orderings of pairs.\n",
    "for pair in it.permutations(play_nos, 2):\n",
    "  print(pair)"
   ]
  },
  {
   "cell_type": "code",
   "execution_count": 30,
   "metadata": {},
   "outputs": [
    {
     "data": {
      "text/plain": [
       "100"
      ]
     },
     "execution_count": 30,
     "metadata": {},
     "output_type": "execute_result"
    }
   ],
   "source": [
    "# change the target tobe something that ill work for just two numbers.\n",
    "target = max(play_nos) * min(play_nos)\n",
    "target"
   ]
  },
  {
   "cell_type": "code",
   "execution_count": 31,
   "metadata": {},
   "outputs": [
    {
     "name": "stdout",
     "output_type": "stream",
     "text": [
      "75 <built-in function add> 25\n",
      "100 <built-in function mul> 1\n",
      "100 <built-in function truediv> 1\n",
      "25 <built-in function add> 75\n",
      "1 <built-in function mul> 100\n"
     ]
    }
   ],
   "source": [
    "# Operators.\n",
    "ops = [operator.add, operator.sub, operator.mul, operator.truediv]\n",
    "\n",
    "def hits_target(z):\n",
    "    nos, op = z\n",
    "    return (op(nos[0], nos[1]) == target)\n",
    "    \n",
    "# Orderings of pairs\n",
    "for nos, op in it.product(it.permutations(play_nos, 2), ops):\n",
    "    if op(nos[0], nos[1]) == target:\n",
    "        print(nos[0], str(op), nos[1])\n",
    "# numbers on the left side, operators on the right side"
   ]
  },
  {
   "cell_type": "code",
   "execution_count": 32,
   "metadata": {},
   "outputs": [
    {
     "data": {
      "text/plain": [
       "[((75, 25), <function _operator.add(a, b, /)>),\n",
       " ((100, 1), <function _operator.mul(a, b, /)>),\n",
       " ((100, 1), <function _operator.truediv(a, b, /)>),\n",
       " ((25, 75), <function _operator.add(a, b, /)>),\n",
       " ((1, 100), <function _operator.mul(a, b, /)>)]"
      ]
     },
     "execution_count": 32,
     "metadata": {},
     "output_type": "execute_result"
    }
   ],
   "source": [
    "list(filter(hits_target, it.product(it.permutations(play_nos, 2), ops)))"
   ]
  },
  {
   "cell_type": "code",
   "execution_count": 33,
   "metadata": {},
   "outputs": [
    {
     "data": {
      "text/plain": [
       "[((75, 25), <function _operator.add(a, b, /)>),\n",
       " ((100, 1), <function _operator.mul(a, b, /)>),\n",
       " ((100, 1), <function _operator.truediv(a, b, /)>),\n",
       " ((25, 75), <function _operator.add(a, b, /)>),\n",
       " ((1, 100), <function _operator.mul(a, b, /)>)]"
      ]
     },
     "execution_count": 33,
     "metadata": {},
     "output_type": "execute_result"
    }
   ],
   "source": [
    "# all pair, op combs that hit target \n",
    "list(filter(lambda z: z[1](z[0][0], z[0][1]) == target, it.product(it.permutations(play_nos, 2), ops)))"
   ]
  },
  {
   "cell_type": "code",
   "execution_count": 34,
   "metadata": {},
   "outputs": [],
   "source": [
    "# ordering of pairs.\n",
    "# product will do replacement\n",
    "for oplist in it.product(*([ops] * 5)):\n",
    "   if(1 != 2):\n",
    "    break"
   ]
  },
  {
   "cell_type": "code",
   "execution_count": 35,
   "metadata": {},
   "outputs": [
    {
     "name": "stdout",
     "output_type": "stream",
     "text": [
      "(75, 100, 25, 6, 5, 1) (<built-in function add>, <built-in function add>, <built-in function add>, <built-in function add>, <built-in function add>)\n",
      "(75, 100, 25, 6, 5, 1) (<built-in function add>, <built-in function add>, <built-in function add>, <built-in function add>, <built-in function sub>)\n",
      "(75, 100, 25, 6, 5, 1) (<built-in function add>, <built-in function add>, <built-in function add>, <built-in function add>, <built-in function mul>)\n",
      "(75, 100, 25, 6, 5, 1) (<built-in function add>, <built-in function add>, <built-in function add>, <built-in function add>, <built-in function truediv>)\n",
      "(75, 100, 25, 6, 5, 1) (<built-in function add>, <built-in function add>, <built-in function add>, <built-in function sub>, <built-in function add>)\n",
      "(75, 100, 25, 6, 5, 1) (<built-in function add>, <built-in function add>, <built-in function add>, <built-in function sub>, <built-in function sub>)\n",
      "(75, 100, 25, 6, 5, 1) (<built-in function add>, <built-in function add>, <built-in function add>, <built-in function sub>, <built-in function mul>)\n",
      "(75, 100, 25, 6, 5, 1) (<built-in function add>, <built-in function add>, <built-in function add>, <built-in function sub>, <built-in function truediv>)\n",
      "(75, 100, 25, 6, 5, 1) (<built-in function add>, <built-in function add>, <built-in function add>, <built-in function mul>, <built-in function add>)\n",
      "(75, 100, 25, 6, 5, 1) (<built-in function add>, <built-in function add>, <built-in function add>, <built-in function mul>, <built-in function sub>)\n"
     ]
    }
   ],
   "source": [
    "# ordering of pairs.\n",
    "# product will do replacement\n",
    "i = 990\n",
    "for play_nos, opers in it.product(it.permutations(play_nos), it.product(*([ops]* 5))):\n",
    "    print(play_nos, opers)\n",
    "    i = i + 1\n",
    "    if(i >= 1000):\n",
    "        break"
   ]
  },
  {
   "cell_type": "code",
   "execution_count": 36,
   "metadata": {},
   "outputs": [
    {
     "data": {
      "text/plain": [
       "1024"
      ]
     },
     "execution_count": 36,
     "metadata": {},
     "output_type": "execute_result"
    }
   ],
   "source": [
    "# number of cominbations of 5 operators with replacement.\n",
    "4**5\n"
   ]
  },
  {
   "cell_type": "code",
   "execution_count": 37,
   "metadata": {},
   "outputs": [
    {
     "data": {
      "text/plain": [
       "720"
      ]
     },
     "execution_count": 37,
     "metadata": {},
     "output_type": "execute_result"
    }
   ],
   "source": [
    "# no of permutations of playing numbes.\n",
    "import math\n",
    "math.factorial(6)"
   ]
  },
  {
   "cell_type": "code",
   "execution_count": 38,
   "metadata": {},
   "outputs": [
    {
     "data": {
      "text/plain": [
       "737280"
      ]
     },
     "execution_count": 38,
     "metadata": {},
     "output_type": "execute_result"
    }
   ],
   "source": [
    "4**5 * math.factorial(6)"
   ]
  },
  {
   "cell_type": "markdown",
   "metadata": {},
   "source": [
    "### Partitions\n",
    "\n",
    "***"
   ]
  },
  {
   "cell_type": "code",
   "execution_count": 40,
   "metadata": {},
   "outputs": [
    {
     "data": {
      "text/plain": [
       "{1, 2, 3, 4, 5, 6}"
      ]
     },
     "execution_count": 40,
     "metadata": {},
     "output_type": "execute_result"
    }
   ],
   "source": [
    "{1,2,3,4,5,6} #{{1,2},{3, 4, 5}, {6}}"
   ]
  },
  {
   "cell_type": "code",
   "execution_count": 41,
   "metadata": {},
   "outputs": [],
   "source": [
    "# an example List of 6 numbers\n",
    "numbers = [100, 75, 10, 4, 2, 1]"
   ]
  },
  {
   "cell_type": "code",
   "execution_count": 42,
   "metadata": {},
   "outputs": [],
   "source": [
    "# Give all 2-partitions a list\n",
    "# where each sublist has at least on element.\n",
    "def partitions(L):\n",
    "    for i in range(1,len(L)):\n",
    "        # slice the list using i.\n",
    "        print(f\"The element at {i} is {L[i]}.\")\n",
    "        print(L[:i], L[i:])\n",
    "        print()"
   ]
  },
  {
   "cell_type": "code",
   "execution_count": 43,
   "metadata": {},
   "outputs": [
    {
     "name": "stdout",
     "output_type": "stream",
     "text": [
      "The element at 1 is 75.\n",
      "[100] [75, 10, 4, 2, 1]\n",
      "\n",
      "The element at 2 is 10.\n",
      "[100, 75] [10, 4, 2, 1]\n",
      "\n",
      "The element at 3 is 4.\n",
      "[100, 75, 10] [4, 2, 1]\n",
      "\n",
      "The element at 4 is 2.\n",
      "[100, 75, 10, 4] [2, 1]\n",
      "\n",
      "The element at 5 is 1.\n",
      "[100, 75, 10, 4, 2] [1]\n",
      "\n"
     ]
    }
   ],
   "source": [
    "# all partitions of the numbers list\n",
    "partitions(numbers)"
   ]
  },
  {
   "cell_type": "code",
   "execution_count": 44,
   "metadata": {},
   "outputs": [
    {
     "name": "stdout",
     "output_type": "stream",
     "text": [
      "The element at 1 is 10.\n",
      "[75] [10, 4, 2, 1]\n",
      "\n",
      "The element at 2 is 4.\n",
      "[75, 10] [4, 2, 1]\n",
      "\n",
      "The element at 3 is 2.\n",
      "[75, 10, 4] [2, 1]\n",
      "\n",
      "The element at 4 is 1.\n",
      "[75, 10, 4, 2] [1]\n",
      "\n"
     ]
    }
   ],
   "source": [
    "# and some of the sublits in turn can further partitiotioned\n",
    "partitions(numbers[1:])"
   ]
  },
  {
   "cell_type": "code",
   "execution_count": 45,
   "metadata": {},
   "outputs": [
    {
     "name": "stdout",
     "output_type": "stream",
     "text": [
      "The element at 1 is 4.\n",
      "[10] [4, 2, 1]\n",
      "\n",
      "The element at 2 is 2.\n",
      "[10, 4] [2, 1]\n",
      "\n",
      "The element at 3 is 1.\n",
      "[10, 4, 2] [1]\n",
      "\n"
     ]
    }
   ],
   "source": [
    "# and some of the sublits in turn can further (and further) partitiotioned\n",
    "partitions(numbers[2:])"
   ]
  },
  {
   "cell_type": "code",
   "execution_count": null,
   "metadata": {},
   "outputs": [],
   "source": []
  },
  {
   "cell_type": "code",
   "execution_count": 59,
   "metadata": {},
   "outputs": [],
   "source": [
    "# Give all 2-partionts of a list\n",
    "# where each sublist has one element.\n",
    "def partitions(L):\n",
    "    # check if there is no way to partiton further.\n",
    "    if len(L) == 1:\n",
    "        yield f\"{L[0]}\"\n",
    "    for i in range(1, len(L)):\n",
    "        for left, right in it.product(partitions(L[:i]), partitions(L[i:])):\n",
    "            yield f\"({left} ? {right})\""
   ]
  },
  {
   "cell_type": "code",
   "execution_count": 60,
   "metadata": {},
   "outputs": [
    {
     "data": {
      "text/plain": [
       "<generator object partitions at 0x0000023ECB6C7D60>"
      ]
     },
     "execution_count": 60,
     "metadata": {},
     "output_type": "execute_result"
    }
   ],
   "source": [
    "partitions(numbers)"
   ]
  },
  {
   "cell_type": "code",
   "execution_count": 61,
   "metadata": {
    "scrolled": true
   },
   "outputs": [
    {
     "data": {
      "text/plain": [
       "['(100 ? (75 ? (10 ? (4 ? (2 ? 1)))))',\n",
       " '(100 ? (75 ? (10 ? ((4 ? 2) ? 1))))',\n",
       " '(100 ? (75 ? ((10 ? 4) ? (2 ? 1))))',\n",
       " '(100 ? (75 ? ((10 ? (4 ? 2)) ? 1)))',\n",
       " '(100 ? (75 ? (((10 ? 4) ? 2) ? 1)))',\n",
       " '(100 ? ((75 ? 10) ? (4 ? (2 ? 1))))',\n",
       " '(100 ? ((75 ? 10) ? ((4 ? 2) ? 1)))',\n",
       " '(100 ? ((75 ? (10 ? 4)) ? (2 ? 1)))',\n",
       " '(100 ? (((75 ? 10) ? 4) ? (2 ? 1)))',\n",
       " '(100 ? ((75 ? (10 ? (4 ? 2))) ? 1))',\n",
       " '(100 ? ((75 ? ((10 ? 4) ? 2)) ? 1))',\n",
       " '(100 ? (((75 ? 10) ? (4 ? 2)) ? 1))',\n",
       " '(100 ? (((75 ? (10 ? 4)) ? 2) ? 1))',\n",
       " '(100 ? ((((75 ? 10) ? 4) ? 2) ? 1))',\n",
       " '((100 ? 75) ? (10 ? (4 ? (2 ? 1))))',\n",
       " '((100 ? 75) ? (10 ? ((4 ? 2) ? 1)))',\n",
       " '((100 ? 75) ? ((10 ? 4) ? (2 ? 1)))',\n",
       " '((100 ? 75) ? ((10 ? (4 ? 2)) ? 1))',\n",
       " '((100 ? 75) ? (((10 ? 4) ? 2) ? 1))',\n",
       " '((100 ? (75 ? 10)) ? (4 ? (2 ? 1)))',\n",
       " '((100 ? (75 ? 10)) ? ((4 ? 2) ? 1))',\n",
       " '(((100 ? 75) ? 10) ? (4 ? (2 ? 1)))',\n",
       " '(((100 ? 75) ? 10) ? ((4 ? 2) ? 1))',\n",
       " '((100 ? (75 ? (10 ? 4))) ? (2 ? 1))',\n",
       " '((100 ? ((75 ? 10) ? 4)) ? (2 ? 1))',\n",
       " '(((100 ? 75) ? (10 ? 4)) ? (2 ? 1))',\n",
       " '(((100 ? (75 ? 10)) ? 4) ? (2 ? 1))',\n",
       " '((((100 ? 75) ? 10) ? 4) ? (2 ? 1))',\n",
       " '((100 ? (75 ? (10 ? (4 ? 2)))) ? 1)',\n",
       " '((100 ? (75 ? ((10 ? 4) ? 2))) ? 1)',\n",
       " '((100 ? ((75 ? 10) ? (4 ? 2))) ? 1)',\n",
       " '((100 ? ((75 ? (10 ? 4)) ? 2)) ? 1)',\n",
       " '((100 ? (((75 ? 10) ? 4) ? 2)) ? 1)',\n",
       " '(((100 ? 75) ? (10 ? (4 ? 2))) ? 1)',\n",
       " '(((100 ? 75) ? ((10 ? 4) ? 2)) ? 1)',\n",
       " '(((100 ? (75 ? 10)) ? (4 ? 2)) ? 1)',\n",
       " '((((100 ? 75) ? 10) ? (4 ? 2)) ? 1)',\n",
       " '(((100 ? (75 ? (10 ? 4))) ? 2) ? 1)',\n",
       " '(((100 ? ((75 ? 10) ? 4)) ? 2) ? 1)',\n",
       " '((((100 ? 75) ? (10 ? 4)) ? 2) ? 1)',\n",
       " '((((100 ? (75 ? 10)) ? 4) ? 2) ? 1)',\n",
       " '(((((100 ? 75) ? 10) ? 4) ? 2) ? 1)']"
      ]
     },
     "execution_count": 61,
     "metadata": {},
     "output_type": "execute_result"
    }
   ],
   "source": [
    "list(partitions(numbers))"
   ]
  },
  {
   "cell_type": "code",
   "execution_count": 62,
   "metadata": {},
   "outputs": [
    {
     "name": "stdout",
     "output_type": "stream",
     "text": [
      "(100 ? (75 ? (10 ? (4 ? (2 ? 1)))))\n",
      "(100 ? (75 ? (10 ? ((4 ? 2) ? 1))))\n",
      "(100 ? (75 ? ((10 ? 4) ? (2 ? 1))))\n",
      "(100 ? (75 ? ((10 ? (4 ? 2)) ? 1)))\n",
      "(100 ? (75 ? (((10 ? 4) ? 2) ? 1)))\n",
      "(100 ? ((75 ? 10) ? (4 ? (2 ? 1))))\n",
      "(100 ? ((75 ? 10) ? ((4 ? 2) ? 1)))\n",
      "(100 ? ((75 ? (10 ? 4)) ? (2 ? 1)))\n",
      "(100 ? (((75 ? 10) ? 4) ? (2 ? 1)))\n",
      "(100 ? ((75 ? (10 ? (4 ? 2))) ? 1))\n",
      "(100 ? ((75 ? ((10 ? 4) ? 2)) ? 1))\n",
      "(100 ? (((75 ? 10) ? (4 ? 2)) ? 1))\n",
      "(100 ? (((75 ? (10 ? 4)) ? 2) ? 1))\n",
      "(100 ? ((((75 ? 10) ? 4) ? 2) ? 1))\n",
      "((100 ? 75) ? (10 ? (4 ? (2 ? 1))))\n",
      "((100 ? 75) ? (10 ? ((4 ? 2) ? 1)))\n",
      "((100 ? 75) ? ((10 ? 4) ? (2 ? 1)))\n",
      "((100 ? 75) ? ((10 ? (4 ? 2)) ? 1))\n",
      "((100 ? 75) ? (((10 ? 4) ? 2) ? 1))\n",
      "((100 ? (75 ? 10)) ? (4 ? (2 ? 1)))\n",
      "((100 ? (75 ? 10)) ? ((4 ? 2) ? 1))\n",
      "(((100 ? 75) ? 10) ? (4 ? (2 ? 1)))\n",
      "(((100 ? 75) ? 10) ? ((4 ? 2) ? 1))\n",
      "((100 ? (75 ? (10 ? 4))) ? (2 ? 1))\n",
      "((100 ? ((75 ? 10) ? 4)) ? (2 ? 1))\n",
      "(((100 ? 75) ? (10 ? 4)) ? (2 ? 1))\n",
      "(((100 ? (75 ? 10)) ? 4) ? (2 ? 1))\n",
      "((((100 ? 75) ? 10) ? 4) ? (2 ? 1))\n",
      "((100 ? (75 ? (10 ? (4 ? 2)))) ? 1)\n",
      "((100 ? (75 ? ((10 ? 4) ? 2))) ? 1)\n",
      "((100 ? ((75 ? 10) ? (4 ? 2))) ? 1)\n",
      "((100 ? ((75 ? (10 ? 4)) ? 2)) ? 1)\n",
      "((100 ? (((75 ? 10) ? 4) ? 2)) ? 1)\n",
      "(((100 ? 75) ? (10 ? (4 ? 2))) ? 1)\n",
      "(((100 ? 75) ? ((10 ? 4) ? 2)) ? 1)\n",
      "(((100 ? (75 ? 10)) ? (4 ? 2)) ? 1)\n",
      "((((100 ? 75) ? 10) ? (4 ? 2)) ? 1)\n",
      "(((100 ? (75 ? (10 ? 4))) ? 2) ? 1)\n",
      "(((100 ? ((75 ? 10) ? 4)) ? 2) ? 1)\n",
      "((((100 ? 75) ? (10 ? 4)) ? 2) ? 1)\n",
      "((((100 ? (75 ? 10)) ? 4) ? 2) ? 1)\n",
      "(((((100 ? 75) ? 10) ? 4) ? 2) ? 1)\n",
      "42\n"
     ]
    }
   ],
   "source": [
    "total = 0\n",
    "for i in partitions(numbers):\n",
    "    print(i)\n",
    "    total = total + 1\n",
    "print(total)"
   ]
  },
  {
   "cell_type": "code",
   "execution_count": 110,
   "metadata": {},
   "outputs": [],
   "source": []
  },
  {
   "cell_type": "code",
   "execution_count": 112,
   "metadata": {},
   "outputs": [],
   "source": [
    "def patterns(numbers, operators):\n",
    "    # check if there is no way to partiton further.\n",
    "    if len(numbers) == 1:\n",
    "        yield numbers[0]\n",
    "    # loop through all the ways to partition L into two non-empty sublists.\n",
    "    for i in range(1, len(numbers)):\n",
    "        # Slice the list using i.\n",
    "        for left, right in it.product(patterns(numbers[:i], operators[1:i]), patterns(numbers[i:], operators[i:])):\n",
    "            # Yield the next operator applied to the sublists.\n",
    "            yield [{left}, operators[0], {right}]"
   ]
  },
  {
   "cell_type": "code",
   "execution_count": 115,
   "metadata": {},
   "outputs": [
    {
     "ename": "TypeError",
     "evalue": "unhashable type: 'list'",
     "output_type": "error",
     "traceback": [
      "\u001b[1;31m---------------------------------------------------------------------------\u001b[0m",
      "\u001b[1;31mTypeError\u001b[0m                                 Traceback (most recent call last)",
      "\u001b[1;32m<ipython-input-115-9b7c30482503>\u001b[0m in \u001b[0;36m<module>\u001b[1;34m\u001b[0m\n\u001b[0;32m      6\u001b[0m \u001b[1;33m\u001b[0m\u001b[0m\n\u001b[0;32m      7\u001b[0m \u001b[1;31m# Using eval, which mightn't be great.\u001b[0m\u001b[1;33m\u001b[0m\u001b[1;33m\u001b[0m\u001b[1;33m\u001b[0m\u001b[0m\n\u001b[1;32m----> 8\u001b[1;33m \u001b[1;32mfor\u001b[0m \u001b[0mi\u001b[0m \u001b[1;32min\u001b[0m \u001b[0mpatterns\u001b[0m\u001b[1;33m(\u001b[0m\u001b[0mnumbers\u001b[0m\u001b[1;33m,\u001b[0m \u001b[0mops\u001b[0m\u001b[1;33m)\u001b[0m\u001b[1;33m:\u001b[0m\u001b[1;33m\u001b[0m\u001b[1;33m\u001b[0m\u001b[0m\n\u001b[0m\u001b[0;32m      9\u001b[0m   \u001b[0mprint\u001b[0m\u001b[1;33m(\u001b[0m\u001b[1;34mf'{i} = {eval(i)}'\u001b[0m\u001b[1;33m)\u001b[0m\u001b[1;33m\u001b[0m\u001b[1;33m\u001b[0m\u001b[0m\n",
      "\u001b[1;32m<ipython-input-112-64f987224678>\u001b[0m in \u001b[0;36mpatterns\u001b[1;34m(numbers, operators)\u001b[0m\n\u001b[0;32m      6\u001b[0m     \u001b[1;32mfor\u001b[0m \u001b[0mi\u001b[0m \u001b[1;32min\u001b[0m \u001b[0mrange\u001b[0m\u001b[1;33m(\u001b[0m\u001b[1;36m1\u001b[0m\u001b[1;33m,\u001b[0m \u001b[0mlen\u001b[0m\u001b[1;33m(\u001b[0m\u001b[0mnumbers\u001b[0m\u001b[1;33m)\u001b[0m\u001b[1;33m)\u001b[0m\u001b[1;33m:\u001b[0m\u001b[1;33m\u001b[0m\u001b[1;33m\u001b[0m\u001b[0m\n\u001b[0;32m      7\u001b[0m         \u001b[1;31m# Slice the list using i.\u001b[0m\u001b[1;33m\u001b[0m\u001b[1;33m\u001b[0m\u001b[1;33m\u001b[0m\u001b[0m\n\u001b[1;32m----> 8\u001b[1;33m         \u001b[1;32mfor\u001b[0m \u001b[0mleft\u001b[0m\u001b[1;33m,\u001b[0m \u001b[0mright\u001b[0m \u001b[1;32min\u001b[0m \u001b[0mit\u001b[0m\u001b[1;33m.\u001b[0m\u001b[0mproduct\u001b[0m\u001b[1;33m(\u001b[0m\u001b[0mpatterns\u001b[0m\u001b[1;33m(\u001b[0m\u001b[0mnumbers\u001b[0m\u001b[1;33m[\u001b[0m\u001b[1;33m:\u001b[0m\u001b[0mi\u001b[0m\u001b[1;33m]\u001b[0m\u001b[1;33m,\u001b[0m \u001b[0moperators\u001b[0m\u001b[1;33m[\u001b[0m\u001b[1;36m1\u001b[0m\u001b[1;33m:\u001b[0m\u001b[0mi\u001b[0m\u001b[1;33m]\u001b[0m\u001b[1;33m)\u001b[0m\u001b[1;33m,\u001b[0m \u001b[0mpatterns\u001b[0m\u001b[1;33m(\u001b[0m\u001b[0mnumbers\u001b[0m\u001b[1;33m[\u001b[0m\u001b[0mi\u001b[0m\u001b[1;33m:\u001b[0m\u001b[1;33m]\u001b[0m\u001b[1;33m,\u001b[0m \u001b[0moperators\u001b[0m\u001b[1;33m[\u001b[0m\u001b[0mi\u001b[0m\u001b[1;33m:\u001b[0m\u001b[1;33m]\u001b[0m\u001b[1;33m)\u001b[0m\u001b[1;33m)\u001b[0m\u001b[1;33m:\u001b[0m\u001b[1;33m\u001b[0m\u001b[1;33m\u001b[0m\u001b[0m\n\u001b[0m\u001b[0;32m      9\u001b[0m             \u001b[1;31m# Yield the next operator applied to the sublists.\u001b[0m\u001b[1;33m\u001b[0m\u001b[1;33m\u001b[0m\u001b[1;33m\u001b[0m\u001b[0m\n\u001b[0;32m     10\u001b[0m             \u001b[1;32myield\u001b[0m \u001b[1;33m[\u001b[0m\u001b[1;33m{\u001b[0m\u001b[0mleft\u001b[0m\u001b[1;33m}\u001b[0m\u001b[1;33m,\u001b[0m \u001b[0moperators\u001b[0m\u001b[1;33m[\u001b[0m\u001b[1;36m0\u001b[0m\u001b[1;33m]\u001b[0m\u001b[1;33m,\u001b[0m \u001b[1;33m{\u001b[0m\u001b[0mright\u001b[0m\u001b[1;33m}\u001b[0m\u001b[1;33m]\u001b[0m\u001b[1;33m\u001b[0m\u001b[1;33m\u001b[0m\u001b[0m\n",
      "\u001b[1;32m<ipython-input-112-64f987224678>\u001b[0m in \u001b[0;36mpatterns\u001b[1;34m(numbers, operators)\u001b[0m\n\u001b[0;32m      6\u001b[0m     \u001b[1;32mfor\u001b[0m \u001b[0mi\u001b[0m \u001b[1;32min\u001b[0m \u001b[0mrange\u001b[0m\u001b[1;33m(\u001b[0m\u001b[1;36m1\u001b[0m\u001b[1;33m,\u001b[0m \u001b[0mlen\u001b[0m\u001b[1;33m(\u001b[0m\u001b[0mnumbers\u001b[0m\u001b[1;33m)\u001b[0m\u001b[1;33m)\u001b[0m\u001b[1;33m:\u001b[0m\u001b[1;33m\u001b[0m\u001b[1;33m\u001b[0m\u001b[0m\n\u001b[0;32m      7\u001b[0m         \u001b[1;31m# Slice the list using i.\u001b[0m\u001b[1;33m\u001b[0m\u001b[1;33m\u001b[0m\u001b[1;33m\u001b[0m\u001b[0m\n\u001b[1;32m----> 8\u001b[1;33m         \u001b[1;32mfor\u001b[0m \u001b[0mleft\u001b[0m\u001b[1;33m,\u001b[0m \u001b[0mright\u001b[0m \u001b[1;32min\u001b[0m \u001b[0mit\u001b[0m\u001b[1;33m.\u001b[0m\u001b[0mproduct\u001b[0m\u001b[1;33m(\u001b[0m\u001b[0mpatterns\u001b[0m\u001b[1;33m(\u001b[0m\u001b[0mnumbers\u001b[0m\u001b[1;33m[\u001b[0m\u001b[1;33m:\u001b[0m\u001b[0mi\u001b[0m\u001b[1;33m]\u001b[0m\u001b[1;33m,\u001b[0m \u001b[0moperators\u001b[0m\u001b[1;33m[\u001b[0m\u001b[1;36m1\u001b[0m\u001b[1;33m:\u001b[0m\u001b[0mi\u001b[0m\u001b[1;33m]\u001b[0m\u001b[1;33m)\u001b[0m\u001b[1;33m,\u001b[0m \u001b[0mpatterns\u001b[0m\u001b[1;33m(\u001b[0m\u001b[0mnumbers\u001b[0m\u001b[1;33m[\u001b[0m\u001b[0mi\u001b[0m\u001b[1;33m:\u001b[0m\u001b[1;33m]\u001b[0m\u001b[1;33m,\u001b[0m \u001b[0moperators\u001b[0m\u001b[1;33m[\u001b[0m\u001b[0mi\u001b[0m\u001b[1;33m:\u001b[0m\u001b[1;33m]\u001b[0m\u001b[1;33m)\u001b[0m\u001b[1;33m)\u001b[0m\u001b[1;33m:\u001b[0m\u001b[1;33m\u001b[0m\u001b[1;33m\u001b[0m\u001b[0m\n\u001b[0m\u001b[0;32m      9\u001b[0m             \u001b[1;31m# Yield the next operator applied to the sublists.\u001b[0m\u001b[1;33m\u001b[0m\u001b[1;33m\u001b[0m\u001b[1;33m\u001b[0m\u001b[0m\n\u001b[0;32m     10\u001b[0m             \u001b[1;32myield\u001b[0m \u001b[1;33m[\u001b[0m\u001b[1;33m{\u001b[0m\u001b[0mleft\u001b[0m\u001b[1;33m}\u001b[0m\u001b[1;33m,\u001b[0m \u001b[0moperators\u001b[0m\u001b[1;33m[\u001b[0m\u001b[1;36m0\u001b[0m\u001b[1;33m]\u001b[0m\u001b[1;33m,\u001b[0m \u001b[1;33m{\u001b[0m\u001b[0mright\u001b[0m\u001b[1;33m}\u001b[0m\u001b[1;33m]\u001b[0m\u001b[1;33m\u001b[0m\u001b[1;33m\u001b[0m\u001b[0m\n",
      "\u001b[1;32m<ipython-input-112-64f987224678>\u001b[0m in \u001b[0;36mpatterns\u001b[1;34m(numbers, operators)\u001b[0m\n\u001b[0;32m      6\u001b[0m     \u001b[1;32mfor\u001b[0m \u001b[0mi\u001b[0m \u001b[1;32min\u001b[0m \u001b[0mrange\u001b[0m\u001b[1;33m(\u001b[0m\u001b[1;36m1\u001b[0m\u001b[1;33m,\u001b[0m \u001b[0mlen\u001b[0m\u001b[1;33m(\u001b[0m\u001b[0mnumbers\u001b[0m\u001b[1;33m)\u001b[0m\u001b[1;33m)\u001b[0m\u001b[1;33m:\u001b[0m\u001b[1;33m\u001b[0m\u001b[1;33m\u001b[0m\u001b[0m\n\u001b[0;32m      7\u001b[0m         \u001b[1;31m# Slice the list using i.\u001b[0m\u001b[1;33m\u001b[0m\u001b[1;33m\u001b[0m\u001b[1;33m\u001b[0m\u001b[0m\n\u001b[1;32m----> 8\u001b[1;33m         \u001b[1;32mfor\u001b[0m \u001b[0mleft\u001b[0m\u001b[1;33m,\u001b[0m \u001b[0mright\u001b[0m \u001b[1;32min\u001b[0m \u001b[0mit\u001b[0m\u001b[1;33m.\u001b[0m\u001b[0mproduct\u001b[0m\u001b[1;33m(\u001b[0m\u001b[0mpatterns\u001b[0m\u001b[1;33m(\u001b[0m\u001b[0mnumbers\u001b[0m\u001b[1;33m[\u001b[0m\u001b[1;33m:\u001b[0m\u001b[0mi\u001b[0m\u001b[1;33m]\u001b[0m\u001b[1;33m,\u001b[0m \u001b[0moperators\u001b[0m\u001b[1;33m[\u001b[0m\u001b[1;36m1\u001b[0m\u001b[1;33m:\u001b[0m\u001b[0mi\u001b[0m\u001b[1;33m]\u001b[0m\u001b[1;33m)\u001b[0m\u001b[1;33m,\u001b[0m \u001b[0mpatterns\u001b[0m\u001b[1;33m(\u001b[0m\u001b[0mnumbers\u001b[0m\u001b[1;33m[\u001b[0m\u001b[0mi\u001b[0m\u001b[1;33m:\u001b[0m\u001b[1;33m]\u001b[0m\u001b[1;33m,\u001b[0m \u001b[0moperators\u001b[0m\u001b[1;33m[\u001b[0m\u001b[0mi\u001b[0m\u001b[1;33m:\u001b[0m\u001b[1;33m]\u001b[0m\u001b[1;33m)\u001b[0m\u001b[1;33m)\u001b[0m\u001b[1;33m:\u001b[0m\u001b[1;33m\u001b[0m\u001b[1;33m\u001b[0m\u001b[0m\n\u001b[0m\u001b[0;32m      9\u001b[0m             \u001b[1;31m# Yield the next operator applied to the sublists.\u001b[0m\u001b[1;33m\u001b[0m\u001b[1;33m\u001b[0m\u001b[1;33m\u001b[0m\u001b[0m\n\u001b[0;32m     10\u001b[0m             \u001b[1;32myield\u001b[0m \u001b[1;33m[\u001b[0m\u001b[1;33m{\u001b[0m\u001b[0mleft\u001b[0m\u001b[1;33m}\u001b[0m\u001b[1;33m,\u001b[0m \u001b[0moperators\u001b[0m\u001b[1;33m[\u001b[0m\u001b[1;36m0\u001b[0m\u001b[1;33m]\u001b[0m\u001b[1;33m,\u001b[0m \u001b[1;33m{\u001b[0m\u001b[0mright\u001b[0m\u001b[1;33m}\u001b[0m\u001b[1;33m]\u001b[0m\u001b[1;33m\u001b[0m\u001b[1;33m\u001b[0m\u001b[0m\n",
      "\u001b[1;32m<ipython-input-112-64f987224678>\u001b[0m in \u001b[0;36mpatterns\u001b[1;34m(numbers, operators)\u001b[0m\n\u001b[0;32m      8\u001b[0m         \u001b[1;32mfor\u001b[0m \u001b[0mleft\u001b[0m\u001b[1;33m,\u001b[0m \u001b[0mright\u001b[0m \u001b[1;32min\u001b[0m \u001b[0mit\u001b[0m\u001b[1;33m.\u001b[0m\u001b[0mproduct\u001b[0m\u001b[1;33m(\u001b[0m\u001b[0mpatterns\u001b[0m\u001b[1;33m(\u001b[0m\u001b[0mnumbers\u001b[0m\u001b[1;33m[\u001b[0m\u001b[1;33m:\u001b[0m\u001b[0mi\u001b[0m\u001b[1;33m]\u001b[0m\u001b[1;33m,\u001b[0m \u001b[0moperators\u001b[0m\u001b[1;33m[\u001b[0m\u001b[1;36m1\u001b[0m\u001b[1;33m:\u001b[0m\u001b[0mi\u001b[0m\u001b[1;33m]\u001b[0m\u001b[1;33m)\u001b[0m\u001b[1;33m,\u001b[0m \u001b[0mpatterns\u001b[0m\u001b[1;33m(\u001b[0m\u001b[0mnumbers\u001b[0m\u001b[1;33m[\u001b[0m\u001b[0mi\u001b[0m\u001b[1;33m:\u001b[0m\u001b[1;33m]\u001b[0m\u001b[1;33m,\u001b[0m \u001b[0moperators\u001b[0m\u001b[1;33m[\u001b[0m\u001b[0mi\u001b[0m\u001b[1;33m:\u001b[0m\u001b[1;33m]\u001b[0m\u001b[1;33m)\u001b[0m\u001b[1;33m)\u001b[0m\u001b[1;33m:\u001b[0m\u001b[1;33m\u001b[0m\u001b[1;33m\u001b[0m\u001b[0m\n\u001b[0;32m      9\u001b[0m             \u001b[1;31m# Yield the next operator applied to the sublists.\u001b[0m\u001b[1;33m\u001b[0m\u001b[1;33m\u001b[0m\u001b[1;33m\u001b[0m\u001b[0m\n\u001b[1;32m---> 10\u001b[1;33m             \u001b[1;32myield\u001b[0m \u001b[1;33m[\u001b[0m\u001b[1;33m{\u001b[0m\u001b[0mleft\u001b[0m\u001b[1;33m}\u001b[0m\u001b[1;33m,\u001b[0m \u001b[0moperators\u001b[0m\u001b[1;33m[\u001b[0m\u001b[1;36m0\u001b[0m\u001b[1;33m]\u001b[0m\u001b[1;33m,\u001b[0m \u001b[1;33m{\u001b[0m\u001b[0mright\u001b[0m\u001b[1;33m}\u001b[0m\u001b[1;33m]\u001b[0m\u001b[1;33m\u001b[0m\u001b[1;33m\u001b[0m\u001b[0m\n\u001b[0m",
      "\u001b[1;31mTypeError\u001b[0m: unhashable type: 'list'"
     ]
    }
   ],
   "source": [
    "# An example list of six numbers.\n",
    "numbers = [100, 75, 10, 4, 2, 1]\n",
    "# Example operators\n",
    "ops = ['+','*','-','+','+']\n",
    "\n",
    "\n",
    "# Using eval, which mightn't be great.\n",
    "for i in patterns(numbers, ops):\n",
    "  print(f'{i} = {eval(i)}')"
   ]
  },
  {
   "cell_type": "code",
   "execution_count": null,
   "metadata": {},
   "outputs": [],
   "source": [
    "# An example list of six numbers.\n",
    "numbers = [100, 75, 10, 4, 2, 1]\n",
    "# Example operators.\n",
    "# operators = [operator.add, operator.mul, operator.sub, operator.add, operator.add]\n",
    "operators = ['+', '*', '-', '+', '+']\n",
    "# Using eval, which mightn't be great.\n",
    "for i in patterns(numbers, operators):\n",
    "  print(i)"
   ]
  },
  {
   "cell_type": "code",
   "execution_count": null,
   "metadata": {},
   "outputs": [],
   "source": [
    "# Using eval, which mightn't be great.\n",
    "for i in patterns(numbers, operators):\n",
    "  print(f'{i} = {eval(i)}')"
   ]
  }
 ],
 "metadata": {
  "kernelspec": {
   "display_name": "Python 3",
   "language": "python",
   "name": "python3"
  },
  "language_info": {
   "codemirror_mode": {
    "name": "ipython",
    "version": 3
   },
   "file_extension": ".py",
   "mimetype": "text/x-python",
   "name": "python",
   "nbconvert_exporter": "python",
   "pygments_lexer": "ipython3",
   "version": "3.8.5"
  }
 },
 "nbformat": 4,
 "nbformat_minor": 4
}
