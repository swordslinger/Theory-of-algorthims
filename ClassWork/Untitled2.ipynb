{
 "cells": [
  {
   "cell_type": "code",
   "execution_count": 57,
   "metadata": {},
   "outputs": [],
   "source": [
    "import itertools as it"
   ]
  },
  {
   "cell_type": "code",
   "execution_count": 58,
   "metadata": {},
   "outputs": [],
   "source": [
    "# Give all 2-partitions of a list\n",
    "# where each sublist has  one element.\n",
    "def patterns(numbers, operators):\n",
    "  # Check if there is no way to partition further.\n",
    "  if len(numbers) == 1:\n",
    "    yield numbers\n",
    "  # Loop through all the ways to partition L into two non-empty sublists.\n",
    "  for i in range(1, len(numbers)):\n",
    "    # Slice the list using i.\n",
    "    for left, right in it.product(patterns(numbers[:i], operators[1:i]), patterns(numbers[i:], operators[i:])):\n",
    "      # Yield the next operator applied to the sublists.\n",
    "       yield [*left, *right, operators[0]]"
   ]
  },
  {
   "cell_type": "code",
   "execution_count": 59,
   "metadata": {},
   "outputs": [
    {
     "name": "stdout",
     "output_type": "stream",
     "text": [
      "[100, 75, 10, 4, 2, 1, '+', '+', '-', '*', '+']\n",
      "[100, 75, 10, 4, 2, '+', 1, '+', '-', '*', '+']\n",
      "[100, 75, 10, 4, '+', 2, 1, '+', '-', '*', '+']\n",
      "[100, 75, 10, 4, 2, '+', '+', 1, '-', '*', '+']\n",
      "[100, 75, 10, 4, '+', 2, '+', 1, '-', '*', '+']\n",
      "[100, 75, 10, '-', 4, 2, 1, '+', '+', '*', '+']\n",
      "[100, 75, 10, '-', 4, 2, '+', 1, '+', '*', '+']\n",
      "[100, 75, 10, 4, '+', '-', 2, 1, '+', '*', '+']\n",
      "[100, 75, 10, '+', 4, '-', 2, 1, '+', '*', '+']\n",
      "[100, 75, 10, 4, 2, '+', '+', '-', 1, '*', '+']\n",
      "[100, 75, 10, 4, '+', 2, '+', '-', 1, '*', '+']\n",
      "[100, 75, 10, '+', 4, 2, '+', '-', 1, '*', '+']\n",
      "[100, 75, 10, 4, '+', '+', 2, '-', 1, '*', '+']\n",
      "[100, 75, 10, '+', 4, '+', 2, '-', 1, '*', '+']\n",
      "[100, 75, '*', 10, 4, 2, 1, '+', '+', '-', '+']\n",
      "[100, 75, '*', 10, 4, 2, '+', 1, '+', '-', '+']\n",
      "[100, 75, '*', 10, 4, '+', 2, 1, '+', '-', '+']\n",
      "[100, 75, '*', 10, 4, 2, '+', '+', 1, '-', '+']\n",
      "[100, 75, '*', 10, 4, '+', 2, '+', 1, '-', '+']\n",
      "[100, 75, 10, '-', '*', 4, 2, 1, '+', '+', '+']\n",
      "[100, 75, 10, '-', '*', 4, 2, '+', 1, '+', '+']\n",
      "[100, 75, '-', 10, '*', 4, 2, 1, '+', '+', '+']\n",
      "[100, 75, '-', 10, '*', 4, 2, '+', 1, '+', '+']\n",
      "[100, 75, 10, 4, '+', '-', '*', 2, 1, '+', '+']\n",
      "[100, 75, 10, '+', 4, '-', '*', 2, 1, '+', '+']\n",
      "[100, 75, '-', 10, 4, '+', '*', 2, 1, '+', '+']\n",
      "[100, 75, 10, '+', '-', 4, '*', 2, 1, '+', '+']\n",
      "[100, 75, '+', 10, '-', 4, '*', 2, 1, '+', '+']\n",
      "[100, 75, 10, 4, 2, '+', '+', '-', '*', 1, '+']\n",
      "[100, 75, 10, 4, '+', 2, '+', '-', '*', 1, '+']\n",
      "[100, 75, 10, '+', 4, 2, '+', '-', '*', 1, '+']\n",
      "[100, 75, 10, 4, '+', '+', 2, '-', '*', 1, '+']\n",
      "[100, 75, 10, '+', 4, '+', 2, '-', '*', 1, '+']\n",
      "[100, 75, '-', 10, 4, 2, '+', '+', '*', 1, '+']\n",
      "[100, 75, '-', 10, 4, '+', 2, '+', '*', 1, '+']\n",
      "[100, 75, 10, '+', '-', 4, 2, '+', '*', 1, '+']\n",
      "[100, 75, '+', 10, '-', 4, 2, '+', '*', 1, '+']\n",
      "[100, 75, 10, 4, '+', '+', '-', 2, '*', 1, '+']\n",
      "[100, 75, 10, '+', 4, '+', '-', 2, '*', 1, '+']\n",
      "[100, 75, '+', 10, 4, '+', '-', 2, '*', 1, '+']\n",
      "[100, 75, 10, '+', '+', 4, '-', 2, '*', 1, '+']\n",
      "[100, 75, '+', 10, '+', 4, '-', 2, '*', 1, '+']\n"
     ]
    }
   ],
   "source": [
    "# An example list of six numbers.\n",
    "numbers = [100, 75, 10, 4, 2, 1]\n",
    "# Example operators.\n",
    "ops = [operator.add, operator.sub, operator.mul, operator.truediv]\n",
    " #operators = ['+', '*', '-', '+', '+']\n",
    "# Using eval, which mightn't be great.\n",
    "for i in patterns(numbers, operators):\n",
    "  print(i)\n",
    " # print(f'i')"
   ]
  },
  {
   "cell_type": "code",
   "execution_count": 60,
   "metadata": {},
   "outputs": [
    {
     "name": "stdout",
     "output_type": "stream",
     "text": [
      "[100, 75, 10, 4, 2, 1, <built-in function add>, <built-in function add>, <built-in function sub>, <built-in function mul>, <built-in function add>]\n",
      "[100, 75, 10, 4, 2, <built-in function add>, 1, <built-in function add>, <built-in function sub>, <built-in function mul>, <built-in function add>]\n",
      "[100, 75, 10, 4, <built-in function add>, 2, 1, <built-in function add>, <built-in function sub>, <built-in function mul>, <built-in function add>]\n",
      "[100, 75, 10, 4, 2, <built-in function add>, <built-in function add>, 1, <built-in function sub>, <built-in function mul>, <built-in function add>]\n",
      "[100, 75, 10, 4, <built-in function add>, 2, <built-in function add>, 1, <built-in function sub>, <built-in function mul>, <built-in function add>]\n",
      "[100, 75, 10, <built-in function sub>, 4, 2, 1, <built-in function add>, <built-in function add>, <built-in function mul>, <built-in function add>]\n",
      "[100, 75, 10, <built-in function sub>, 4, 2, <built-in function add>, 1, <built-in function add>, <built-in function mul>, <built-in function add>]\n",
      "[100, 75, 10, 4, <built-in function add>, <built-in function sub>, 2, 1, <built-in function add>, <built-in function mul>, <built-in function add>]\n",
      "[100, 75, 10, <built-in function add>, 4, <built-in function sub>, 2, 1, <built-in function add>, <built-in function mul>, <built-in function add>]\n",
      "[100, 75, 10, 4, 2, <built-in function add>, <built-in function add>, <built-in function sub>, 1, <built-in function mul>, <built-in function add>]\n",
      "[100, 75, 10, 4, <built-in function add>, 2, <built-in function add>, <built-in function sub>, 1, <built-in function mul>, <built-in function add>]\n",
      "[100, 75, 10, <built-in function add>, 4, 2, <built-in function add>, <built-in function sub>, 1, <built-in function mul>, <built-in function add>]\n",
      "[100, 75, 10, 4, <built-in function add>, <built-in function add>, 2, <built-in function sub>, 1, <built-in function mul>, <built-in function add>]\n",
      "[100, 75, 10, <built-in function add>, 4, <built-in function add>, 2, <built-in function sub>, 1, <built-in function mul>, <built-in function add>]\n",
      "[100, 75, <built-in function mul>, 10, 4, 2, 1, <built-in function add>, <built-in function add>, <built-in function sub>, <built-in function add>]\n",
      "[100, 75, <built-in function mul>, 10, 4, 2, <built-in function add>, 1, <built-in function add>, <built-in function sub>, <built-in function add>]\n",
      "[100, 75, <built-in function mul>, 10, 4, <built-in function add>, 2, 1, <built-in function add>, <built-in function sub>, <built-in function add>]\n",
      "[100, 75, <built-in function mul>, 10, 4, 2, <built-in function add>, <built-in function add>, 1, <built-in function sub>, <built-in function add>]\n",
      "[100, 75, <built-in function mul>, 10, 4, <built-in function add>, 2, <built-in function add>, 1, <built-in function sub>, <built-in function add>]\n",
      "[100, 75, 10, <built-in function sub>, <built-in function mul>, 4, 2, 1, <built-in function add>, <built-in function add>, <built-in function add>]\n",
      "[100, 75, 10, <built-in function sub>, <built-in function mul>, 4, 2, <built-in function add>, 1, <built-in function add>, <built-in function add>]\n",
      "[100, 75, <built-in function sub>, 10, <built-in function mul>, 4, 2, 1, <built-in function add>, <built-in function add>, <built-in function add>]\n",
      "[100, 75, <built-in function sub>, 10, <built-in function mul>, 4, 2, <built-in function add>, 1, <built-in function add>, <built-in function add>]\n",
      "[100, 75, 10, 4, <built-in function add>, <built-in function sub>, <built-in function mul>, 2, 1, <built-in function add>, <built-in function add>]\n",
      "[100, 75, 10, <built-in function add>, 4, <built-in function sub>, <built-in function mul>, 2, 1, <built-in function add>, <built-in function add>]\n",
      "[100, 75, <built-in function sub>, 10, 4, <built-in function add>, <built-in function mul>, 2, 1, <built-in function add>, <built-in function add>]\n",
      "[100, 75, 10, <built-in function add>, <built-in function sub>, 4, <built-in function mul>, 2, 1, <built-in function add>, <built-in function add>]\n",
      "[100, 75, <built-in function add>, 10, <built-in function sub>, 4, <built-in function mul>, 2, 1, <built-in function add>, <built-in function add>]\n",
      "[100, 75, 10, 4, 2, <built-in function add>, <built-in function add>, <built-in function sub>, <built-in function mul>, 1, <built-in function add>]\n",
      "[100, 75, 10, 4, <built-in function add>, 2, <built-in function add>, <built-in function sub>, <built-in function mul>, 1, <built-in function add>]\n",
      "[100, 75, 10, <built-in function add>, 4, 2, <built-in function add>, <built-in function sub>, <built-in function mul>, 1, <built-in function add>]\n",
      "[100, 75, 10, 4, <built-in function add>, <built-in function add>, 2, <built-in function sub>, <built-in function mul>, 1, <built-in function add>]\n",
      "[100, 75, 10, <built-in function add>, 4, <built-in function add>, 2, <built-in function sub>, <built-in function mul>, 1, <built-in function add>]\n",
      "[100, 75, <built-in function sub>, 10, 4, 2, <built-in function add>, <built-in function add>, <built-in function mul>, 1, <built-in function add>]\n",
      "[100, 75, <built-in function sub>, 10, 4, <built-in function add>, 2, <built-in function add>, <built-in function mul>, 1, <built-in function add>]\n",
      "[100, 75, 10, <built-in function add>, <built-in function sub>, 4, 2, <built-in function add>, <built-in function mul>, 1, <built-in function add>]\n",
      "[100, 75, <built-in function add>, 10, <built-in function sub>, 4, 2, <built-in function add>, <built-in function mul>, 1, <built-in function add>]\n",
      "[100, 75, 10, 4, <built-in function add>, <built-in function add>, <built-in function sub>, 2, <built-in function mul>, 1, <built-in function add>]\n",
      "[100, 75, 10, <built-in function add>, 4, <built-in function add>, <built-in function sub>, 2, <built-in function mul>, 1, <built-in function add>]\n",
      "[100, 75, <built-in function add>, 10, 4, <built-in function add>, <built-in function sub>, 2, <built-in function mul>, 1, <built-in function add>]\n",
      "[100, 75, 10, <built-in function add>, <built-in function add>, 4, <built-in function sub>, 2, <built-in function mul>, 1, <built-in function add>]\n",
      "[100, 75, <built-in function add>, 10, <built-in function add>, 4, <built-in function sub>, 2, <built-in function mul>, 1, <built-in function add>]\n"
     ]
    }
   ],
   "source": [
    "# An example list of six numbers.\n",
    "numbers = [100, 75, 10, 4, 2, 1]\n",
    "# Example operators.\n",
    "operators = [operator.add, operator.mul, operator.sub, operator.add, operator.add]\n",
    "# operators = ['+', '*', '-', '+', '+']\n",
    "# Using eval, which mightn't be great.\n",
    "for i in patterns(numbers, operators):\n",
    "  print(i)"
   ]
  },
  {
   "cell_type": "code",
   "execution_count": 71,
   "metadata": {},
   "outputs": [],
   "source": [
    "# evaluate RPN expression\n",
    "def eval_rpn(rpn):\n",
    "    # A stack\n",
    "    stack = []\n",
    "    # loop through rpn one at a time.\n",
    "    for i in rpn:\n",
    "        # check if its a number.\n",
    "        if isinstance(i, int):\n",
    "            # append to the stack.\n",
    "            stack = stack + [i]\n",
    "        else:\n",
    "            # Pop from stack twice.\n",
    "            right = stack[-1]\n",
    "            stack = stack[:-1]\n",
    "            left = stack[-1]\n",
    "            stack = stack[:-1]\n",
    "            # push operator applied to stack elements.\n",
    "        #should only be one item on stack\n",
    "        return stack[0]\n",
    "            \n",
    "            "
   ]
  },
  {
   "cell_type": "code",
   "execution_count": 72,
   "metadata": {},
   "outputs": [
    {
     "name": "stdout",
     "output_type": "stream",
     "text": [
      "100 [100, 75, 10, 4, 2, 1, <built-in function add>, <built-in function add>, <built-in function sub>, <built-in function mul>, <built-in function add>]\n",
      "100 [100, 75, 10, 4, 2, <built-in function add>, 1, <built-in function add>, <built-in function sub>, <built-in function mul>, <built-in function add>]\n",
      "100 [100, 75, 10, 4, <built-in function add>, 2, 1, <built-in function add>, <built-in function sub>, <built-in function mul>, <built-in function add>]\n",
      "100 [100, 75, 10, 4, 2, <built-in function add>, <built-in function add>, 1, <built-in function sub>, <built-in function mul>, <built-in function add>]\n",
      "100 [100, 75, 10, 4, <built-in function add>, 2, <built-in function add>, 1, <built-in function sub>, <built-in function mul>, <built-in function add>]\n",
      "100 [100, 75, 10, <built-in function sub>, 4, 2, 1, <built-in function add>, <built-in function add>, <built-in function mul>, <built-in function add>]\n",
      "100 [100, 75, 10, <built-in function sub>, 4, 2, <built-in function add>, 1, <built-in function add>, <built-in function mul>, <built-in function add>]\n",
      "100 [100, 75, 10, 4, <built-in function add>, <built-in function sub>, 2, 1, <built-in function add>, <built-in function mul>, <built-in function add>]\n",
      "100 [100, 75, 10, <built-in function add>, 4, <built-in function sub>, 2, 1, <built-in function add>, <built-in function mul>, <built-in function add>]\n",
      "100 [100, 75, 10, 4, 2, <built-in function add>, <built-in function add>, <built-in function sub>, 1, <built-in function mul>, <built-in function add>]\n",
      "100 [100, 75, 10, 4, <built-in function add>, 2, <built-in function add>, <built-in function sub>, 1, <built-in function mul>, <built-in function add>]\n",
      "100 [100, 75, 10, <built-in function add>, 4, 2, <built-in function add>, <built-in function sub>, 1, <built-in function mul>, <built-in function add>]\n",
      "100 [100, 75, 10, 4, <built-in function add>, <built-in function add>, 2, <built-in function sub>, 1, <built-in function mul>, <built-in function add>]\n",
      "100 [100, 75, 10, <built-in function add>, 4, <built-in function add>, 2, <built-in function sub>, 1, <built-in function mul>, <built-in function add>]\n",
      "100 [100, 75, <built-in function mul>, 10, 4, 2, 1, <built-in function add>, <built-in function add>, <built-in function sub>, <built-in function add>]\n",
      "100 [100, 75, <built-in function mul>, 10, 4, 2, <built-in function add>, 1, <built-in function add>, <built-in function sub>, <built-in function add>]\n",
      "100 [100, 75, <built-in function mul>, 10, 4, <built-in function add>, 2, 1, <built-in function add>, <built-in function sub>, <built-in function add>]\n",
      "100 [100, 75, <built-in function mul>, 10, 4, 2, <built-in function add>, <built-in function add>, 1, <built-in function sub>, <built-in function add>]\n",
      "100 [100, 75, <built-in function mul>, 10, 4, <built-in function add>, 2, <built-in function add>, 1, <built-in function sub>, <built-in function add>]\n",
      "100 [100, 75, 10, <built-in function sub>, <built-in function mul>, 4, 2, 1, <built-in function add>, <built-in function add>, <built-in function add>]\n",
      "100 [100, 75, 10, <built-in function sub>, <built-in function mul>, 4, 2, <built-in function add>, 1, <built-in function add>, <built-in function add>]\n",
      "100 [100, 75, <built-in function sub>, 10, <built-in function mul>, 4, 2, 1, <built-in function add>, <built-in function add>, <built-in function add>]\n",
      "100 [100, 75, <built-in function sub>, 10, <built-in function mul>, 4, 2, <built-in function add>, 1, <built-in function add>, <built-in function add>]\n",
      "100 [100, 75, 10, 4, <built-in function add>, <built-in function sub>, <built-in function mul>, 2, 1, <built-in function add>, <built-in function add>]\n",
      "100 [100, 75, 10, <built-in function add>, 4, <built-in function sub>, <built-in function mul>, 2, 1, <built-in function add>, <built-in function add>]\n",
      "100 [100, 75, <built-in function sub>, 10, 4, <built-in function add>, <built-in function mul>, 2, 1, <built-in function add>, <built-in function add>]\n",
      "100 [100, 75, 10, <built-in function add>, <built-in function sub>, 4, <built-in function mul>, 2, 1, <built-in function add>, <built-in function add>]\n",
      "100 [100, 75, <built-in function add>, 10, <built-in function sub>, 4, <built-in function mul>, 2, 1, <built-in function add>, <built-in function add>]\n",
      "100 [100, 75, 10, 4, 2, <built-in function add>, <built-in function add>, <built-in function sub>, <built-in function mul>, 1, <built-in function add>]\n",
      "100 [100, 75, 10, 4, <built-in function add>, 2, <built-in function add>, <built-in function sub>, <built-in function mul>, 1, <built-in function add>]\n",
      "100 [100, 75, 10, <built-in function add>, 4, 2, <built-in function add>, <built-in function sub>, <built-in function mul>, 1, <built-in function add>]\n",
      "100 [100, 75, 10, 4, <built-in function add>, <built-in function add>, 2, <built-in function sub>, <built-in function mul>, 1, <built-in function add>]\n",
      "100 [100, 75, 10, <built-in function add>, 4, <built-in function add>, 2, <built-in function sub>, <built-in function mul>, 1, <built-in function add>]\n",
      "100 [100, 75, <built-in function sub>, 10, 4, 2, <built-in function add>, <built-in function add>, <built-in function mul>, 1, <built-in function add>]\n",
      "100 [100, 75, <built-in function sub>, 10, 4, <built-in function add>, 2, <built-in function add>, <built-in function mul>, 1, <built-in function add>]\n",
      "100 [100, 75, 10, <built-in function add>, <built-in function sub>, 4, 2, <built-in function add>, <built-in function mul>, 1, <built-in function add>]\n",
      "100 [100, 75, <built-in function add>, 10, <built-in function sub>, 4, 2, <built-in function add>, <built-in function mul>, 1, <built-in function add>]\n",
      "100 [100, 75, 10, 4, <built-in function add>, <built-in function add>, <built-in function sub>, 2, <built-in function mul>, 1, <built-in function add>]\n",
      "100 [100, 75, 10, <built-in function add>, 4, <built-in function add>, <built-in function sub>, 2, <built-in function mul>, 1, <built-in function add>]\n",
      "100 [100, 75, <built-in function add>, 10, 4, <built-in function add>, <built-in function sub>, 2, <built-in function mul>, 1, <built-in function add>]\n",
      "100 [100, 75, 10, <built-in function add>, <built-in function add>, 4, <built-in function sub>, 2, <built-in function mul>, 1, <built-in function add>]\n",
      "100 [100, 75, <built-in function add>, 10, <built-in function add>, 4, <built-in function sub>, 2, <built-in function mul>, 1, <built-in function add>]\n"
     ]
    }
   ],
   "source": [
    "# An example list of six numbers.\n",
    "numbers = [100, 75, 10, 4, 2, 1]\n",
    "# Example operators.\n",
    "operators = [operator.add, operator.mul, operator.sub, operator.add, operator.add]\n",
    "# operators = ['+', '*', '-', '+', '+']\n",
    "# Using eval, which mightn't be great.\n",
    "for i in patterns(numbers, operators):\n",
    "    print(eval_rpn(i), i)\n"
   ]
  }
 ],
 "metadata": {
  "kernelspec": {
   "display_name": "Python 3",
   "language": "python",
   "name": "python3"
  },
  "language_info": {
   "codemirror_mode": {
    "name": "ipython",
    "version": 3
   },
   "file_extension": ".py",
   "mimetype": "text/x-python",
   "name": "python",
   "nbconvert_exporter": "python",
   "pygments_lexer": "ipython3",
   "version": "3.8.5"
  }
 },
 "nbformat": 4,
 "nbformat_minor": 4
}
