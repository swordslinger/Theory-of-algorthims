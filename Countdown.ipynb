{
 "cells": [
  {
   "cell_type": "markdown",
   "metadata": {},
   "source": [
    "<h1>Countdown Numbers game<h1>\n",
    "\n",
    "***"
   ]
  },
  {
   "cell_type": "markdown",
   "metadata": {},
   "source": [
    "What is the countdown numbers game [1]?\n",
    "\n",
    "***"
   ]
  },
  {
   "cell_type": "markdown",
   "metadata": {},
   "source": [
    "The count down numbers game was TV show adapted from \"Des chiffres et des lettres\". It consisted of two contestents competeting against each other for 15 rounds that was broken up over 3 stages. The first two stages consisted of letter rounds and number rounds with the final stage consisting of conundrum. letter rounds,number rounds and a final condundrum round. I will briefly skim over the letter and condundrum rounds and dedicate the rest of the time too number round & rules as that is the focus of the notebook."
   ]
  },
  {
   "cell_type": "markdown",
   "metadata": {},
   "source": [
    "The letters roudn consisted of the contestents picking up alternating tiles, one pile being a vowels and the other being  constonants until 9 tiles. They then have 30 seconds too form the longest word they can concieve with the tiles selected.  "
   ]
  },
  {
   "cell_type": "markdown",
   "metadata": {},
   "source": [
    "In the conundrum round the contestents are shown combination of 2/3 words that total 9 letters and then have 30 seconds to make one guess for\n",
    "what the word might be."
   ]
  },
  {
   "cell_type": "markdown",
   "metadata": {},
   "source": [
    "The numbers round:\n",
    "    A contestent chooses six numbers from two piles, the large pile has the numbers 25,50,75 and 100. Any number of numbers can be chosen from     the large pile and the remainder is selected from the small pile."
   ]
  },
  {
   "cell_type": "markdown",
   "metadata": {},
   "source": [
    "The rules for the countdown numbers game:\n",
    "    Rule 1: The only operations allowed on the numbers are multiplication, division, substraction and addition\n",
    "    Rule 2: Negative numbers are not allowed\n",
    "    Rule 3: Fractions are not allowed \n",
    "    Rule 4: A number cannot be used twice, unless there is duplicate in the numbers selected."
   ]
  },
  {
   "cell_type": "markdown",
   "metadata": {},
   "source": [
    "Complexity of the countdown numbers game \n",
    "\n",
    "***"
   ]
  },
  {
   "cell_type": "markdown",
   "metadata": {},
   "source": [
    "On the surface one may see this as a straight forward problem until its made apparent how big the solution space can get."
   ]
  },
  {
   "cell_type": "code",
   "execution_count": 21,
   "metadata": {},
   "outputs": [],
   "source": [
    "import math as m\n",
    "def factorial_11 ():\n",
    "    number_of_combinations = (m.factorial(11))\n",
    "    return number_of_combinations"
   ]
  },
  {
   "cell_type": "code",
   "execution_count": 22,
   "metadata": {},
   "outputs": [
    {
     "data": {
      "text/plain": [
       "39916800"
      ]
     },
     "execution_count": 22,
     "metadata": {},
     "output_type": "execute_result"
    }
   ],
   "source": [
    "factorial_11()"
   ]
  },
  {
   "cell_type": "markdown",
   "metadata": {},
   "source": [
    "Above you can see the possible number combinations for the 6 input numbers with the 5 operators can reach thirty-nine million nine hundred sixteen thousand eight hundred, this is not taking into acccount with the order of the operators differ which would increase the complexity of this problem exponentially. "
   ]
  },
  {
   "cell_type": "markdown",
   "metadata": {},
   "source": [
    "<h2> Solving the countdown numbers game with functional programming <h2>"
   ]
  },
  {
   "cell_type": "code",
   "execution_count": null,
   "metadata": {},
   "outputs": [],
   "source": [
    "import random\n",
    "import operator\n",
    "import itertools as it"
   ]
  },
  {
   "cell_type": "markdown",
   "metadata": {},
   "source": [
    "Game simuation"
   ]
  },
  {
   "cell_type": "code",
   "execution_count": null,
   "metadata": {},
   "outputs": [],
   "source": [
    "# The large numbers\n",
    "large = [20, 50, 75, 100]\n",
    "large"
   ]
  },
  {
   "cell_type": "code",
   "execution_count": null,
   "metadata": {},
   "outputs": [],
   "source": [
    "# The small numbers\n",
    "small = list(range(1, 11)) * 2\n",
    "small"
   ]
  },
  {
   "cell_type": "code",
   "execution_count": null,
   "metadata": {},
   "outputs": [],
   "source": [
    "# the number of large numbers between 0-4 (inclusive)\n",
    "no_large = random.randrange(0,5)\n",
    "no_large"
   ]
  },
  {
   "cell_type": "code",
   "execution_count": null,
   "metadata": {},
   "outputs": [],
   "source": [
    "# Take a sample of random large numbers\n",
    "large_rand = random.sample(large, no_large)\n",
    "large_rand"
   ]
  },
  {
   "cell_type": "code",
   "execution_count": null,
   "metadata": {},
   "outputs": [],
   "source": [
    "# Take a sample (6 - no_large) small numbers at random\n",
    "small_rand = random.sample(small,6 - no_large)\n",
    "small_rand"
   ]
  },
  {
   "cell_type": "code",
   "execution_count": null,
   "metadata": {},
   "outputs": [],
   "source": [
    "# the random input numbers in a list\n",
    "play_nos_0 = large_rand + small_rand\n",
    "play_nos_0"
   ]
  },
  {
   "cell_type": "code",
   "execution_count": null,
   "metadata": {},
   "outputs": [],
   "source": [
    "# Pick a random goal number bounded between two values\n",
    "target_0 = random.randrange(101,1000)\n",
    "target_0"
   ]
  },
  {
   "cell_type": "code",
   "execution_count": null,
   "metadata": {},
   "outputs": [],
   "source": [
    "def new_countdown_game(no_large = None):\n",
    "    \"\"\"\n",
    "        Returns six random numbers and random target number for the countdown game\n",
    "    \"\"\"\n",
    "    # If no_large is None, randomly pick value between 0-4 (inclusive)\n",
    "    if no_large is None:\n",
    "            \n",
    "            # Randomly set the number of large numbers\n",
    "            no_large = random.randrange(0,5)\n",
    "            \n",
    "            # Create the large numbers array\n",
    "            large = [50,75,100,125]\n",
    "            \n",
    "            # select random large numbers\n",
    "            large_rand = random.sample(list(range(1,11)) * 2, 6 - no_large)\n",
    "            \n",
    "            # The playing numbers for operations to b applied too\n",
    "            play_nos = large_rand + small_rand\n",
    "            \n",
    "            # Select a target number bounded between two values\n",
    "            target = random.randrange(101,1000)\n",
    "            \n",
    "            # Return the game with the playing numbers and target value\n",
    "            return play_nos, target\n",
    "            "
   ]
  },
  {
   "cell_type": "code",
   "execution_count": null,
   "metadata": {},
   "outputs": [],
   "source": [
    "# Give all 2-partitions of a list\n",
    "# where each sublist has  one element.\n",
    "def patterns(numbers, operators):\n",
    "    \"\"\"\n",
    "        Returns a generator of all posible cominbations of the elements and operators \n",
    "    \"\"\"\n",
    "  # Check if there is no way to partition further.\n",
    "  if len(numbers) == 1:\n",
    "    yield numbers\n",
    "  # Loop through all the ways to partition L into two non-empty sublists.\n",
    "  for i in range(1, len(numbers)):\n",
    "    # Slice the list using i.\n",
    "    for left, right in it.product(patterns(numbers[:i], operators[1:i]), patterns(numbers[i:], operators[i:])):\n",
    "      # Yield the next operator applied to the sublists.\n",
    "       yield [*left, *right, operators[0]]"
   ]
  },
  {
   "cell_type": "code",
   "execution_count": null,
   "metadata": {},
   "outputs": [],
   "source": [
    "\n",
    "# Example of patterns function.\n",
    "operators = ['+', '*', '-', '+', '+']\n",
    "\n",
    "# Loop over the returned geneartor \n",
    "for i in patterns(play_nos_0, operators):\n",
    "    # printing out of the different possbile combinations for the numbers and operations\n",
    "    print(i)\n"
   ]
  },
  {
   "cell_type": "code",
   "execution_count": null,
   "metadata": {},
   "outputs": [],
   "source": [
    "def eval_rpn(rpn):\n",
    "    \"\"\"\n",
    "        Returns a generator of all posible cominbations of the elements and operators \n",
    "    \"\"\"\n",
    "    # A stack.\n",
    "    stack = []\n",
    "    \n",
    "    # Loop through rpn an item at a time.\n",
    "    for i in rpn:\n",
    "        \n",
    "    # check if its a number\n",
    "        if isinstance(i, int):    \n",
    "            # Append to the stack.\n",
    "            stack = stack + [i]\n",
    "        else:\n",
    "            # Pop from the stack twice.\n",
    "            right = stack[-1]\n",
    "            stack = stack[:-1]\n",
    "            left = stack[-1]\n",
    "            stack = stack[:-1]\n",
    "        \n",
    "            # Push operator applied to stack elements.\n",
    "            stack = stack + [i(left, right)]\n",
    "        \n",
    "    # Should only be one item on the stack.\n",
    "    return stack[0]\n",
    "      "
   ]
  },
  {
   "cell_type": "code",
   "execution_count": null,
   "metadata": {},
   "outputs": [],
   "source": [
    "# An example list of six numbers.\n",
    "numbers = [100, 75, 10, 4, 2, 1]\n",
    "\n",
    "# Example operators.\n",
    "operators = [operator.add, operator.mul, operator.sub, operator.add, operator.add]\n",
    "\n",
    "# loop through the geneartor of possible combinations of elements nad operators\n",
    "for i in patterns(numbers, operators):\n",
    "    # converts to\n",
    "    print(eval_rpn(i), i)"
   ]
  },
  {
   "cell_type": "markdown",
   "metadata": {},
   "source": [
    "how does this code fit into the functional paradigm\n",
    "\n",
    "***"
   ]
  },
  {
   "cell_type": "markdown",
   "metadata": {},
   "source": [
    "What is functional programming and why are we using it?:\n",
    "\n",
    "[2] Functional programming can be described as \"functional programming is a style of programming in which the primary method of c                 computation is the application of functions to arguments.\" Through the use of paramterisation of functions we can see in [3] the               benefits in simple operations such as totaling up list too more complex AI problems. Another feature of functional programming                 is lazy evaulation [4] that expressions are not evaluated into their values is needed.\n",
    "\n",
    "  These two features among many benefits, particualry fit this project as they both accelerate that process of organising and searhcing         through as search base in an effective manner. it also can reduce the lines of code needed to build the same solution which makes for a       much cleaner and easier too read worksapce.\n"
   ]
  },
  {
   "cell_type": "markdown",
   "metadata": {},
   "source": [
    "How is this code functional ?\n",
    "\n",
    "***"
   ]
  },
  {
   "cell_type": "code",
   "execution_count": null,
   "metadata": {},
   "outputs": [],
   "source": [
    "'''\n",
    "def patterns(numbers, operators):\n",
    "\n",
    "   Check if there is no way to partition further.\n",
    "  if len(numbers) == 1:\n",
    "    yield numbers\n",
    "   Loop through all the ways to partition L into two non-empty sublists.\n",
    "  for i in range(1, len(numbers)):\n",
    "    # Slice the list using i.\n",
    "    for left, right in it.product(patterns(numbers[:i], operators[1:i]), patterns(numbers[i:], operators[i:])):\n",
    "       Yield the next operator applied to the sublists.\n",
    "       yield [*left, *right, operators[0]]\n",
    "'''"
   ]
  },
  {
   "cell_type": "markdown",
   "metadata": {},
   "source": [
    "[5] Through the use of itertools we gain access to functional behaviour in python. This libaries provides ways of iterating over loops that more in-line with a functional style and that will more often then not out perform their interpated for loop counter parts. The fact that the patterns function is both being paramterisied in it.product method along with being called within-itself (recursion) coupled with the use of the yield key word which returns a generator function would give clear indication of a functional programing. The itertools methods, and recursion are used to build each of possible pattern out of the input numbers and operators.\n"
   ]
  },
  {
   "cell_type": "markdown",
   "metadata": {},
   "source": [
    "References\n",
    "\n",
    "***"
   ]
  },
  {
   "cell_type": "markdown",
   "metadata": {},
   "source": [
    "[1] https://en.wikipedia.org/wiki/Countdown_(game_show)\n",
    "[2] https://ocw.tudelft.nl/courses/introduction-to-functional-programming\n",
    "[3] https://doi.org/10.1093/comjnl/32.2.98\n",
    "[4] https://en.wikipedia.org/wiki/Lazy_evaluation\n",
    "[5] https://docs.python.org/3/library/itertools.html"
   ]
  }
 ],
 "metadata": {
  "kernelspec": {
   "display_name": "Python 3",
   "language": "python",
   "name": "python3"
  },
  "language_info": {
   "codemirror_mode": {
    "name": "ipython",
    "version": 3
   },
   "file_extension": ".py",
   "mimetype": "text/x-python",
   "name": "python",
   "nbconvert_exporter": "python",
   "pygments_lexer": "ipython3",
   "version": "3.8.5"
  }
 },
 "nbformat": 4,
 "nbformat_minor": 4
}
