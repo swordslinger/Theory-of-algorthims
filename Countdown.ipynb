{
 "cells": [
  {
   "cell_type": "markdown",
   "metadata": {},
   "source": [
    "<h1>Countdown Numbers game<h1>\n",
    "\n",
    "***"
   ]
  },
  {
   "cell_type": "markdown",
   "metadata": {},
   "source": [
    "<h2> Solving the countdown numbers game with functional programming <h2>"
   ]
  },
  {
   "cell_type": "code",
   "execution_count": 1,
   "metadata": {},
   "outputs": [],
   "source": [
    "import random\n",
    "import operator\n",
    "import itertools as it"
   ]
  },
  {
   "cell_type": "markdown",
   "metadata": {},
   "source": [
    "Game simuation"
   ]
  },
  {
   "cell_type": "code",
   "execution_count": 34,
   "metadata": {},
   "outputs": [
    {
     "data": {
      "text/plain": [
       "[50, 75, 100, 125]"
      ]
     },
     "execution_count": 34,
     "metadata": {},
     "output_type": "execute_result"
    }
   ],
   "source": [
    "# The large numbers\n",
    "large = [50, 75, 100, 125]\n",
    "large"
   ]
  },
  {
   "cell_type": "code",
   "execution_count": 35,
   "metadata": {},
   "outputs": [
    {
     "data": {
      "text/plain": [
       "[1, 2, 3, 4, 5, 6, 7, 8, 9, 10, 1, 2, 3, 4, 5, 6, 7, 8, 9, 10]"
      ]
     },
     "execution_count": 35,
     "metadata": {},
     "output_type": "execute_result"
    }
   ],
   "source": [
    "# The small numbers\n",
    "small = list(range(1, 11)) * 2\n",
    "small"
   ]
  },
  {
   "cell_type": "code",
   "execution_count": 36,
   "metadata": {},
   "outputs": [
    {
     "data": {
      "text/plain": [
       "2"
      ]
     },
     "execution_count": 36,
     "metadata": {},
     "output_type": "execute_result"
    }
   ],
   "source": [
    "# the number of large numbers between 0-4 (inclusive)\n",
    "no_large = random.randrange(0,5)\n",
    "no_large"
   ]
  },
  {
   "cell_type": "code",
   "execution_count": 37,
   "metadata": {},
   "outputs": [
    {
     "data": {
      "text/plain": [
       "[75, 50]"
      ]
     },
     "execution_count": 37,
     "metadata": {},
     "output_type": "execute_result"
    }
   ],
   "source": [
    "# Take a sample of random large numbers\n",
    "large_rand = random.sample(large, no_large)\n",
    "large_rand"
   ]
  },
  {
   "cell_type": "code",
   "execution_count": 38,
   "metadata": {},
   "outputs": [
    {
     "data": {
      "text/plain": [
       "[1, 3, 5, 2]"
      ]
     },
     "execution_count": 38,
     "metadata": {},
     "output_type": "execute_result"
    }
   ],
   "source": [
    "# Take a sample (6 - no_large) small numbers at random\n",
    "small_rand = random.sample(small,6 - no_large)\n",
    "small_rand"
   ]
  },
  {
   "cell_type": "code",
   "execution_count": 39,
   "metadata": {},
   "outputs": [
    {
     "data": {
      "text/plain": [
       "[75, 50, 1, 3, 5, 2]"
      ]
     },
     "execution_count": 39,
     "metadata": {},
     "output_type": "execute_result"
    }
   ],
   "source": [
    "# the random input numbers in a list\n",
    "play_nos_0 = large_rand + small_rand\n",
    "play_nos_0"
   ]
  },
  {
   "cell_type": "code",
   "execution_count": 40,
   "metadata": {},
   "outputs": [
    {
     "data": {
      "text/plain": [
       "752"
      ]
     },
     "execution_count": 40,
     "metadata": {},
     "output_type": "execute_result"
    }
   ],
   "source": [
    "# Pick a random goal number bounded between two values\n",
    "target_0 = random.randrange(101,1000)\n",
    "target_0"
   ]
  },
  {
   "cell_type": "code",
   "execution_count": 41,
   "metadata": {},
   "outputs": [],
   "source": [
    "def new_countdown_game(no_large = None):\n",
    "    \"\"\"\n",
    "        Returns six random numbers and random target number for the countdown game\n",
    "    \"\"\"\n",
    "    # If no_large is None, randomly pick value between 0-4 (inclusive)\n",
    "    if no_large is None:\n",
    "            \n",
    "            # Randomly set the number of large numbers\n",
    "            no_large = random.randrange(0,5)\n",
    "            \n",
    "            # Create the large numbers array\n",
    "            large = [50,75,100,125]\n",
    "            \n",
    "            # select random large numbers\n",
    "            large_rand = random.sample(list(range(1,11)) * 2, 6 - no_large)\n",
    "            \n",
    "            # The playing numbers for operations to b applied too\n",
    "            play_nos = large_rand + small_rand\n",
    "            \n",
    "            # Select a target number bounded between two values\n",
    "            target = random.randrange(101,1000)\n",
    "            \n",
    "            # Return the game with the playing numbers and target value\n",
    "            return play_nos, target\n",
    "            "
   ]
  },
  {
   "cell_type": "code",
   "execution_count": 61,
   "metadata": {},
   "outputs": [],
   "source": [
    "# Give all 2-partitions of a list\n",
    "# where each sublist has  one element.\n",
    "def patterns(numbers, operators):\n",
    "    \"\"\"\n",
    "        Returns a generator of all posible cominbations of the elements and operators \n",
    "    \"\"\"\n",
    "  # Check if there is no way to partition further.\n",
    "  if len(numbers) == 1:\n",
    "    yield numbers\n",
    "  # Loop through all the ways to partition L into two non-empty sublists.\n",
    "  for i in range(1, len(numbers)):\n",
    "    # Slice the list using i.\n",
    "    for left, right in it.product(patterns(numbers[:i], operators[1:i]), patterns(numbers[i:], operators[i:])):\n",
    "      # Yield the next operator applied to the sublists.\n",
    "       yield [*left, *right, operators[0]]"
   ]
  },
  {
   "cell_type": "code",
   "execution_count": 62,
   "metadata": {},
   "outputs": [
    {
     "name": "stdout",
     "output_type": "stream",
     "text": [
      "[75, 50, 1, 3, 5, 2, '+', '+', '-', '*', '+']\n",
      "[75, 50, 1, 3, 5, '+', 2, '+', '-', '*', '+']\n",
      "[75, 50, 1, 3, '+', 5, 2, '+', '-', '*', '+']\n",
      "[75, 50, 1, 3, 5, '+', '+', 2, '-', '*', '+']\n",
      "[75, 50, 1, 3, '+', 5, '+', 2, '-', '*', '+']\n",
      "[75, 50, 1, '-', 3, 5, 2, '+', '+', '*', '+']\n",
      "[75, 50, 1, '-', 3, 5, '+', 2, '+', '*', '+']\n",
      "[75, 50, 1, 3, '+', '-', 5, 2, '+', '*', '+']\n",
      "[75, 50, 1, '+', 3, '-', 5, 2, '+', '*', '+']\n",
      "[75, 50, 1, 3, 5, '+', '+', '-', 2, '*', '+']\n",
      "[75, 50, 1, 3, '+', 5, '+', '-', 2, '*', '+']\n",
      "[75, 50, 1, '+', 3, 5, '+', '-', 2, '*', '+']\n",
      "[75, 50, 1, 3, '+', '+', 5, '-', 2, '*', '+']\n",
      "[75, 50, 1, '+', 3, '+', 5, '-', 2, '*', '+']\n",
      "[75, 50, '*', 1, 3, 5, 2, '+', '+', '-', '+']\n",
      "[75, 50, '*', 1, 3, 5, '+', 2, '+', '-', '+']\n",
      "[75, 50, '*', 1, 3, '+', 5, 2, '+', '-', '+']\n",
      "[75, 50, '*', 1, 3, 5, '+', '+', 2, '-', '+']\n",
      "[75, 50, '*', 1, 3, '+', 5, '+', 2, '-', '+']\n",
      "[75, 50, 1, '-', '*', 3, 5, 2, '+', '+', '+']\n",
      "[75, 50, 1, '-', '*', 3, 5, '+', 2, '+', '+']\n",
      "[75, 50, '-', 1, '*', 3, 5, 2, '+', '+', '+']\n",
      "[75, 50, '-', 1, '*', 3, 5, '+', 2, '+', '+']\n",
      "[75, 50, 1, 3, '+', '-', '*', 5, 2, '+', '+']\n",
      "[75, 50, 1, '+', 3, '-', '*', 5, 2, '+', '+']\n",
      "[75, 50, '-', 1, 3, '+', '*', 5, 2, '+', '+']\n",
      "[75, 50, 1, '+', '-', 3, '*', 5, 2, '+', '+']\n",
      "[75, 50, '+', 1, '-', 3, '*', 5, 2, '+', '+']\n",
      "[75, 50, 1, 3, 5, '+', '+', '-', '*', 2, '+']\n",
      "[75, 50, 1, 3, '+', 5, '+', '-', '*', 2, '+']\n",
      "[75, 50, 1, '+', 3, 5, '+', '-', '*', 2, '+']\n",
      "[75, 50, 1, 3, '+', '+', 5, '-', '*', 2, '+']\n",
      "[75, 50, 1, '+', 3, '+', 5, '-', '*', 2, '+']\n",
      "[75, 50, '-', 1, 3, 5, '+', '+', '*', 2, '+']\n",
      "[75, 50, '-', 1, 3, '+', 5, '+', '*', 2, '+']\n",
      "[75, 50, 1, '+', '-', 3, 5, '+', '*', 2, '+']\n",
      "[75, 50, '+', 1, '-', 3, 5, '+', '*', 2, '+']\n",
      "[75, 50, 1, 3, '+', '+', '-', 5, '*', 2, '+']\n",
      "[75, 50, 1, '+', 3, '+', '-', 5, '*', 2, '+']\n",
      "[75, 50, '+', 1, 3, '+', '-', 5, '*', 2, '+']\n",
      "[75, 50, 1, '+', '+', 3, '-', 5, '*', 2, '+']\n",
      "[75, 50, '+', 1, '+', 3, '-', 5, '*', 2, '+']\n"
     ]
    }
   ],
   "source": [
    "\n",
    "# Example of patterns function.\n",
    "operators = ['+', '*', '-', '+', '+']\n",
    "\n",
    "# Loop over the returned geneartor \n",
    "for i in patterns(play_nos_0, operators):\n",
    "    # printing out of the different possbile combinations for the numbers and operations\n",
    "    print(i)\n"
   ]
  },
  {
   "cell_type": "code",
   "execution_count": 75,
   "metadata": {},
   "outputs": [],
   "source": [
    "def eval_rpn(rpn):\n",
    "    \"\"\"\n",
    "        Returns a generator of all posible cominbations of the elements and operators \n",
    "    \"\"\"\n",
    "    # A stack.\n",
    "    stack = []\n",
    "    \n",
    "    # Loop through rpn an item at a time.\n",
    "    for i in rpn:\n",
    "        \n",
    "    # check if its a number\n",
    "        if isinstance(i, int):    \n",
    "            # Append to the stack.\n",
    "            stack = stack + [i]\n",
    "        else:\n",
    "            # Pop from the stack twice.\n",
    "            right = stack[-1]\n",
    "            stack = stack[:-1]\n",
    "            left = stack[-1]\n",
    "            stack = stack[:-1]\n",
    "        \n",
    "            # Push operator applied to stack elements.\n",
    "            stack = stack + [i(left, right)]\n",
    "        \n",
    "    # Should only be one item on the stack.\n",
    "    print(stack[0])\n",
    "    return stack[0]\n",
    "      "
   ]
  },
  {
   "cell_type": "code",
   "execution_count": 73,
   "metadata": {},
   "outputs": [
    {
     "name": "stdout",
     "output_type": "stream",
     "text": [
      "325 [100, 75, 10, 4, 2, 1, <built-in function add>, <built-in function add>, <built-in function sub>, <built-in function mul>, <built-in function add>]\n",
      "325 [100, 75, 10, 4, 2, <built-in function add>, 1, <built-in function add>, <built-in function sub>, <built-in function mul>, <built-in function add>]\n",
      "925 [100, 75, 10, 4, <built-in function add>, 2, 1, <built-in function add>, <built-in function sub>, <built-in function mul>, <built-in function add>]\n",
      "1225 [100, 75, 10, 4, 2, <built-in function add>, <built-in function add>, 1, <built-in function sub>, <built-in function mul>, <built-in function add>]\n",
      "1225 [100, 75, 10, 4, <built-in function add>, 2, <built-in function add>, 1, <built-in function sub>, <built-in function mul>, <built-in function add>]\n",
      "555 [100, 75, 10, <built-in function sub>, 4, 2, 1, <built-in function add>, <built-in function add>, <built-in function mul>, <built-in function add>]\n",
      "555 [100, 75, 10, <built-in function sub>, 4, 2, <built-in function add>, 1, <built-in function add>, <built-in function mul>, <built-in function add>]\n",
      "283 [100, 75, 10, 4, <built-in function add>, <built-in function sub>, 2, 1, <built-in function add>, <built-in function mul>, <built-in function add>]\n",
      "343 [100, 75, 10, <built-in function add>, 4, <built-in function sub>, 2, 1, <built-in function add>, <built-in function mul>, <built-in function add>]\n",
      "159 [100, 75, 10, 4, 2, <built-in function add>, <built-in function add>, <built-in function sub>, 1, <built-in function mul>, <built-in function add>]\n",
      "159 [100, 75, 10, 4, <built-in function add>, 2, <built-in function add>, <built-in function sub>, 1, <built-in function mul>, <built-in function add>]\n",
      "179 [100, 75, 10, <built-in function add>, 4, 2, <built-in function add>, <built-in function sub>, 1, <built-in function mul>, <built-in function add>]\n",
      "187 [100, 75, 10, 4, <built-in function add>, <built-in function add>, 2, <built-in function sub>, 1, <built-in function mul>, <built-in function add>]\n",
      "187 [100, 75, 10, <built-in function add>, 4, <built-in function add>, 2, <built-in function sub>, 1, <built-in function mul>, <built-in function add>]\n",
      "7503 [100, 75, <built-in function mul>, 10, 4, 2, 1, <built-in function add>, <built-in function add>, <built-in function sub>, <built-in function add>]\n",
      "7503 [100, 75, <built-in function mul>, 10, 4, 2, <built-in function add>, 1, <built-in function add>, <built-in function sub>, <built-in function add>]\n",
      "7511 [100, 75, <built-in function mul>, 10, 4, <built-in function add>, 2, 1, <built-in function add>, <built-in function sub>, <built-in function add>]\n",
      "7515 [100, 75, <built-in function mul>, 10, 4, 2, <built-in function add>, <built-in function add>, 1, <built-in function sub>, <built-in function add>]\n",
      "7515 [100, 75, <built-in function mul>, 10, 4, <built-in function add>, 2, <built-in function add>, 1, <built-in function sub>, <built-in function add>]\n",
      "6507 [100, 75, 10, <built-in function sub>, <built-in function mul>, 4, 2, 1, <built-in function add>, <built-in function add>, <built-in function add>]\n",
      "6507 [100, 75, 10, <built-in function sub>, <built-in function mul>, 4, 2, <built-in function add>, 1, <built-in function add>, <built-in function add>]\n",
      "257 [100, 75, <built-in function sub>, 10, <built-in function mul>, 4, 2, 1, <built-in function add>, <built-in function add>, <built-in function add>]\n",
      "257 [100, 75, <built-in function sub>, 10, <built-in function mul>, 4, 2, <built-in function add>, 1, <built-in function add>, <built-in function add>]\n",
      "6103 [100, 75, 10, 4, <built-in function add>, <built-in function sub>, <built-in function mul>, 2, 1, <built-in function add>, <built-in function add>]\n",
      "8103 [100, 75, 10, <built-in function add>, 4, <built-in function sub>, <built-in function mul>, 2, 1, <built-in function add>, <built-in function add>]\n",
      "353 [100, 75, <built-in function sub>, 10, 4, <built-in function add>, <built-in function mul>, 2, 1, <built-in function add>, <built-in function add>]\n",
      "63 [100, 75, 10, <built-in function add>, <built-in function sub>, 4, <built-in function mul>, 2, 1, <built-in function add>, <built-in function add>]\n",
      "663 [100, 75, <built-in function add>, 10, <built-in function sub>, 4, <built-in function mul>, 2, 1, <built-in function add>, <built-in function add>]\n",
      "5901 [100, 75, 10, 4, 2, <built-in function add>, <built-in function add>, <built-in function sub>, <built-in function mul>, 1, <built-in function add>]\n",
      "5901 [100, 75, 10, 4, <built-in function add>, 2, <built-in function add>, <built-in function sub>, <built-in function mul>, 1, <built-in function add>]\n",
      "7901 [100, 75, 10, <built-in function add>, 4, 2, <built-in function add>, <built-in function sub>, <built-in function mul>, 1, <built-in function add>]\n",
      "8701 [100, 75, 10, 4, <built-in function add>, <built-in function add>, 2, <built-in function sub>, <built-in function mul>, 1, <built-in function add>]\n",
      "8701 [100, 75, 10, <built-in function add>, 4, <built-in function add>, 2, <built-in function sub>, <built-in function mul>, 1, <built-in function add>]\n",
      "401 [100, 75, <built-in function sub>, 10, 4, 2, <built-in function add>, <built-in function add>, <built-in function mul>, 1, <built-in function add>]\n",
      "401 [100, 75, <built-in function sub>, 10, 4, <built-in function add>, 2, <built-in function add>, <built-in function mul>, 1, <built-in function add>]\n",
      "91 [100, 75, 10, <built-in function add>, <built-in function sub>, 4, 2, <built-in function add>, <built-in function mul>, 1, <built-in function add>]\n",
      "991 [100, 75, <built-in function add>, 10, <built-in function sub>, 4, 2, <built-in function add>, <built-in function mul>, 1, <built-in function add>]\n",
      "23 [100, 75, 10, 4, <built-in function add>, <built-in function add>, <built-in function sub>, 2, <built-in function mul>, 1, <built-in function add>]\n",
      "23 [100, 75, 10, <built-in function add>, 4, <built-in function add>, <built-in function sub>, 2, <built-in function mul>, 1, <built-in function add>]\n",
      "323 [100, 75, <built-in function add>, 10, 4, <built-in function add>, <built-in function sub>, 2, <built-in function mul>, 1, <built-in function add>]\n",
      "363 [100, 75, 10, <built-in function add>, <built-in function add>, 4, <built-in function sub>, 2, <built-in function mul>, 1, <built-in function add>]\n",
      "363 [100, 75, <built-in function add>, 10, <built-in function add>, 4, <built-in function sub>, 2, <built-in function mul>, 1, <built-in function add>]\n"
     ]
    }
   ],
   "source": [
    "# An example list of six numbers.\n",
    "numbers = [100, 75, 10, 4, 2, 1]\n",
    "\n",
    "# Example operators.\n",
    "operators = [operator.add, operator.mul, operator.sub, operator.add, operator.add]\n",
    "\n",
    "# loop through the geneartor.\n",
    "for i in patterns(numbers, operators):\n",
    "    print(eval_rpn(i), i)"
   ]
  },
  {
   "cell_type": "code",
   "execution_count": null,
   "metadata": {},
   "outputs": [],
   "source": []
  }
 ],
 "metadata": {
  "kernelspec": {
   "display_name": "Python 3",
   "language": "python",
   "name": "python3"
  },
  "language_info": {
   "codemirror_mode": {
    "name": "ipython",
    "version": 3
   },
   "file_extension": ".py",
   "mimetype": "text/x-python",
   "name": "python",
   "nbconvert_exporter": "python",
   "pygments_lexer": "ipython3",
   "version": "3.8.5"
  }
 },
 "nbformat": 4,
 "nbformat_minor": 4
}
