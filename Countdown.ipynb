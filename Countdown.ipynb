{
 "cells": [
  {
   "cell_type": "markdown",
   "metadata": {},
   "source": [
    "<br>\n",
    "\n",
    "# Countdown Numbers game\n",
    "https://docs.python.org/3/library/itertools.html\n",
    "https://learnonline.gmit.ie/course/view.php?id=5197\n",
    "https://docs.python.org/3/\n",
    "***"
   ]
  },
  {
   "cell_type": "markdown",
   "metadata": {},
   "source": [
    "<br>\n",
    "\n",
    "## What is the countdown numbers game ?\n",
    "\n",
    "***"
   ]
  },
  {
   "cell_type": "markdown",
   "metadata": {},
   "source": [
    "[1]The count down numbers game was TV show adapted from \"Des chiffres et des lettres\". It consisted of two contestents competeting against each other for 15 rounds that was broken up over 3 stages. The first two stages consisted of letter rounds and number rounds with the final stage consisting of conundrum. letter rounds,number rounds and a final condundrum round. I will briefly skim over the letter and condundrum rounds and dedicate the rest of the time too number round & rules as that is the focus of the notebook."
   ]
  },
  {
   "cell_type": "markdown",
   "metadata": {},
   "source": [
    "The letters roudn consisted of the contestents picking up alternating tiles, one pile being a vowels and the other being  constonants until 9 tiles. They then have 30 seconds too form the longest word they can concieve with the tiles selected.  "
   ]
  },
  {
   "cell_type": "markdown",
   "metadata": {},
   "source": [
    "In the conundrum round the contestents are shown combination of 2/3 words that total 9 letters and then have 30 seconds to make one guess for\n",
    "what the word might be."
   ]
  },
  {
   "cell_type": "markdown",
   "metadata": {},
   "source": [
    "The numbers round:\n",
    "    A contestent chooses six numbers from two piles, the large pile has the numbers 25,50,75 and 100. Any number of numbers can be chosen from     the large pile and the remainder is selected from the small pile."
   ]
  },
  {
   "cell_type": "markdown",
   "metadata": {},
   "source": [
    "The rules for the countdown numbers game:\n",
    "    Rule 1: The only operations allowed on the numbers are multiplication, division, substraction and addition\n",
    "    Rule 2: Negative numbers are not allowed\n",
    "    Rule 3: Fractions are not allowed \n",
    "    Rule 4: A number cannot be used twice, unless there is duplicate in the numbers selected."
   ]
  },
  {
   "cell_type": "markdown",
   "metadata": {},
   "source": [
    "<br>\n",
    "\n",
    "## Complexity of the countdown numbers game \n",
    "\n",
    "***"
   ]
  },
  {
   "cell_type": "markdown",
   "metadata": {},
   "source": [
    "On the surface one may see this as a straight forward problem until its made apparent how big the solution space can get."
   ]
  },
  {
   "cell_type": "code",
   "execution_count": 5,
   "metadata": {},
   "outputs": [],
   "source": [
    "import math as m\n",
    "def factorial_11 ():\n",
    "    number_of_combinations = (m.factorial(11))\n",
    "    return number_of_combinations"
   ]
  },
  {
   "cell_type": "code",
   "execution_count": 6,
   "metadata": {},
   "outputs": [
    {
     "data": {
      "text/plain": [
       "39916800"
      ]
     },
     "execution_count": 6,
     "metadata": {},
     "output_type": "execute_result"
    }
   ],
   "source": [
    "factorial_11()"
   ]
  },
  {
   "cell_type": "markdown",
   "metadata": {},
   "source": [
    "Above you can see the possible number combinations for the 6 input numbers with the 5 operators can reach thirty-nine million nine hundred sixteen thousand eight hundred, this is not taking into acccount with the order of the operators differ which would increase the complexity of this problem exponentially. "
   ]
  },
  {
   "cell_type": "markdown",
   "metadata": {},
   "source": [
    "<br>\n",
    "\n",
    "### Solving the countdown numbers game with functional programming \n",
    "\n",
    "***"
   ]
  },
  {
   "cell_type": "code",
   "execution_count": 22,
   "metadata": {},
   "outputs": [],
   "source": [
    "# imports \n",
    "import random\n",
    "import operator\n",
    "import itertools as it"
   ]
  },
  {
   "cell_type": "markdown",
   "metadata": {},
   "source": [
    " #### Game simuation"
   ]
  },
  {
   "cell_type": "markdown",
   "metadata": {},
   "source": [
    "This section above is for randomly selecting  a number of large numbers <br>\n",
    "filling the remainder of the input numbers with the small randomly selected numbers  <br>\n",
    "These two are added together to get the playing numbers  <br>\n",
    "The target number is then also randomy generated"
   ]
  },
  {
   "cell_type": "code",
   "execution_count": 19,
   "metadata": {},
   "outputs": [
    {
     "data": {
      "text/plain": [
       "[20, 50, 75, 100]"
      ]
     },
     "execution_count": 19,
     "metadata": {},
     "output_type": "execute_result"
    }
   ],
   "source": [
    "# The large numbers\n",
    "large = [20, 50, 75, 100]\n",
    "large"
   ]
  },
  {
   "cell_type": "code",
   "execution_count": 20,
   "metadata": {},
   "outputs": [
    {
     "data": {
      "text/plain": [
       "[1, 2, 3, 4, 5, 6, 7, 8, 9, 10, 1, 2, 3, 4, 5, 6, 7, 8, 9, 10]"
      ]
     },
     "execution_count": 20,
     "metadata": {},
     "output_type": "execute_result"
    }
   ],
   "source": [
    "# The small numbers\n",
    "small = list(range(1, 11)) * 2\n",
    "small"
   ]
  },
  {
   "cell_type": "code",
   "execution_count": 23,
   "metadata": {},
   "outputs": [
    {
     "data": {
      "text/plain": [
       "2"
      ]
     },
     "execution_count": 23,
     "metadata": {},
     "output_type": "execute_result"
    }
   ],
   "source": [
    "# the number of large numbers between 0-4 (inclusive)\n",
    "no_large = random.randrange(0,5)\n",
    "no_large"
   ]
  },
  {
   "cell_type": "code",
   "execution_count": 24,
   "metadata": {},
   "outputs": [
    {
     "data": {
      "text/plain": [
       "[50, 20]"
      ]
     },
     "execution_count": 24,
     "metadata": {},
     "output_type": "execute_result"
    }
   ],
   "source": [
    "# Take a sample of random large numbers\n",
    "large_rand = random.sample(large, no_large)\n",
    "large_rand"
   ]
  },
  {
   "cell_type": "code",
   "execution_count": 25,
   "metadata": {},
   "outputs": [
    {
     "data": {
      "text/plain": [
       "[1, 7, 5, 10]"
      ]
     },
     "execution_count": 25,
     "metadata": {},
     "output_type": "execute_result"
    }
   ],
   "source": [
    "# Take a sample (6 - no_large) small numbers at random\n",
    "small_rand = random.sample(small,6 - no_large)\n",
    "small_rand"
   ]
  },
  {
   "cell_type": "code",
   "execution_count": 26,
   "metadata": {},
   "outputs": [
    {
     "data": {
      "text/plain": [
       "[50, 20, 1, 7, 5, 10]"
      ]
     },
     "execution_count": 26,
     "metadata": {},
     "output_type": "execute_result"
    }
   ],
   "source": [
    "# the random input numbers in a list\n",
    "play_nos_0 = large_rand + small_rand\n",
    "play_nos_0"
   ]
  },
  {
   "cell_type": "code",
   "execution_count": 27,
   "metadata": {},
   "outputs": [
    {
     "data": {
      "text/plain": [
       "699"
      ]
     },
     "execution_count": 27,
     "metadata": {},
     "output_type": "execute_result"
    }
   ],
   "source": [
    "# Pick a random goal number bounded between two values\n",
    "target_0 = random.randrange(101,1000)\n",
    "target_0"
   ]
  },
  {
   "cell_type": "markdown",
   "metadata": {},
   "source": [
    " #### Game creation"
   ]
  },
  {
   "cell_type": "markdown",
   "metadata": {},
   "source": [
    "This function was created based on the code above to generate instance os the new countdown game, returning the playing numbers and target numbers."
   ]
  },
  {
   "cell_type": "code",
   "execution_count": 11,
   "metadata": {},
   "outputs": [],
   "source": [
    "def new_countdown_game(no_large = None):\n",
    "    \"\"\"\n",
    "        Returns six random numbers and random target number for the countdown game\n",
    "    \"\"\"\n",
    "    # If no_large is None, randomly pick value between 0-4 (inclusive)\n",
    "    if no_large is None:\n",
    "            \n",
    "            # Randomly set the number of large numbers\n",
    "            no_large = random.randrange(0,5)\n",
    "            \n",
    "            # Create the large numbers array\n",
    "            large = [50,75,100,125]\n",
    "            \n",
    "            # select random large numbers\n",
    "            large_rand = random.sample(list(range(1,11)) * 2, 6 - no_large)\n",
    "            \n",
    "            # The playing numbers for operations to b applied too\n",
    "            play_nos = large_rand + small_rand\n",
    "            \n",
    "            # Select a target number bounded between two values\n",
    "            target = random.randrange(101,1000)\n",
    "            \n",
    "            # Return the game with the playing numbers and target value\n",
    "            return play_nos, target\n",
    "            "
   ]
  },
  {
   "cell_type": "markdown",
   "metadata": {},
   "source": [
    " #### Pattern generation"
   ]
  },
  {
   "cell_type": "markdown",
   "metadata": {},
   "source": [
    "This function takes the a list of the input numbers, the string version of the operators\n",
    "ensures its partioneed till it cannot be any further into.\n",
    "Then the input numbers are looped for based on the length(6)\n",
    "then using iter tools we get the carteisan product of the iterator\n",
    "(all possible cominbations/patterns for the input numbers and operators)\n",
    "and unpacking the left & right side, with the different operator order."
   ]
  },
  {
   "cell_type": "code",
   "execution_count": 28,
   "metadata": {},
   "outputs": [],
   "source": [
    "# Give all 2-partitions of a list\n",
    "# where each sublist has  one element.\n",
    "def patterns(numbers, operators):\n",
    "    \"\"\"\n",
    "        Returns a generator of all posible cominbations of the elements and operators \n",
    "    \"\"\"\n",
    "    # Check if there is no way to partition further.\n",
    "    if len(numbers) == 1:\n",
    "        yield numbers\n",
    "    # Loop through all the ways to partition L into two non-empty sublists.\n",
    "    for i in range(1, len(numbers)):\n",
    "        # Slice the list using i.\n",
    "        for left, right in it.product(patterns(numbers[:i], operators[1:i]), patterns(numbers[i:], operators[i:])):\n",
    "              # Yield the next operator applied to the sublists.\n",
    "               yield [*left, *right, operators[0]]"
   ]
  },
  {
   "cell_type": "markdown",
   "metadata": {},
   "source": [
    " #### Pattern generation exampple"
   ]
  },
  {
   "cell_type": "code",
   "execution_count": 31,
   "metadata": {},
   "outputs": [
    {
     "name": "stdout",
     "output_type": "stream",
     "text": [
      "[50, 20, 1, 7, 5, 10, '+', '+', '-', '*', '+']\n",
      "[50, 20, 1, 7, 5, '+', 10, '+', '-', '*', '+']\n",
      "[50, 20, 1, 7, '+', 5, 10, '+', '-', '*', '+']\n",
      "[50, 20, 1, 7, 5, '+', '+', 10, '-', '*', '+']\n",
      "[50, 20, 1, 7, '+', 5, '+', 10, '-', '*', '+']\n",
      "[50, 20, 1, '-', 7, 5, 10, '+', '+', '*', '+']\n",
      "[50, 20, 1, '-', 7, 5, '+', 10, '+', '*', '+']\n",
      "[50, 20, 1, 7, '+', '-', 5, 10, '+', '*', '+']\n",
      "[50, 20, 1, '+', 7, '-', 5, 10, '+', '*', '+']\n",
      "[50, 20, 1, 7, 5, '+', '+', '-', 10, '*', '+']\n",
      "[50, 20, 1, 7, '+', 5, '+', '-', 10, '*', '+']\n",
      "[50, 20, 1, '+', 7, 5, '+', '-', 10, '*', '+']\n",
      "[50, 20, 1, 7, '+', '+', 5, '-', 10, '*', '+']\n",
      "[50, 20, 1, '+', 7, '+', 5, '-', 10, '*', '+']\n",
      "[50, 20, '*', 1, 7, 5, 10, '+', '+', '-', '+']\n",
      "[50, 20, '*', 1, 7, 5, '+', 10, '+', '-', '+']\n",
      "[50, 20, '*', 1, 7, '+', 5, 10, '+', '-', '+']\n",
      "[50, 20, '*', 1, 7, 5, '+', '+', 10, '-', '+']\n",
      "[50, 20, '*', 1, 7, '+', 5, '+', 10, '-', '+']\n",
      "[50, 20, 1, '-', '*', 7, 5, 10, '+', '+', '+']\n",
      "[50, 20, 1, '-', '*', 7, 5, '+', 10, '+', '+']\n",
      "[50, 20, '-', 1, '*', 7, 5, 10, '+', '+', '+']\n",
      "[50, 20, '-', 1, '*', 7, 5, '+', 10, '+', '+']\n",
      "[50, 20, 1, 7, '+', '-', '*', 5, 10, '+', '+']\n",
      "[50, 20, 1, '+', 7, '-', '*', 5, 10, '+', '+']\n",
      "[50, 20, '-', 1, 7, '+', '*', 5, 10, '+', '+']\n",
      "[50, 20, 1, '+', '-', 7, '*', 5, 10, '+', '+']\n",
      "[50, 20, '+', 1, '-', 7, '*', 5, 10, '+', '+']\n",
      "[50, 20, 1, 7, 5, '+', '+', '-', '*', 10, '+']\n",
      "[50, 20, 1, 7, '+', 5, '+', '-', '*', 10, '+']\n",
      "[50, 20, 1, '+', 7, 5, '+', '-', '*', 10, '+']\n",
      "[50, 20, 1, 7, '+', '+', 5, '-', '*', 10, '+']\n",
      "[50, 20, 1, '+', 7, '+', 5, '-', '*', 10, '+']\n",
      "[50, 20, '-', 1, 7, 5, '+', '+', '*', 10, '+']\n",
      "[50, 20, '-', 1, 7, '+', 5, '+', '*', 10, '+']\n",
      "[50, 20, 1, '+', '-', 7, 5, '+', '*', 10, '+']\n",
      "[50, 20, '+', 1, '-', 7, 5, '+', '*', 10, '+']\n",
      "[50, 20, 1, 7, '+', '+', '-', 5, '*', 10, '+']\n",
      "[50, 20, 1, '+', 7, '+', '-', 5, '*', 10, '+']\n",
      "[50, 20, '+', 1, 7, '+', '-', 5, '*', 10, '+']\n",
      "[50, 20, 1, '+', '+', 7, '-', 5, '*', 10, '+']\n",
      "[50, 20, '+', 1, '+', 7, '-', 5, '*', 10, '+']\n"
     ]
    }
   ],
   "source": [
    "\n",
    "# Example of patterns function.\n",
    "operators = ['+', '*', '-', '+', '+']\n",
    "\n",
    "# Loop over the returned geneartor \n",
    "for i in patterns(play_nos_0, operators):\n",
    "    # printing out of the different possbile combinations for the numbers and operations\n",
    "    print(i)\n"
   ]
  },
  {
   "cell_type": "code",
   "execution_count": 33,
   "metadata": {},
   "outputs": [],
   "source": [
    "def eval_rpn(rpn):\n",
    "    \"\"\"\n",
    "        takes the pattern generated above and converts it to reverse polish notation\n",
    "    \"\"\"\n",
    "    # A stack.\n",
    "    stack = []\n",
    "    \n",
    "    # Loop through rpn an item at a time.\n",
    "    for i in rpn:\n",
    "        \n",
    "    # check if its a number\n",
    "        if isinstance(i, int):    \n",
    "            # Append to the stack.\n",
    "            stack = stack + [i]\n",
    "        else:\n",
    "            # Pop from the stack twice.\n",
    "            right = stack[-1]\n",
    "            stack = stack[:-1]\n",
    "            left = stack[-1]\n",
    "            stack = stack[:-1]\n",
    "        \n",
    "            # Push operator applied to stack elements.\n",
    "            stack = stack + [i(left, right)]\n",
    "        \n",
    "    # Should only be one item on the stack.\n",
    "    return stack[0]\n",
    "      "
   ]
  },
  {
   "cell_type": "code",
   "execution_count": 34,
   "metadata": {},
   "outputs": [
    {
     "name": "stdout",
     "output_type": "stream",
     "text": [
      "325 [100, 75, 10, 4, 2, 1, <built-in function add>, <built-in function add>, <built-in function sub>, <built-in function mul>, <built-in function add>]\n",
      "325 [100, 75, 10, 4, 2, <built-in function add>, 1, <built-in function add>, <built-in function sub>, <built-in function mul>, <built-in function add>]\n",
      "925 [100, 75, 10, 4, <built-in function add>, 2, 1, <built-in function add>, <built-in function sub>, <built-in function mul>, <built-in function add>]\n",
      "1225 [100, 75, 10, 4, 2, <built-in function add>, <built-in function add>, 1, <built-in function sub>, <built-in function mul>, <built-in function add>]\n",
      "1225 [100, 75, 10, 4, <built-in function add>, 2, <built-in function add>, 1, <built-in function sub>, <built-in function mul>, <built-in function add>]\n",
      "555 [100, 75, 10, <built-in function sub>, 4, 2, 1, <built-in function add>, <built-in function add>, <built-in function mul>, <built-in function add>]\n",
      "555 [100, 75, 10, <built-in function sub>, 4, 2, <built-in function add>, 1, <built-in function add>, <built-in function mul>, <built-in function add>]\n",
      "283 [100, 75, 10, 4, <built-in function add>, <built-in function sub>, 2, 1, <built-in function add>, <built-in function mul>, <built-in function add>]\n",
      "343 [100, 75, 10, <built-in function add>, 4, <built-in function sub>, 2, 1, <built-in function add>, <built-in function mul>, <built-in function add>]\n",
      "159 [100, 75, 10, 4, 2, <built-in function add>, <built-in function add>, <built-in function sub>, 1, <built-in function mul>, <built-in function add>]\n",
      "159 [100, 75, 10, 4, <built-in function add>, 2, <built-in function add>, <built-in function sub>, 1, <built-in function mul>, <built-in function add>]\n",
      "179 [100, 75, 10, <built-in function add>, 4, 2, <built-in function add>, <built-in function sub>, 1, <built-in function mul>, <built-in function add>]\n",
      "187 [100, 75, 10, 4, <built-in function add>, <built-in function add>, 2, <built-in function sub>, 1, <built-in function mul>, <built-in function add>]\n",
      "187 [100, 75, 10, <built-in function add>, 4, <built-in function add>, 2, <built-in function sub>, 1, <built-in function mul>, <built-in function add>]\n",
      "7503 [100, 75, <built-in function mul>, 10, 4, 2, 1, <built-in function add>, <built-in function add>, <built-in function sub>, <built-in function add>]\n",
      "7503 [100, 75, <built-in function mul>, 10, 4, 2, <built-in function add>, 1, <built-in function add>, <built-in function sub>, <built-in function add>]\n",
      "7511 [100, 75, <built-in function mul>, 10, 4, <built-in function add>, 2, 1, <built-in function add>, <built-in function sub>, <built-in function add>]\n",
      "7515 [100, 75, <built-in function mul>, 10, 4, 2, <built-in function add>, <built-in function add>, 1, <built-in function sub>, <built-in function add>]\n",
      "7515 [100, 75, <built-in function mul>, 10, 4, <built-in function add>, 2, <built-in function add>, 1, <built-in function sub>, <built-in function add>]\n",
      "6507 [100, 75, 10, <built-in function sub>, <built-in function mul>, 4, 2, 1, <built-in function add>, <built-in function add>, <built-in function add>]\n",
      "6507 [100, 75, 10, <built-in function sub>, <built-in function mul>, 4, 2, <built-in function add>, 1, <built-in function add>, <built-in function add>]\n",
      "257 [100, 75, <built-in function sub>, 10, <built-in function mul>, 4, 2, 1, <built-in function add>, <built-in function add>, <built-in function add>]\n",
      "257 [100, 75, <built-in function sub>, 10, <built-in function mul>, 4, 2, <built-in function add>, 1, <built-in function add>, <built-in function add>]\n",
      "6103 [100, 75, 10, 4, <built-in function add>, <built-in function sub>, <built-in function mul>, 2, 1, <built-in function add>, <built-in function add>]\n",
      "8103 [100, 75, 10, <built-in function add>, 4, <built-in function sub>, <built-in function mul>, 2, 1, <built-in function add>, <built-in function add>]\n",
      "353 [100, 75, <built-in function sub>, 10, 4, <built-in function add>, <built-in function mul>, 2, 1, <built-in function add>, <built-in function add>]\n",
      "63 [100, 75, 10, <built-in function add>, <built-in function sub>, 4, <built-in function mul>, 2, 1, <built-in function add>, <built-in function add>]\n",
      "663 [100, 75, <built-in function add>, 10, <built-in function sub>, 4, <built-in function mul>, 2, 1, <built-in function add>, <built-in function add>]\n",
      "5901 [100, 75, 10, 4, 2, <built-in function add>, <built-in function add>, <built-in function sub>, <built-in function mul>, 1, <built-in function add>]\n",
      "5901 [100, 75, 10, 4, <built-in function add>, 2, <built-in function add>, <built-in function sub>, <built-in function mul>, 1, <built-in function add>]\n",
      "7901 [100, 75, 10, <built-in function add>, 4, 2, <built-in function add>, <built-in function sub>, <built-in function mul>, 1, <built-in function add>]\n",
      "8701 [100, 75, 10, 4, <built-in function add>, <built-in function add>, 2, <built-in function sub>, <built-in function mul>, 1, <built-in function add>]\n",
      "8701 [100, 75, 10, <built-in function add>, 4, <built-in function add>, 2, <built-in function sub>, <built-in function mul>, 1, <built-in function add>]\n",
      "401 [100, 75, <built-in function sub>, 10, 4, 2, <built-in function add>, <built-in function add>, <built-in function mul>, 1, <built-in function add>]\n",
      "401 [100, 75, <built-in function sub>, 10, 4, <built-in function add>, 2, <built-in function add>, <built-in function mul>, 1, <built-in function add>]\n",
      "91 [100, 75, 10, <built-in function add>, <built-in function sub>, 4, 2, <built-in function add>, <built-in function mul>, 1, <built-in function add>]\n",
      "991 [100, 75, <built-in function add>, 10, <built-in function sub>, 4, 2, <built-in function add>, <built-in function mul>, 1, <built-in function add>]\n",
      "23 [100, 75, 10, 4, <built-in function add>, <built-in function add>, <built-in function sub>, 2, <built-in function mul>, 1, <built-in function add>]\n",
      "23 [100, 75, 10, <built-in function add>, 4, <built-in function add>, <built-in function sub>, 2, <built-in function mul>, 1, <built-in function add>]\n",
      "323 [100, 75, <built-in function add>, 10, 4, <built-in function add>, <built-in function sub>, 2, <built-in function mul>, 1, <built-in function add>]\n",
      "363 [100, 75, 10, <built-in function add>, <built-in function add>, 4, <built-in function sub>, 2, <built-in function mul>, 1, <built-in function add>]\n",
      "363 [100, 75, <built-in function add>, 10, <built-in function add>, 4, <built-in function sub>, 2, <built-in function mul>, 1, <built-in function add>]\n"
     ]
    }
   ],
   "source": [
    "# An example list of six numbers.\n",
    "numbers = [100, 75, 10, 4, 2, 1]\n",
    "\n",
    "# Example operators.\n",
    "operators = [operator.add, operator.mul, operator.sub, operator.add, operator.add]\n",
    "\n",
    "# loop through the geneartor of possible combinations of elements nad operators\n",
    "for i in patterns(numbers, operators):\n",
    "    # converts to\n",
    "    print(eval_rpn(i), i)"
   ]
  },
  {
   "cell_type": "markdown",
   "metadata": {},
   "source": [
    "<br>\n",
    "\n",
    "### how does this code fit into the functional paradigm\n",
    "\n",
    "***"
   ]
  },
  {
   "cell_type": "markdown",
   "metadata": {},
   "source": [
    "\n",
    "\n",
    "<br>\n",
    "\n",
    "#### What is functional programming and why are we using it?:\n",
    "\n",
    "***\n"
   ]
  },
  {
   "cell_type": "markdown",
   "metadata": {},
   "source": [
    "\n",
    "[2] Functional programming can be described as \"functional programming is a style of programming in which the primary method of c                 computation is the application of functions to arguments.\" Through the use of paramterisation of functions we can see in [3] the               benefits in simple operations such as totaling up list too more complex AI problems. Another feature of functional programming                 is lazy evaulation [4] that expressions are not evaluated into their values is needed.\n",
    "\n",
    "  These two features among many benefits, particualry fit this project as they both accelerate that process of organising and searhcing         through as search base in an effective manner. it also can reduce the lines of code needed to build the same solution which makes for a       much cleaner and easier too read worksapce."
   ]
  },
  {
   "cell_type": "markdown",
   "metadata": {},
   "source": [
    "<br>\n",
    "\n",
    "#### How is this code functional ?\n",
    "\n",
    "***"
   ]
  },
  {
   "cell_type": "code",
   "execution_count": null,
   "metadata": {},
   "outputs": [],
   "source": [
    "'''\n",
    "def patterns(numbers, operators):\n",
    "\n",
    "   Check if there is no way to partition further.\n",
    "  if len(numbers) == 1:\n",
    "    yield numbers\n",
    "   Loop through all the ways to partition L into two non-empty sublists.\n",
    "  for i in range(1, len(numbers)):\n",
    "    # Slice the list using i.\n",
    "    for left, right in it.product(patterns(numbers[:i], operators[1:i]), patterns(numbers[i:], operators[i:])):\n",
    "       Yield the next operator applied to the sublists.\n",
    "       yield [*left, *right, operators[0]]\n",
    "'''"
   ]
  },
  {
   "cell_type": "markdown",
   "metadata": {},
   "source": [
    "[5] Through the use of itertools we gain access to functional behaviour in python. This libaries provides ways of iterating over loops that more in-line with a functional style and that will more often then not out perform their interpated for loop counter parts. The fact that the patterns function is both being paramterisied in it.product method along with being called within-itself (recursion) coupled with the use of the yield key word which returns a generator function would give clear indication of a functional programing. The itertools methods, and recursion are used to build each of possible pattern out of the input numbers and operators."
   ]
  },
  {
   "cell_type": "markdown",
   "metadata": {},
   "source": [
    "<br>\n",
    "\n",
    "### References\n",
    "\n",
    "***"
   ]
  },
  {
   "cell_type": "markdown",
   "metadata": {},
   "source": [
    "[1] https://en.wikipedia.org/wiki/Countdown_(game_show)  <br>\n",
    "[2] https://ocw.tudelft.nl/courses/introduction-to-functional-programming <br>\n",
    "[3] https://doi.org/10.1093/comjnl/32.2.98 <br>\n",
    "[4] https://en.wikipedia.org/wiki/Lazy_evaluation <br>\n",
    "[5] https://docs.python.org/3/library/itertools.html <br>"
   ]
  }
 ],
 "metadata": {
  "kernelspec": {
   "display_name": "Python 3",
   "language": "python",
   "name": "python3"
  },
  "language_info": {
   "codemirror_mode": {
    "name": "ipython",
    "version": 3
   },
   "file_extension": ".py",
   "mimetype": "text/x-python",
   "name": "python",
   "nbconvert_exporter": "python",
   "pygments_lexer": "ipython3",
   "version": "3.8.5"
  }
 },
 "nbformat": 4,
 "nbformat_minor": 4
}
